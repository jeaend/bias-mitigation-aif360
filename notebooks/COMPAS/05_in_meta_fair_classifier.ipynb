{
 "cells": [
  {
   "cell_type": "markdown",
   "id": "d53b8bcc",
   "metadata": {},
   "source": [
    "## Inprocessing - Meta Fair Classifier  -  Compas Model\n",
    "- for 'sex' and 'race'"
   ]
  },
  {
   "cell_type": "code",
   "execution_count": 5,
   "id": "a779c2d9",
   "metadata": {},
   "outputs": [],
   "source": [
    "import sys\n",
    "import os\n",
    "\n",
    "project_root = os.path.abspath(os.path.join(os.getcwd(), \"../..\"))\n",
    "sys.path.insert(0, project_root)\n",
    "\n",
    "import pandas as pd\n",
    "from src.data_loading import load_compas_sex, load_compas_race\n",
    "from src.modeling import meta_fair_classifier_train_and_predict\n",
    "from src.metrics import compute_metrics, compare_viz_metrics_2x3, save_agg_metrics, save_raw_metrics\n",
    "from sklearn.model_selection import StratifiedShuffleSplit\n",
    "import pandas as pd"
   ]
  },
  {
   "cell_type": "code",
   "execution_count": 6,
   "id": "d29cb997",
   "metadata": {},
   "outputs": [],
   "source": [
    "dataset_name = 'compas'\n",
    "mitigation_name   = 'meta fair classifier'\n",
    "pipeline_stage    = 'inprocessing'  \n",
    "out_dir_plots    = '../../reports/plots_compas'"
   ]
  },
  {
   "cell_type": "code",
   "execution_count": 7,
   "id": "e287ef8a",
   "metadata": {},
   "outputs": [],
   "source": [
    "baseline_race_agg = pd.read_csv('../../reports/baseline_agg/compas_race_metrics_agg.csv', index_col=0)\n",
    "baseline_sex_agg = pd.read_csv('../../reports/baseline_agg/compas_sex_metrics_agg.csv', index_col=0)"
   ]
  },
  {
   "cell_type": "markdown",
   "id": "a450c852",
   "metadata": {},
   "source": [
    "--------------------------------------------------------------------------------------------------------------------------------------"
   ]
  },
  {
   "cell_type": "markdown",
   "id": "c785d3da",
   "metadata": {},
   "source": [
    "## default MFC, race"
   ]
  },
  {
   "cell_type": "code",
   "execution_count": 8,
   "id": "4efb8110",
   "metadata": {},
   "outputs": [
    {
     "name": "stderr",
     "output_type": "stream",
     "text": [
      "/opt/anaconda3/lib/python3.11/site-packages/aif360/algorithms/inprocessing/celisMeta/StatisticalRate.py:36: RuntimeWarning: invalid value encountered in divide\n",
      "  prob_y_1 = (prob_1_1 + prob_1_0) / total\n",
      "/opt/anaconda3/lib/python3.11/site-packages/aif360/algorithms/inprocessing/celisMeta/StatisticalRate.py:37: RuntimeWarning: invalid value encountered in divide\n",
      "  prob_z_0 = (prob_m1_0 + prob_1_0) / total\n",
      "/opt/anaconda3/lib/python3.11/site-packages/aif360/algorithms/inprocessing/celisMeta/StatisticalRate.py:38: RuntimeWarning: invalid value encountered in divide\n",
      "  prob_z_1 = (prob_m1_1 + prob_1_1) / total\n"
     ]
    },
    {
     "ename": "TypeError",
     "evalue": "cannot unpack non-iterable NoneType object",
     "output_type": "error",
     "traceback": [
      "\u001b[0;31m---------------------------------------------------------------------------\u001b[0m",
      "\u001b[0;31mTypeError\u001b[0m                                 Traceback (most recent call last)",
      "Cell \u001b[0;32mIn[8], line 16\u001b[0m\n\u001b[1;32m     14\u001b[0m results \u001b[38;5;241m=\u001b[39m []\n\u001b[1;32m     15\u001b[0m \u001b[38;5;28;01mfor\u001b[39;00m i, (train_idx, test_idx) \u001b[38;5;129;01min\u001b[39;00m \u001b[38;5;28menumerate\u001b[39m(sss\u001b[38;5;241m.\u001b[39msplit(df, df[\u001b[38;5;124m'\u001b[39m\u001b[38;5;124mlabel\u001b[39m\u001b[38;5;124m'\u001b[39m])):\n\u001b[0;32m---> 16\u001b[0m     test_df, y_test, y_pred \u001b[38;5;241m=\u001b[39m meta_fair_classifier_train_and_predict(\n\u001b[1;32m     17\u001b[0m         df,\n\u001b[1;32m     18\u001b[0m         train_idx,\n\u001b[1;32m     19\u001b[0m         test_idx,\n\u001b[1;32m     20\u001b[0m         protected,\n\u001b[1;32m     21\u001b[0m         privileged_value,\n\u001b[1;32m     22\u001b[0m         unprivileged_value,\n\u001b[1;32m     23\u001b[0m         favorable,\n\u001b[1;32m     24\u001b[0m         unfavorable) \n\u001b[1;32m     26\u001b[0m     m \u001b[38;5;241m=\u001b[39m compute_metrics(\n\u001b[1;32m     27\u001b[0m         test_df, y_test, y_pred,\n\u001b[1;32m     28\u001b[0m         protected, privileged_value, unprivileged_value\n\u001b[1;32m     29\u001b[0m     )\n\u001b[1;32m     30\u001b[0m     results\u001b[38;5;241m.\u001b[39mappend(m)\n",
      "File \u001b[0;32m~/Documents/EDUCATION/MASTER/Thesis/bias-mitigation-aif360/src/modeling.py:179\u001b[0m, in \u001b[0;36mmeta_fair_classifier_train_and_predict\u001b[0;34m(df, train_idx, test_idx, protected, privileged_value, unprivileged_value, favorable_label, unfavorable_label)\u001b[0m\n\u001b[1;32m    171\u001b[0m mfc \u001b[38;5;241m=\u001b[39m MetaFairClassifier(\n\u001b[1;32m    172\u001b[0m     tau\u001b[38;5;241m=\u001b[39m\u001b[38;5;241m0.5\u001b[39m,\n\u001b[1;32m    173\u001b[0m     sensitive_attr\u001b[38;5;241m=\u001b[39mprotected,\n\u001b[1;32m    174\u001b[0m     \u001b[38;5;28mtype\u001b[39m\u001b[38;5;241m=\u001b[39m\u001b[38;5;124m'\u001b[39m\u001b[38;5;124msr\u001b[39m\u001b[38;5;124m'\u001b[39m,   \u001b[38;5;66;03m# 'sr' = statistical‐rate (demographic parity)\u001b[39;00m\n\u001b[1;32m    175\u001b[0m     seed\u001b[38;5;241m=\u001b[39m\u001b[38;5;241m42\u001b[39m\n\u001b[1;32m    176\u001b[0m )\n\u001b[1;32m    178\u001b[0m \u001b[38;5;66;03m# 7) Train on the AIF360 training dataset\u001b[39;00m\n\u001b[0;32m--> 179\u001b[0m mfc\u001b[38;5;241m.\u001b[39mfit(train_bld)\n\u001b[1;32m    181\u001b[0m \u001b[38;5;66;03m# 8) Predict on the AIF360 test dataset\u001b[39;00m\n\u001b[1;32m    182\u001b[0m pred_bld \u001b[38;5;241m=\u001b[39m mfc\u001b[38;5;241m.\u001b[39mpredict(test_bld)\n",
      "File \u001b[0;32m/opt/anaconda3/lib/python3.11/site-packages/aif360/algorithms/transformer.py:27\u001b[0m, in \u001b[0;36maddmetadata.<locals>.wrapper\u001b[0;34m(self, *args, **kwargs)\u001b[0m\n\u001b[1;32m     25\u001b[0m \u001b[38;5;129m@wraps\u001b[39m(func)\n\u001b[1;32m     26\u001b[0m \u001b[38;5;28;01mdef\u001b[39;00m \u001b[38;5;21mwrapper\u001b[39m(\u001b[38;5;28mself\u001b[39m, \u001b[38;5;241m*\u001b[39margs, \u001b[38;5;241m*\u001b[39m\u001b[38;5;241m*\u001b[39mkwargs):\n\u001b[0;32m---> 27\u001b[0m     new_dataset \u001b[38;5;241m=\u001b[39m func(\u001b[38;5;28mself\u001b[39m, \u001b[38;5;241m*\u001b[39margs, \u001b[38;5;241m*\u001b[39m\u001b[38;5;241m*\u001b[39mkwargs)\n\u001b[1;32m     28\u001b[0m     \u001b[38;5;28;01mif\u001b[39;00m \u001b[38;5;28misinstance\u001b[39m(new_dataset, Dataset):\n\u001b[1;32m     29\u001b[0m         new_dataset\u001b[38;5;241m.\u001b[39mmetadata \u001b[38;5;241m=\u001b[39m new_dataset\u001b[38;5;241m.\u001b[39mmetadata\u001b[38;5;241m.\u001b[39mcopy()\n",
      "File \u001b[0;32m/opt/anaconda3/lib/python3.11/site-packages/aif360/algorithms/inprocessing/meta_fair_classifier.py:66\u001b[0m, in \u001b[0;36mMetaFairClassifier.fit\u001b[0;34m(self, dataset)\u001b[0m\n\u001b[1;32m     59\u001b[0m y_train \u001b[38;5;241m=\u001b[39m np\u001b[38;5;241m.\u001b[39mwhere(dataset\u001b[38;5;241m.\u001b[39mlabels\u001b[38;5;241m.\u001b[39mflatten() \u001b[38;5;241m==\u001b[39m dataset\u001b[38;5;241m.\u001b[39mfavorable_label,\n\u001b[1;32m     60\u001b[0m                    \u001b[38;5;241m1\u001b[39m, \u001b[38;5;241m-\u001b[39m\u001b[38;5;241m1\u001b[39m)\n\u001b[1;32m     61\u001b[0m x_control_train \u001b[38;5;241m=\u001b[39m np\u001b[38;5;241m.\u001b[39mwhere(\n\u001b[1;32m     62\u001b[0m         np\u001b[38;5;241m.\u001b[39misin(dataset\u001b[38;5;241m.\u001b[39mprotected_attributes[:, sens_idx],\n\u001b[1;32m     63\u001b[0m                 dataset\u001b[38;5;241m.\u001b[39mprivileged_protected_attributes[sens_idx]),\n\u001b[1;32m     64\u001b[0m         \u001b[38;5;241m1\u001b[39m, \u001b[38;5;241m0\u001b[39m)\n\u001b[0;32m---> 66\u001b[0m \u001b[38;5;28mself\u001b[39m\u001b[38;5;241m.\u001b[39mmodel \u001b[38;5;241m=\u001b[39m \u001b[38;5;28mself\u001b[39m\u001b[38;5;241m.\u001b[39mobj\u001b[38;5;241m.\u001b[39mgetModel(\u001b[38;5;28mself\u001b[39m\u001b[38;5;241m.\u001b[39mtau, x_train, y_train,\n\u001b[1;32m     67\u001b[0m     x_control_train, \u001b[38;5;28mself\u001b[39m\u001b[38;5;241m.\u001b[39mseed)\n\u001b[1;32m     69\u001b[0m \u001b[38;5;28;01mreturn\u001b[39;00m \u001b[38;5;28mself\u001b[39m\n",
      "File \u001b[0;32m/opt/anaconda3/lib/python3.11/site-packages/aif360/algorithms/inprocessing/celisMeta/General.py:99\u001b[0m, in \u001b[0;36mGeneral.getModel\u001b[0;34m(self, tau, X, y, sens, random_state)\u001b[0m\n\u001b[1;32m     96\u001b[0m samples \u001b[38;5;241m=\u001b[39m dist_x\u001b[38;5;241m.\u001b[39mrvs(size\u001b[38;5;241m=\u001b[39m\u001b[38;5;241m20\u001b[39m)  \u001b[38;5;66;03m# TODO: why 20?\u001b[39;00m\n\u001b[1;32m     97\u001b[0m params \u001b[38;5;241m=\u001b[39m \u001b[38;5;28mself\u001b[39m\u001b[38;5;241m.\u001b[39mgradientDescent(dist, a, b, samples, z_1)\n\u001b[0;32m---> 99\u001b[0m t \u001b[38;5;241m=\u001b[39m \u001b[38;5;28mself\u001b[39m\u001b[38;5;241m.\u001b[39mgetValueForX(dist, a, b, params, z_1, X)\n\u001b[1;32m    100\u001b[0m y_pred \u001b[38;5;241m=\u001b[39m np\u001b[38;5;241m.\u001b[39mwhere(t \u001b[38;5;241m>\u001b[39m \u001b[38;5;241m0\u001b[39m, \u001b[38;5;241m1\u001b[39m, \u001b[38;5;241m-\u001b[39m\u001b[38;5;241m1\u001b[39m)\n\u001b[1;32m    102\u001b[0m acc \u001b[38;5;241m=\u001b[39m accuracy_score(y, y_pred)\n",
      "File \u001b[0;32m/opt/anaconda3/lib/python3.11/site-packages/aif360/algorithms/inprocessing/celisMeta/StatisticalRate.py:23\u001b[0m, in \u001b[0;36mStatisticalRate.getValueForX\u001b[0;34m(self, dist, a, b, params, z_prior, x, return_cs)\u001b[0m\n\u001b[1;32m     22\u001b[0m \u001b[38;5;28;01mdef\u001b[39;00m \u001b[38;5;21mgetValueForX\u001b[39m(\u001b[38;5;28mself\u001b[39m, dist, a, b, params, z_prior, x, return_cs\u001b[38;5;241m=\u001b[39m\u001b[38;5;28;01mFalse\u001b[39;00m):\n\u001b[0;32m---> 23\u001b[0m     l_1, l_2 \u001b[38;5;241m=\u001b[39m params\n\u001b[1;32m     24\u001b[0m     z_0, z_1 \u001b[38;5;241m=\u001b[39m \u001b[38;5;241m1\u001b[39m\u001b[38;5;241m-\u001b[39mz_prior, z_prior\n\u001b[1;32m     26\u001b[0m     pos \u001b[38;5;241m=\u001b[39m np\u001b[38;5;241m.\u001b[39mones(\u001b[38;5;28mlen\u001b[39m(x))\n",
      "\u001b[0;31mTypeError\u001b[0m: cannot unpack non-iterable NoneType object"
     ]
    }
   ],
   "source": [
    "# 1) Retrieve data\n",
    "protected           = 'race'\n",
    "privileged_value    = 0.0\n",
    "unprivileged_value  = 1.0\n",
    "\n",
    "ds, df = load_compas_race()  \n",
    "favorable = ds.favorable_label      # COMPAS: 0.0\n",
    "unfavorable = ds.unfavorable_label  # COMPAS: 1.0\n",
    "feature_cols = [c for c in df.columns if c not in ('label','race')]\n",
    "\n",
    "# 2) Run experiment, Evaluate\n",
    "sss = StratifiedShuffleSplit(n_splits=25, test_size=0.2, random_state=42)\n",
    "\n",
    "results = []\n",
    "for i, (train_idx, test_idx) in enumerate(sss.split(df, df['label'])):\n",
    "    test_df, y_test, y_pred = meta_fair_classifier_train_and_predict(\n",
    "        df,\n",
    "        train_idx,\n",
    "        test_idx,\n",
    "        protected,\n",
    "        privileged_value,\n",
    "        unprivileged_value,\n",
    "        favorable,\n",
    "        unfavorable) \n",
    "    \n",
    "    m = compute_metrics(\n",
    "        test_df, y_test, y_pred,\n",
    "        protected, privileged_value, unprivileged_value\n",
    "    )\n",
    "    results.append(m)\n",
    "\n",
    "# 3) Aggregate\n",
    "compas_race_metrics = pd.DataFrame(results)\n",
    "compas_race_metrics_agg = compas_race_metrics.agg(['mean','std'])\n",
    "print(compas_race_metrics_agg)"
   ]
  },
  {
   "cell_type": "markdown",
   "id": "62585541",
   "metadata": {},
   "source": [
    "plot_title = 'Compas Inprocessing Meta Fair Classifier: Baseline - Race'\n",
    "fig = compare_viz_metrics_2x3(baseline_race_agg, compas_race_metrics_agg, 'Baseline', 'Race', plot_title)\n",
    "fname    = plot_title.replace(' ', '_').replace('(', '').replace(')', '')\n",
    "out_path = os.path.join(out_dir_plots, f'{fname}.png')\n",
    "fig.savefig(out_path)\n",
    "fig.show()"
   ]
  },
  {
   "cell_type": "markdown",
   "id": "b7fce3f2",
   "metadata": {},
   "source": [
    "## default MFC, sex"
   ]
  },
  {
   "cell_type": "code",
   "execution_count": 10,
   "id": "d433b573",
   "metadata": {},
   "outputs": [
    {
     "name": "stderr",
     "output_type": "stream",
     "text": [
      "/opt/anaconda3/lib/python3.11/site-packages/aif360/algorithms/inprocessing/celisMeta/StatisticalRate.py:36: RuntimeWarning: invalid value encountered in divide\n",
      "  prob_y_1 = (prob_1_1 + prob_1_0) / total\n",
      "/opt/anaconda3/lib/python3.11/site-packages/aif360/algorithms/inprocessing/celisMeta/StatisticalRate.py:37: RuntimeWarning: invalid value encountered in divide\n",
      "  prob_z_0 = (prob_m1_0 + prob_1_0) / total\n",
      "/opt/anaconda3/lib/python3.11/site-packages/aif360/algorithms/inprocessing/celisMeta/StatisticalRate.py:38: RuntimeWarning: invalid value encountered in divide\n",
      "  prob_z_1 = (prob_m1_1 + prob_1_1) / total\n"
     ]
    },
    {
     "ename": "TypeError",
     "evalue": "cannot unpack non-iterable NoneType object",
     "output_type": "error",
     "traceback": [
      "\u001b[0;31m---------------------------------------------------------------------------\u001b[0m",
      "\u001b[0;31mTypeError\u001b[0m                                 Traceback (most recent call last)",
      "Cell \u001b[0;32mIn[10], line 16\u001b[0m\n\u001b[1;32m     14\u001b[0m results \u001b[38;5;241m=\u001b[39m []\n\u001b[1;32m     15\u001b[0m \u001b[38;5;28;01mfor\u001b[39;00m i, (train_idx, test_idx) \u001b[38;5;129;01min\u001b[39;00m \u001b[38;5;28menumerate\u001b[39m(sss\u001b[38;5;241m.\u001b[39msplit(df, df[\u001b[38;5;124m'\u001b[39m\u001b[38;5;124mlabel\u001b[39m\u001b[38;5;124m'\u001b[39m])):\n\u001b[0;32m---> 16\u001b[0m     test_df, y_test, y_pred \u001b[38;5;241m=\u001b[39m meta_fair_classifier_train_and_predict(\n\u001b[1;32m     17\u001b[0m     df,\n\u001b[1;32m     18\u001b[0m     train_idx,\n\u001b[1;32m     19\u001b[0m     test_idx,\n\u001b[1;32m     20\u001b[0m     protected,\n\u001b[1;32m     21\u001b[0m     privileged_value,\n\u001b[1;32m     22\u001b[0m     unprivileged_value,\n\u001b[1;32m     23\u001b[0m     favorable,\n\u001b[1;32m     24\u001b[0m     unfavorable)\n\u001b[1;32m     26\u001b[0m     m \u001b[38;5;241m=\u001b[39m compute_metrics(\n\u001b[1;32m     27\u001b[0m         test_df, y_test, y_pred,\n\u001b[1;32m     28\u001b[0m         protected, privileged_value, unprivileged_value\n\u001b[1;32m     29\u001b[0m     )\n\u001b[1;32m     30\u001b[0m     results\u001b[38;5;241m.\u001b[39mappend(m)\n",
      "File \u001b[0;32m~/Documents/EDUCATION/MASTER/Thesis/bias-mitigation-aif360/src/modeling.py:179\u001b[0m, in \u001b[0;36mmeta_fair_classifier_train_and_predict\u001b[0;34m(df, train_idx, test_idx, protected, privileged_value, unprivileged_value, favorable_label, unfavorable_label)\u001b[0m\n\u001b[1;32m    171\u001b[0m mfc \u001b[38;5;241m=\u001b[39m MetaFairClassifier(\n\u001b[1;32m    172\u001b[0m     tau\u001b[38;5;241m=\u001b[39m\u001b[38;5;241m0.5\u001b[39m,\n\u001b[1;32m    173\u001b[0m     sensitive_attr\u001b[38;5;241m=\u001b[39mprotected,\n\u001b[1;32m    174\u001b[0m     \u001b[38;5;28mtype\u001b[39m\u001b[38;5;241m=\u001b[39m\u001b[38;5;124m'\u001b[39m\u001b[38;5;124msr\u001b[39m\u001b[38;5;124m'\u001b[39m,   \u001b[38;5;66;03m# 'sr' = statistical‐rate (demographic parity)\u001b[39;00m\n\u001b[1;32m    175\u001b[0m     seed\u001b[38;5;241m=\u001b[39m\u001b[38;5;241m42\u001b[39m\n\u001b[1;32m    176\u001b[0m )\n\u001b[1;32m    178\u001b[0m \u001b[38;5;66;03m# 7) Train on the AIF360 training dataset\u001b[39;00m\n\u001b[0;32m--> 179\u001b[0m mfc\u001b[38;5;241m.\u001b[39mfit(train_bld)\n\u001b[1;32m    181\u001b[0m \u001b[38;5;66;03m# 8) Predict on the AIF360 test dataset\u001b[39;00m\n\u001b[1;32m    182\u001b[0m pred_bld \u001b[38;5;241m=\u001b[39m mfc\u001b[38;5;241m.\u001b[39mpredict(test_bld)\n",
      "File \u001b[0;32m/opt/anaconda3/lib/python3.11/site-packages/aif360/algorithms/transformer.py:27\u001b[0m, in \u001b[0;36maddmetadata.<locals>.wrapper\u001b[0;34m(self, *args, **kwargs)\u001b[0m\n\u001b[1;32m     25\u001b[0m \u001b[38;5;129m@wraps\u001b[39m(func)\n\u001b[1;32m     26\u001b[0m \u001b[38;5;28;01mdef\u001b[39;00m \u001b[38;5;21mwrapper\u001b[39m(\u001b[38;5;28mself\u001b[39m, \u001b[38;5;241m*\u001b[39margs, \u001b[38;5;241m*\u001b[39m\u001b[38;5;241m*\u001b[39mkwargs):\n\u001b[0;32m---> 27\u001b[0m     new_dataset \u001b[38;5;241m=\u001b[39m func(\u001b[38;5;28mself\u001b[39m, \u001b[38;5;241m*\u001b[39margs, \u001b[38;5;241m*\u001b[39m\u001b[38;5;241m*\u001b[39mkwargs)\n\u001b[1;32m     28\u001b[0m     \u001b[38;5;28;01mif\u001b[39;00m \u001b[38;5;28misinstance\u001b[39m(new_dataset, Dataset):\n\u001b[1;32m     29\u001b[0m         new_dataset\u001b[38;5;241m.\u001b[39mmetadata \u001b[38;5;241m=\u001b[39m new_dataset\u001b[38;5;241m.\u001b[39mmetadata\u001b[38;5;241m.\u001b[39mcopy()\n",
      "File \u001b[0;32m/opt/anaconda3/lib/python3.11/site-packages/aif360/algorithms/inprocessing/meta_fair_classifier.py:66\u001b[0m, in \u001b[0;36mMetaFairClassifier.fit\u001b[0;34m(self, dataset)\u001b[0m\n\u001b[1;32m     59\u001b[0m y_train \u001b[38;5;241m=\u001b[39m np\u001b[38;5;241m.\u001b[39mwhere(dataset\u001b[38;5;241m.\u001b[39mlabels\u001b[38;5;241m.\u001b[39mflatten() \u001b[38;5;241m==\u001b[39m dataset\u001b[38;5;241m.\u001b[39mfavorable_label,\n\u001b[1;32m     60\u001b[0m                    \u001b[38;5;241m1\u001b[39m, \u001b[38;5;241m-\u001b[39m\u001b[38;5;241m1\u001b[39m)\n\u001b[1;32m     61\u001b[0m x_control_train \u001b[38;5;241m=\u001b[39m np\u001b[38;5;241m.\u001b[39mwhere(\n\u001b[1;32m     62\u001b[0m         np\u001b[38;5;241m.\u001b[39misin(dataset\u001b[38;5;241m.\u001b[39mprotected_attributes[:, sens_idx],\n\u001b[1;32m     63\u001b[0m                 dataset\u001b[38;5;241m.\u001b[39mprivileged_protected_attributes[sens_idx]),\n\u001b[1;32m     64\u001b[0m         \u001b[38;5;241m1\u001b[39m, \u001b[38;5;241m0\u001b[39m)\n\u001b[0;32m---> 66\u001b[0m \u001b[38;5;28mself\u001b[39m\u001b[38;5;241m.\u001b[39mmodel \u001b[38;5;241m=\u001b[39m \u001b[38;5;28mself\u001b[39m\u001b[38;5;241m.\u001b[39mobj\u001b[38;5;241m.\u001b[39mgetModel(\u001b[38;5;28mself\u001b[39m\u001b[38;5;241m.\u001b[39mtau, x_train, y_train,\n\u001b[1;32m     67\u001b[0m     x_control_train, \u001b[38;5;28mself\u001b[39m\u001b[38;5;241m.\u001b[39mseed)\n\u001b[1;32m     69\u001b[0m \u001b[38;5;28;01mreturn\u001b[39;00m \u001b[38;5;28mself\u001b[39m\n",
      "File \u001b[0;32m/opt/anaconda3/lib/python3.11/site-packages/aif360/algorithms/inprocessing/celisMeta/General.py:99\u001b[0m, in \u001b[0;36mGeneral.getModel\u001b[0;34m(self, tau, X, y, sens, random_state)\u001b[0m\n\u001b[1;32m     96\u001b[0m samples \u001b[38;5;241m=\u001b[39m dist_x\u001b[38;5;241m.\u001b[39mrvs(size\u001b[38;5;241m=\u001b[39m\u001b[38;5;241m20\u001b[39m)  \u001b[38;5;66;03m# TODO: why 20?\u001b[39;00m\n\u001b[1;32m     97\u001b[0m params \u001b[38;5;241m=\u001b[39m \u001b[38;5;28mself\u001b[39m\u001b[38;5;241m.\u001b[39mgradientDescent(dist, a, b, samples, z_1)\n\u001b[0;32m---> 99\u001b[0m t \u001b[38;5;241m=\u001b[39m \u001b[38;5;28mself\u001b[39m\u001b[38;5;241m.\u001b[39mgetValueForX(dist, a, b, params, z_1, X)\n\u001b[1;32m    100\u001b[0m y_pred \u001b[38;5;241m=\u001b[39m np\u001b[38;5;241m.\u001b[39mwhere(t \u001b[38;5;241m>\u001b[39m \u001b[38;5;241m0\u001b[39m, \u001b[38;5;241m1\u001b[39m, \u001b[38;5;241m-\u001b[39m\u001b[38;5;241m1\u001b[39m)\n\u001b[1;32m    102\u001b[0m acc \u001b[38;5;241m=\u001b[39m accuracy_score(y, y_pred)\n",
      "File \u001b[0;32m/opt/anaconda3/lib/python3.11/site-packages/aif360/algorithms/inprocessing/celisMeta/StatisticalRate.py:23\u001b[0m, in \u001b[0;36mStatisticalRate.getValueForX\u001b[0;34m(self, dist, a, b, params, z_prior, x, return_cs)\u001b[0m\n\u001b[1;32m     22\u001b[0m \u001b[38;5;28;01mdef\u001b[39;00m \u001b[38;5;21mgetValueForX\u001b[39m(\u001b[38;5;28mself\u001b[39m, dist, a, b, params, z_prior, x, return_cs\u001b[38;5;241m=\u001b[39m\u001b[38;5;28;01mFalse\u001b[39;00m):\n\u001b[0;32m---> 23\u001b[0m     l_1, l_2 \u001b[38;5;241m=\u001b[39m params\n\u001b[1;32m     24\u001b[0m     z_0, z_1 \u001b[38;5;241m=\u001b[39m \u001b[38;5;241m1\u001b[39m\u001b[38;5;241m-\u001b[39mz_prior, z_prior\n\u001b[1;32m     26\u001b[0m     pos \u001b[38;5;241m=\u001b[39m np\u001b[38;5;241m.\u001b[39mones(\u001b[38;5;28mlen\u001b[39m(x))\n",
      "\u001b[0;31mTypeError\u001b[0m: cannot unpack non-iterable NoneType object"
     ]
    }
   ],
   "source": [
    "# 1) Retrieve data\n",
    "protected           = 'sex'\n",
    "privileged_value    = 0.0\n",
    "unprivileged_value  = 1.0\n",
    "\n",
    "ds, df = load_compas_sex()  \n",
    "favorable = ds.favorable_label      # COMPAS: 0.0\n",
    "unfavorable = ds.unfavorable_label  # COMPAS: 1.0\n",
    "feature_cols = [c for c in df.columns if c not in ('label','sex')]\n",
    "\n",
    "# 2) Run experiment, Evaluate\n",
    "sss = StratifiedShuffleSplit(n_splits=25, test_size=0.2, random_state=42)\n",
    "\n",
    "results = []\n",
    "for i, (train_idx, test_idx) in enumerate(sss.split(df, df['label'])):\n",
    "    test_df, y_test, y_pred = meta_fair_classifier_train_and_predict(\n",
    "    df,\n",
    "    train_idx,\n",
    "    test_idx,\n",
    "    protected,\n",
    "    privileged_value,\n",
    "    unprivileged_value,\n",
    "    favorable,\n",
    "    unfavorable)\n",
    "    \n",
    "    m = compute_metrics(\n",
    "        test_df, y_test, y_pred,\n",
    "        protected, privileged_value, unprivileged_value\n",
    "    )\n",
    "    results.append(m)\n",
    "\n",
    "# 3) Aggregate\n",
    "compas_sex_metrics = pd.DataFrame(results)\n",
    "compas_sex_metrics_agg = compas_sex_metrics.agg(['mean','std'])\n",
    "print(compas_race_metrics_agg)"
   ]
  },
  {
   "cell_type": "markdown",
   "id": "026afe40",
   "metadata": {},
   "source": [
    "## DEBUG, check what the issue is --------------------------- "
   ]
  },
  {
   "cell_type": "code",
   "execution_count": 11,
   "id": "7059cec0",
   "metadata": {},
   "outputs": [],
   "source": [
    "import numpy as np\n",
    "import pandas as pd\n",
    "from sklearn.linear_model import LogisticRegression\n",
    "from sklearn.preprocessing import RobustScaler\n",
    "from aif360.datasets import BinaryLabelDataset\n",
    "from aif360.algorithms.inprocessing import MetaFairClassifier\n",
    "\n",
    "def debug_celis_meta(train_bld, protected, privileged_value, unprivileged_value):\n",
    "    labels = train_bld.labels.flatten()\n",
    "    sens   = train_bld.protected_attributes.flatten()\n",
    "\n",
    "    # Masks for each cell\n",
    "    mask_priv      = (sens == privileged_value)\n",
    "    mask_unpriv    = (sens == unprivileged_value)\n",
    "    mask_fav       = (labels == train_bld.favorable_label)\n",
    "    mask_unfav     = (labels == train_bld.unfavorable_label)\n",
    "\n",
    "    count_P_plus   = int(np.logical_and(mask_priv,    mask_fav).sum())\n",
    "    count_P_minus  = int(np.logical_and(mask_priv,    mask_unfav).sum())\n",
    "    count_U_plus   = int(np.logical_and(mask_unpriv,  mask_fav).sum())\n",
    "    count_U_minus  = int(np.logical_and(mask_unpriv,  mask_unfav).sum())\n",
    "\n",
    "    print(\"---- Four‐cell counts in this training fold ----\")\n",
    "    print(f\" Privileged ∧ Favorable   = {count_P_plus}\")\n",
    "    print(f\" Privileged ∧ Unfavorable = {count_P_minus}\")\n",
    "    print(f\" Unprivileged ∧ Favorable = {count_U_plus}\")\n",
    "    print(f\" Unprivileged ∧ Unfavorable = {count_U_minus}\")\n",
    "    print()\n",
    "\n",
    "    # Zero‐variance features (after AIF360’s encoding)\n",
    "    actual_feature_names = train_bld.feature_names\n",
    "    df_train_features = pd.DataFrame(train_bld.features, columns=actual_feature_names)\n",
    "    zero_var_cols = [col for col in actual_feature_names if df_train_features[col].std() == 0]\n",
    "\n",
    "    if zero_var_cols:\n",
    "        print(\"Zero‐variance feature(s) in this fold (after encoding):\")\n",
    "        for col in zero_var_cols:\n",
    "            print(\"  -\", col)\n",
    "    else:\n",
    "        print(\"No zero‐variance features in this fold (after encoding).\")\n",
    "    print()\n",
    "\n",
    "    # Perfect separability check: can X → protected_group?\n",
    "    X = train_bld.features\n",
    "    z = sens  # 0.0/1.0 for race\n",
    "    lr = LogisticRegression(solver='liblinear', max_iter=5000)\n",
    "    lr.fit(X, z)\n",
    "    train_acc = lr.score(X, z)\n",
    "\n",
    "    print(f\"Logistic regression accuracy (features → protected_group): {train_acc:.3f}\")\n",
    "    if np.isclose(train_acc, 1.0):\n",
    "        print(\"  → Perfect (or near‐perfect) separability by protected group detected!\")\n",
    "    else:\n",
    "        print(\"  → No perfect separability (accuracy < 1.0).\")\n",
    "    print(\"-----------------------------------------------------\\n\")\n",
    "\n",
    "\n",
    "def meta_fair_classifier_train_and_predict(\n",
    "    df: pd.DataFrame,\n",
    "    train_idx: np.ndarray,\n",
    "    test_idx: np.ndarray,\n",
    "    protected: str,\n",
    "    privileged_value: float,\n",
    "    unprivileged_value: float,\n",
    "    favorable_label: float,\n",
    "    unfavorable_label: float\n",
    "):\n",
    "    # 1) Split into train/test DataFrames (original, unscaled)\n",
    "    train_df = df.iloc[train_idx].reset_index(drop=True)\n",
    "    test_df  = df.iloc[test_idx].reset_index(drop=True)\n",
    "\n",
    "    # 2) Identify feature columns (exclude 'label' and protected attr)\n",
    "    feature_cols = [c for c in df.columns if c not in ('label', protected)]\n",
    "\n",
    "    # 3) Scale numeric features\n",
    "    scaler     = RobustScaler()\n",
    "    train_vals = scaler.fit_transform(train_df[feature_cols])\n",
    "    test_vals  = scaler.transform(test_df[feature_cols])\n",
    "\n",
    "    # 4) Rebuild DataFrames for AIF360 (protected, label, and scaled features)\n",
    "    train_scaled = train_df[[protected, 'label']].copy().reset_index(drop=True)\n",
    "    train_scaled[feature_cols] = train_vals\n",
    "\n",
    "    test_scaled = test_df[[protected, 'label']].copy().reset_index(drop=True)\n",
    "    test_scaled[feature_cols] = test_vals\n",
    "\n",
    "    # 5) Wrap as AIF360 BinaryLabelDataset\n",
    "    train_bld = BinaryLabelDataset(\n",
    "        df=train_scaled,\n",
    "        label_names=['label'],\n",
    "        protected_attribute_names=[protected],\n",
    "        favorable_label=favorable_label,\n",
    "        unfavorable_label=unfavorable_label,\n",
    "        privileged_protected_attributes=[[privileged_value]],\n",
    "        unprivileged_protected_attributes=[[unprivileged_value]]\n",
    "    )\n",
    "    test_bld = BinaryLabelDataset(\n",
    "        df=test_scaled,\n",
    "        label_names=['label'],\n",
    "        protected_attribute_names=[protected],\n",
    "        favorable_label=favorable_label,\n",
    "        unfavorable_label=unfavorable_label,\n",
    "        privileged_protected_attributes=[[privileged_value]],\n",
    "        unprivileged_protected_attributes=[[unprivileged_value]]\n",
    "    )\n",
    "\n",
    "    # ===== Insert debug prints here =====\n",
    "    print(f\"\\n=== DEBUG for fold (train size {len(train_idx)}) ===\")\n",
    "    debug_celis_meta(train_bld, protected, privileged_value, unprivileged_value)\n",
    "    # =====================================\n",
    "\n",
    "    # 6) Train MetaFairClassifier with default tau=0.5\n",
    "    mfc = MetaFairClassifier(\n",
    "        tau=0.5,\n",
    "        sensitive_attr=protected,\n",
    "        type='sr',\n",
    "        seed=42\n",
    "    )\n",
    "\n",
    "    try:\n",
    "        mfc.fit(train_bld)\n",
    "    except Exception as e:\n",
    "        print(f\"MetaFairClassifier.fit failed on this fold: {e}\")\n",
    "        # Return test_df and y_test, but y_pred = None so caller knows it failed\n",
    "        y_test = test_df['label'].values\n",
    "        return test_df, y_test, None\n",
    "\n",
    "    # 7) If fit succeeded, predict\n",
    "    try:\n",
    "        pred_bld = mfc.predict(test_bld)\n",
    "        y_pred = pred_bld.labels.ravel()\n",
    "    except Exception as e:\n",
    "        print(f\"MetaFairClassifier.predict failed on this fold: {e}\")\n",
    "        y_test = test_df['label'].values\n",
    "        return test_df, y_test, None\n",
    "\n",
    "    # 8) Return the unscaled test DataFrame + true labels + MetaFair predictions\n",
    "    y_test = test_df['label'].values\n",
    "    return test_df, y_test, y_pred\n"
   ]
  },
  {
   "cell_type": "code",
   "execution_count": null,
   "id": "1240d901",
   "metadata": {},
   "outputs": [
    {
     "name": "stdout",
     "output_type": "stream",
     "text": [
      "********** Fold 1 **********\n",
      "\n",
      "=== DEBUG for fold (train size 5771) ===\n",
      "---- Four‐cell counts in this training fold ----\n",
      " Privileged ∧ Favorable   = 1989\n",
      " Privileged ∧ Unfavorable = 1814\n",
      " Unprivileged ∧ Favorable = 1181\n",
      " Unprivileged ∧ Unfavorable = 787\n",
      "\n",
      "No zero‐variance features in this fold (after encoding).\n",
      "\n",
      "Logistic regression accuracy (features → protected_group): 1.000\n",
      "  → Perfect (or near‐perfect) separability by protected group detected!\n",
      "-----------------------------------------------------\n",
      "\n"
     ]
    },
    {
     "name": "stderr",
     "output_type": "stream",
     "text": [
      "/opt/anaconda3/lib/python3.11/site-packages/aif360/algorithms/inprocessing/celisMeta/StatisticalRate.py:36: RuntimeWarning: invalid value encountered in divide\n",
      "  prob_y_1 = (prob_1_1 + prob_1_0) / total\n",
      "/opt/anaconda3/lib/python3.11/site-packages/aif360/algorithms/inprocessing/celisMeta/StatisticalRate.py:37: RuntimeWarning: invalid value encountered in divide\n",
      "  prob_z_0 = (prob_m1_0 + prob_1_0) / total\n",
      "/opt/anaconda3/lib/python3.11/site-packages/aif360/algorithms/inprocessing/celisMeta/StatisticalRate.py:38: RuntimeWarning: invalid value encountered in divide\n",
      "  prob_z_1 = (prob_m1_1 + prob_1_1) / total\n"
     ]
    },
    {
     "name": "stdout",
     "output_type": "stream",
     "text": [
      "MetaFairClassifier.fit failed on this fold: cannot unpack non-iterable NoneType object\n",
      "Skipping metrics for this fold because MetaFair failed.\n",
      "\n",
      "********** Fold 2 **********\n",
      "\n",
      "=== DEBUG for fold (train size 5771) ===\n",
      "---- Four‐cell counts in this training fold ----\n",
      " Privileged ∧ Favorable   = 2002\n",
      " Privileged ∧ Unfavorable = 1827\n",
      " Unprivileged ∧ Favorable = 1168\n",
      " Unprivileged ∧ Unfavorable = 774\n",
      "\n",
      "No zero‐variance features in this fold (after encoding).\n",
      "\n",
      "Logistic regression accuracy (features → protected_group): 1.000\n",
      "  → Perfect (or near‐perfect) separability by protected group detected!\n",
      "-----------------------------------------------------\n",
      "\n"
     ]
    },
    {
     "name": "stderr",
     "output_type": "stream",
     "text": [
      "/opt/anaconda3/lib/python3.11/site-packages/aif360/algorithms/inprocessing/celisMeta/StatisticalRate.py:36: RuntimeWarning: invalid value encountered in divide\n",
      "  prob_y_1 = (prob_1_1 + prob_1_0) / total\n",
      "/opt/anaconda3/lib/python3.11/site-packages/aif360/algorithms/inprocessing/celisMeta/StatisticalRate.py:37: RuntimeWarning: invalid value encountered in divide\n",
      "  prob_z_0 = (prob_m1_0 + prob_1_0) / total\n",
      "/opt/anaconda3/lib/python3.11/site-packages/aif360/algorithms/inprocessing/celisMeta/StatisticalRate.py:38: RuntimeWarning: invalid value encountered in divide\n",
      "  prob_z_1 = (prob_m1_1 + prob_1_1) / total\n"
     ]
    },
    {
     "name": "stdout",
     "output_type": "stream",
     "text": [
      "MetaFairClassifier.fit failed on this fold: cannot unpack non-iterable NoneType object\n",
      "Skipping metrics for this fold because MetaFair failed.\n",
      "\n",
      "********** Fold 3 **********\n",
      "\n",
      "=== DEBUG for fold (train size 5771) ===\n",
      "---- Four‐cell counts in this training fold ----\n",
      " Privileged ∧ Favorable   = 1970\n",
      " Privileged ∧ Unfavorable = 1829\n",
      " Unprivileged ∧ Favorable = 1200\n",
      " Unprivileged ∧ Unfavorable = 772\n",
      "\n",
      "No zero‐variance features in this fold (after encoding).\n",
      "\n",
      "Logistic regression accuracy (features → protected_group): 1.000\n",
      "  → Perfect (or near‐perfect) separability by protected group detected!\n",
      "-----------------------------------------------------\n",
      "\n"
     ]
    },
    {
     "name": "stderr",
     "output_type": "stream",
     "text": [
      "/opt/anaconda3/lib/python3.11/site-packages/aif360/algorithms/inprocessing/celisMeta/StatisticalRate.py:36: RuntimeWarning: invalid value encountered in divide\n",
      "  prob_y_1 = (prob_1_1 + prob_1_0) / total\n",
      "/opt/anaconda3/lib/python3.11/site-packages/aif360/algorithms/inprocessing/celisMeta/StatisticalRate.py:37: RuntimeWarning: invalid value encountered in divide\n",
      "  prob_z_0 = (prob_m1_0 + prob_1_0) / total\n",
      "/opt/anaconda3/lib/python3.11/site-packages/aif360/algorithms/inprocessing/celisMeta/StatisticalRate.py:38: RuntimeWarning: invalid value encountered in divide\n",
      "  prob_z_1 = (prob_m1_1 + prob_1_1) / total\n",
      "/opt/anaconda3/lib/python3.11/site-packages/aif360/algorithms/inprocessing/celisMeta/StatisticalRate.py:36: RuntimeWarning: invalid value encountered in divide\n",
      "  prob_y_1 = (prob_1_1 + prob_1_0) / total\n",
      "/opt/anaconda3/lib/python3.11/site-packages/aif360/algorithms/inprocessing/celisMeta/StatisticalRate.py:37: RuntimeWarning: invalid value encountered in divide\n",
      "  prob_z_0 = (prob_m1_0 + prob_1_0) / total\n",
      "/opt/anaconda3/lib/python3.11/site-packages/aif360/algorithms/inprocessing/celisMeta/StatisticalRate.py:38: RuntimeWarning: invalid value encountered in divide\n",
      "  prob_z_1 = (prob_m1_1 + prob_1_1) / total\n"
     ]
    },
    {
     "name": "stdout",
     "output_type": "stream",
     "text": [
      "MetaFairClassifier.fit failed on this fold: cannot unpack non-iterable NoneType object\n",
      "Skipping metrics for this fold because MetaFair failed.\n",
      "\n",
      "********** Fold 4 **********\n",
      "\n",
      "=== DEBUG for fold (train size 5771) ===\n",
      "---- Four‐cell counts in this training fold ----\n",
      " Privileged ∧ Favorable   = 1985\n",
      " Privileged ∧ Unfavorable = 1823\n",
      " Unprivileged ∧ Favorable = 1185\n",
      " Unprivileged ∧ Unfavorable = 778\n",
      "\n",
      "No zero‐variance features in this fold (after encoding).\n",
      "\n",
      "Logistic regression accuracy (features → protected_group): 1.000\n",
      "  → Perfect (or near‐perfect) separability by protected group detected!\n",
      "-----------------------------------------------------\n",
      "\n",
      "MetaFairClassifier.fit failed on this fold: cannot unpack non-iterable NoneType object\n",
      "Skipping metrics for this fold because MetaFair failed.\n",
      "\n",
      "********** Fold 5 **********\n",
      "\n",
      "=== DEBUG for fold (train size 5771) ===\n",
      "---- Four‐cell counts in this training fold ----\n",
      " Privileged ∧ Favorable   = 1991\n",
      " Privileged ∧ Unfavorable = 1819\n",
      " Unprivileged ∧ Favorable = 1179\n",
      " Unprivileged ∧ Unfavorable = 782\n",
      "\n",
      "No zero‐variance features in this fold (after encoding).\n",
      "\n",
      "Logistic regression accuracy (features → protected_group): 1.000\n",
      "  → Perfect (or near‐perfect) separability by protected group detected!\n",
      "-----------------------------------------------------\n",
      "\n",
      "MetaFairClassifier.fit failed on this fold: cannot unpack non-iterable NoneType object\n",
      "Skipping metrics for this fold because MetaFair failed.\n",
      "\n"
     ]
    },
    {
     "name": "stderr",
     "output_type": "stream",
     "text": [
      "/opt/anaconda3/lib/python3.11/site-packages/aif360/algorithms/inprocessing/celisMeta/StatisticalRate.py:36: RuntimeWarning: invalid value encountered in divide\n",
      "  prob_y_1 = (prob_1_1 + prob_1_0) / total\n",
      "/opt/anaconda3/lib/python3.11/site-packages/aif360/algorithms/inprocessing/celisMeta/StatisticalRate.py:37: RuntimeWarning: invalid value encountered in divide\n",
      "  prob_z_0 = (prob_m1_0 + prob_1_0) / total\n",
      "/opt/anaconda3/lib/python3.11/site-packages/aif360/algorithms/inprocessing/celisMeta/StatisticalRate.py:38: RuntimeWarning: invalid value encountered in divide\n",
      "  prob_z_1 = (prob_m1_1 + prob_1_1) / total\n",
      "/opt/anaconda3/lib/python3.11/site-packages/aif360/algorithms/inprocessing/celisMeta/StatisticalRate.py:36: RuntimeWarning: invalid value encountered in divide\n",
      "  prob_y_1 = (prob_1_1 + prob_1_0) / total\n",
      "/opt/anaconda3/lib/python3.11/site-packages/aif360/algorithms/inprocessing/celisMeta/StatisticalRate.py:37: RuntimeWarning: invalid value encountered in divide\n",
      "  prob_z_0 = (prob_m1_0 + prob_1_0) / total\n",
      "/opt/anaconda3/lib/python3.11/site-packages/aif360/algorithms/inprocessing/celisMeta/StatisticalRate.py:38: RuntimeWarning: invalid value encountered in divide\n",
      "  prob_z_1 = (prob_m1_1 + prob_1_1) / total\n"
     ]
    },
    {
     "name": "stdout",
     "output_type": "stream",
     "text": [
      "********** Fold 6 **********\n",
      "\n",
      "=== DEBUG for fold (train size 5771) ===\n",
      "---- Four‐cell counts in this training fold ----\n",
      " Privileged ∧ Favorable   = 1987\n",
      " Privileged ∧ Unfavorable = 1809\n",
      " Unprivileged ∧ Favorable = 1183\n",
      " Unprivileged ∧ Unfavorable = 792\n",
      "\n",
      "No zero‐variance features in this fold (after encoding).\n",
      "\n",
      "Logistic regression accuracy (features → protected_group): 1.000\n",
      "  → Perfect (or near‐perfect) separability by protected group detected!\n",
      "-----------------------------------------------------\n",
      "\n",
      "MetaFairClassifier.fit failed on this fold: cannot unpack non-iterable NoneType object\n",
      "Skipping metrics for this fold because MetaFair failed.\n",
      "\n",
      "********** Fold 7 **********\n",
      "\n",
      "=== DEBUG for fold (train size 5771) ===\n",
      "---- Four‐cell counts in this training fold ----\n",
      " Privileged ∧ Favorable   = 1991\n",
      " Privileged ∧ Unfavorable = 1836\n",
      " Unprivileged ∧ Favorable = 1179\n",
      " Unprivileged ∧ Unfavorable = 765\n",
      "\n",
      "No zero‐variance features in this fold (after encoding).\n",
      "\n",
      "Logistic regression accuracy (features → protected_group): 1.000\n",
      "  → Perfect (or near‐perfect) separability by protected group detected!\n",
      "-----------------------------------------------------\n",
      "\n"
     ]
    },
    {
     "name": "stderr",
     "output_type": "stream",
     "text": [
      "/opt/anaconda3/lib/python3.11/site-packages/aif360/algorithms/inprocessing/celisMeta/StatisticalRate.py:36: RuntimeWarning: invalid value encountered in divide\n",
      "  prob_y_1 = (prob_1_1 + prob_1_0) / total\n",
      "/opt/anaconda3/lib/python3.11/site-packages/aif360/algorithms/inprocessing/celisMeta/StatisticalRate.py:37: RuntimeWarning: invalid value encountered in divide\n",
      "  prob_z_0 = (prob_m1_0 + prob_1_0) / total\n",
      "/opt/anaconda3/lib/python3.11/site-packages/aif360/algorithms/inprocessing/celisMeta/StatisticalRate.py:38: RuntimeWarning: invalid value encountered in divide\n",
      "  prob_z_1 = (prob_m1_1 + prob_1_1) / total\n"
     ]
    },
    {
     "name": "stdout",
     "output_type": "stream",
     "text": [
      "MetaFairClassifier.fit failed on this fold: cannot unpack non-iterable NoneType object\n",
      "Skipping metrics for this fold because MetaFair failed.\n",
      "\n",
      "********** Fold 8 **********\n",
      "\n",
      "=== DEBUG for fold (train size 5771) ===\n",
      "---- Four‐cell counts in this training fold ----\n",
      " Privileged ∧ Favorable   = 1988\n",
      " Privileged ∧ Unfavorable = 1834\n",
      " Unprivileged ∧ Favorable = 1182\n",
      " Unprivileged ∧ Unfavorable = 767\n",
      "\n",
      "No zero‐variance features in this fold (after encoding).\n",
      "\n",
      "Logistic regression accuracy (features → protected_group): 1.000\n",
      "  → Perfect (or near‐perfect) separability by protected group detected!\n",
      "-----------------------------------------------------\n",
      "\n"
     ]
    },
    {
     "name": "stderr",
     "output_type": "stream",
     "text": [
      "/opt/anaconda3/lib/python3.11/site-packages/aif360/algorithms/inprocessing/celisMeta/StatisticalRate.py:36: RuntimeWarning: invalid value encountered in divide\n",
      "  prob_y_1 = (prob_1_1 + prob_1_0) / total\n",
      "/opt/anaconda3/lib/python3.11/site-packages/aif360/algorithms/inprocessing/celisMeta/StatisticalRate.py:37: RuntimeWarning: invalid value encountered in divide\n",
      "  prob_z_0 = (prob_m1_0 + prob_1_0) / total\n",
      "/opt/anaconda3/lib/python3.11/site-packages/aif360/algorithms/inprocessing/celisMeta/StatisticalRate.py:38: RuntimeWarning: invalid value encountered in divide\n",
      "  prob_z_1 = (prob_m1_1 + prob_1_1) / total\n"
     ]
    },
    {
     "name": "stdout",
     "output_type": "stream",
     "text": [
      "MetaFairClassifier.fit failed on this fold: cannot unpack non-iterable NoneType object\n",
      "Skipping metrics for this fold because MetaFair failed.\n",
      "\n",
      "********** Fold 9 **********\n",
      "\n",
      "=== DEBUG for fold (train size 5771) ===\n",
      "---- Four‐cell counts in this training fold ----\n",
      " Privileged ∧ Favorable   = 1964\n",
      " Privileged ∧ Unfavorable = 1838\n",
      " Unprivileged ∧ Favorable = 1206\n",
      " Unprivileged ∧ Unfavorable = 763\n",
      "\n",
      "No zero‐variance features in this fold (after encoding).\n",
      "\n",
      "Logistic regression accuracy (features → protected_group): 1.000\n",
      "  → Perfect (or near‐perfect) separability by protected group detected!\n",
      "-----------------------------------------------------\n",
      "\n"
     ]
    },
    {
     "name": "stderr",
     "output_type": "stream",
     "text": [
      "/opt/anaconda3/lib/python3.11/site-packages/aif360/algorithms/inprocessing/celisMeta/StatisticalRate.py:36: RuntimeWarning: invalid value encountered in divide\n",
      "  prob_y_1 = (prob_1_1 + prob_1_0) / total\n",
      "/opt/anaconda3/lib/python3.11/site-packages/aif360/algorithms/inprocessing/celisMeta/StatisticalRate.py:37: RuntimeWarning: invalid value encountered in divide\n",
      "  prob_z_0 = (prob_m1_0 + prob_1_0) / total\n",
      "/opt/anaconda3/lib/python3.11/site-packages/aif360/algorithms/inprocessing/celisMeta/StatisticalRate.py:38: RuntimeWarning: invalid value encountered in divide\n",
      "  prob_z_1 = (prob_m1_1 + prob_1_1) / total\n"
     ]
    },
    {
     "name": "stdout",
     "output_type": "stream",
     "text": [
      "MetaFairClassifier.fit failed on this fold: cannot unpack non-iterable NoneType object\n",
      "Skipping metrics for this fold because MetaFair failed.\n",
      "\n",
      "********** Fold 10 **********\n",
      "\n",
      "=== DEBUG for fold (train size 5771) ===\n",
      "---- Four‐cell counts in this training fold ----\n",
      " Privileged ∧ Favorable   = 1974\n",
      " Privileged ∧ Unfavorable = 1822\n",
      " Unprivileged ∧ Favorable = 1196\n",
      " Unprivileged ∧ Unfavorable = 779\n",
      "\n",
      "No zero‐variance features in this fold (after encoding).\n",
      "\n",
      "Logistic regression accuracy (features → protected_group): 1.000\n",
      "  → Perfect (or near‐perfect) separability by protected group detected!\n",
      "-----------------------------------------------------\n",
      "\n"
     ]
    },
    {
     "name": "stderr",
     "output_type": "stream",
     "text": [
      "/opt/anaconda3/lib/python3.11/site-packages/aif360/algorithms/inprocessing/celisMeta/StatisticalRate.py:36: RuntimeWarning: invalid value encountered in divide\n",
      "  prob_y_1 = (prob_1_1 + prob_1_0) / total\n",
      "/opt/anaconda3/lib/python3.11/site-packages/aif360/algorithms/inprocessing/celisMeta/StatisticalRate.py:37: RuntimeWarning: invalid value encountered in divide\n",
      "  prob_z_0 = (prob_m1_0 + prob_1_0) / total\n",
      "/opt/anaconda3/lib/python3.11/site-packages/aif360/algorithms/inprocessing/celisMeta/StatisticalRate.py:38: RuntimeWarning: invalid value encountered in divide\n",
      "  prob_z_1 = (prob_m1_1 + prob_1_1) / total\n"
     ]
    },
    {
     "name": "stdout",
     "output_type": "stream",
     "text": [
      "MetaFairClassifier.fit failed on this fold: cannot unpack non-iterable NoneType object\n",
      "Skipping metrics for this fold because MetaFair failed.\n",
      "\n",
      "********** Fold 11 **********\n",
      "\n",
      "=== DEBUG for fold (train size 5771) ===\n",
      "---- Four‐cell counts in this training fold ----\n",
      " Privileged ∧ Favorable   = 1985\n",
      " Privileged ∧ Unfavorable = 1840\n",
      " Unprivileged ∧ Favorable = 1185\n",
      " Unprivileged ∧ Unfavorable = 761\n",
      "\n",
      "No zero‐variance features in this fold (after encoding).\n",
      "\n",
      "Logistic regression accuracy (features → protected_group): 1.000\n",
      "  → Perfect (or near‐perfect) separability by protected group detected!\n",
      "-----------------------------------------------------\n",
      "\n",
      "MetaFairClassifier.fit failed on this fold: cannot unpack non-iterable NoneType object\n",
      "Skipping metrics for this fold because MetaFair failed.\n",
      "\n",
      "********** Fold 12 **********\n"
     ]
    },
    {
     "name": "stderr",
     "output_type": "stream",
     "text": [
      "/opt/anaconda3/lib/python3.11/site-packages/aif360/algorithms/inprocessing/celisMeta/StatisticalRate.py:36: RuntimeWarning: invalid value encountered in divide\n",
      "  prob_y_1 = (prob_1_1 + prob_1_0) / total\n",
      "/opt/anaconda3/lib/python3.11/site-packages/aif360/algorithms/inprocessing/celisMeta/StatisticalRate.py:37: RuntimeWarning: invalid value encountered in divide\n",
      "  prob_z_0 = (prob_m1_0 + prob_1_0) / total\n",
      "/opt/anaconda3/lib/python3.11/site-packages/aif360/algorithms/inprocessing/celisMeta/StatisticalRate.py:38: RuntimeWarning: invalid value encountered in divide\n",
      "  prob_z_1 = (prob_m1_1 + prob_1_1) / total\n"
     ]
    },
    {
     "name": "stdout",
     "output_type": "stream",
     "text": [
      "\n",
      "=== DEBUG for fold (train size 5771) ===\n",
      "---- Four‐cell counts in this training fold ----\n",
      " Privileged ∧ Favorable   = 1977\n",
      " Privileged ∧ Unfavorable = 1821\n",
      " Unprivileged ∧ Favorable = 1193\n",
      " Unprivileged ∧ Unfavorable = 780\n",
      "\n",
      "No zero‐variance features in this fold (after encoding).\n",
      "\n",
      "Logistic regression accuracy (features → protected_group): 1.000\n",
      "  → Perfect (or near‐perfect) separability by protected group detected!\n",
      "-----------------------------------------------------\n",
      "\n"
     ]
    },
    {
     "name": "stderr",
     "output_type": "stream",
     "text": [
      "/opt/anaconda3/lib/python3.11/site-packages/aif360/algorithms/inprocessing/celisMeta/StatisticalRate.py:36: RuntimeWarning: invalid value encountered in divide\n",
      "  prob_y_1 = (prob_1_1 + prob_1_0) / total\n",
      "/opt/anaconda3/lib/python3.11/site-packages/aif360/algorithms/inprocessing/celisMeta/StatisticalRate.py:37: RuntimeWarning: invalid value encountered in divide\n",
      "  prob_z_0 = (prob_m1_0 + prob_1_0) / total\n",
      "/opt/anaconda3/lib/python3.11/site-packages/aif360/algorithms/inprocessing/celisMeta/StatisticalRate.py:38: RuntimeWarning: invalid value encountered in divide\n",
      "  prob_z_1 = (prob_m1_1 + prob_1_1) / total\n"
     ]
    },
    {
     "name": "stdout",
     "output_type": "stream",
     "text": [
      "MetaFairClassifier.fit failed on this fold: cannot unpack non-iterable NoneType object\n",
      "Skipping metrics for this fold because MetaFair failed.\n",
      "\n",
      "********** Fold 13 **********\n",
      "\n",
      "=== DEBUG for fold (train size 5771) ===\n",
      "---- Four‐cell counts in this training fold ----\n",
      " Privileged ∧ Favorable   = 1967\n",
      " Privileged ∧ Unfavorable = 1828\n",
      " Unprivileged ∧ Favorable = 1203\n",
      " Unprivileged ∧ Unfavorable = 773\n",
      "\n",
      "No zero‐variance features in this fold (after encoding).\n",
      "\n",
      "Logistic regression accuracy (features → protected_group): 1.000\n",
      "  → Perfect (or near‐perfect) separability by protected group detected!\n",
      "-----------------------------------------------------\n",
      "\n"
     ]
    },
    {
     "name": "stderr",
     "output_type": "stream",
     "text": [
      "/opt/anaconda3/lib/python3.11/site-packages/aif360/algorithms/inprocessing/celisMeta/StatisticalRate.py:36: RuntimeWarning: invalid value encountered in divide\n",
      "  prob_y_1 = (prob_1_1 + prob_1_0) / total\n",
      "/opt/anaconda3/lib/python3.11/site-packages/aif360/algorithms/inprocessing/celisMeta/StatisticalRate.py:37: RuntimeWarning: invalid value encountered in divide\n",
      "  prob_z_0 = (prob_m1_0 + prob_1_0) / total\n",
      "/opt/anaconda3/lib/python3.11/site-packages/aif360/algorithms/inprocessing/celisMeta/StatisticalRate.py:38: RuntimeWarning: invalid value encountered in divide\n",
      "  prob_z_1 = (prob_m1_1 + prob_1_1) / total\n"
     ]
    },
    {
     "name": "stdout",
     "output_type": "stream",
     "text": [
      "MetaFairClassifier.fit failed on this fold: cannot unpack non-iterable NoneType object\n",
      "Skipping metrics for this fold because MetaFair failed.\n",
      "\n",
      "********** Fold 14 **********\n",
      "\n",
      "=== DEBUG for fold (train size 5771) ===\n",
      "---- Four‐cell counts in this training fold ----\n",
      " Privileged ∧ Favorable   = 1987\n",
      " Privileged ∧ Unfavorable = 1845\n",
      " Unprivileged ∧ Favorable = 1183\n",
      " Unprivileged ∧ Unfavorable = 756\n",
      "\n",
      "No zero‐variance features in this fold (after encoding).\n",
      "\n",
      "Logistic regression accuracy (features → protected_group): 1.000\n",
      "  → Perfect (or near‐perfect) separability by protected group detected!\n",
      "-----------------------------------------------------\n",
      "\n"
     ]
    },
    {
     "name": "stderr",
     "output_type": "stream",
     "text": [
      "/opt/anaconda3/lib/python3.11/site-packages/aif360/algorithms/inprocessing/celisMeta/StatisticalRate.py:36: RuntimeWarning: invalid value encountered in divide\n",
      "  prob_y_1 = (prob_1_1 + prob_1_0) / total\n",
      "/opt/anaconda3/lib/python3.11/site-packages/aif360/algorithms/inprocessing/celisMeta/StatisticalRate.py:37: RuntimeWarning: invalid value encountered in divide\n",
      "  prob_z_0 = (prob_m1_0 + prob_1_0) / total\n",
      "/opt/anaconda3/lib/python3.11/site-packages/aif360/algorithms/inprocessing/celisMeta/StatisticalRate.py:38: RuntimeWarning: invalid value encountered in divide\n",
      "  prob_z_1 = (prob_m1_1 + prob_1_1) / total\n"
     ]
    },
    {
     "name": "stdout",
     "output_type": "stream",
     "text": [
      "MetaFairClassifier.fit failed on this fold: cannot unpack non-iterable NoneType object\n",
      "Skipping metrics for this fold because MetaFair failed.\n",
      "\n",
      "********** Fold 15 **********\n",
      "\n",
      "=== DEBUG for fold (train size 5771) ===\n",
      "---- Four‐cell counts in this training fold ----\n",
      " Privileged ∧ Favorable   = 2000\n",
      " Privileged ∧ Unfavorable = 1829\n",
      " Unprivileged ∧ Favorable = 1170\n",
      " Unprivileged ∧ Unfavorable = 772\n",
      "\n",
      "No zero‐variance features in this fold (after encoding).\n",
      "\n",
      "Logistic regression accuracy (features → protected_group): 1.000\n",
      "  → Perfect (or near‐perfect) separability by protected group detected!\n",
      "-----------------------------------------------------\n",
      "\n"
     ]
    },
    {
     "name": "stderr",
     "output_type": "stream",
     "text": [
      "/opt/anaconda3/lib/python3.11/site-packages/aif360/algorithms/inprocessing/celisMeta/StatisticalRate.py:36: RuntimeWarning: invalid value encountered in divide\n",
      "  prob_y_1 = (prob_1_1 + prob_1_0) / total\n",
      "/opt/anaconda3/lib/python3.11/site-packages/aif360/algorithms/inprocessing/celisMeta/StatisticalRate.py:37: RuntimeWarning: invalid value encountered in divide\n",
      "  prob_z_0 = (prob_m1_0 + prob_1_0) / total\n",
      "/opt/anaconda3/lib/python3.11/site-packages/aif360/algorithms/inprocessing/celisMeta/StatisticalRate.py:38: RuntimeWarning: invalid value encountered in divide\n",
      "  prob_z_1 = (prob_m1_1 + prob_1_1) / total\n"
     ]
    },
    {
     "name": "stdout",
     "output_type": "stream",
     "text": [
      "MetaFairClassifier.fit failed on this fold: cannot unpack non-iterable NoneType object\n",
      "Skipping metrics for this fold because MetaFair failed.\n",
      "\n",
      "********** Fold 16 **********\n",
      "\n",
      "=== DEBUG for fold (train size 5771) ===\n",
      "---- Four‐cell counts in this training fold ----\n",
      " Privileged ∧ Favorable   = 1995\n",
      " Privileged ∧ Unfavorable = 1821\n",
      " Unprivileged ∧ Favorable = 1175\n",
      " Unprivileged ∧ Unfavorable = 780\n",
      "\n",
      "No zero‐variance features in this fold (after encoding).\n",
      "\n",
      "Logistic regression accuracy (features → protected_group): 1.000\n",
      "  → Perfect (or near‐perfect) separability by protected group detected!\n",
      "-----------------------------------------------------\n",
      "\n"
     ]
    },
    {
     "name": "stderr",
     "output_type": "stream",
     "text": [
      "/opt/anaconda3/lib/python3.11/site-packages/aif360/algorithms/inprocessing/celisMeta/StatisticalRate.py:36: RuntimeWarning: invalid value encountered in divide\n",
      "  prob_y_1 = (prob_1_1 + prob_1_0) / total\n",
      "/opt/anaconda3/lib/python3.11/site-packages/aif360/algorithms/inprocessing/celisMeta/StatisticalRate.py:37: RuntimeWarning: invalid value encountered in divide\n",
      "  prob_z_0 = (prob_m1_0 + prob_1_0) / total\n",
      "/opt/anaconda3/lib/python3.11/site-packages/aif360/algorithms/inprocessing/celisMeta/StatisticalRate.py:38: RuntimeWarning: invalid value encountered in divide\n",
      "  prob_z_1 = (prob_m1_1 + prob_1_1) / total\n"
     ]
    },
    {
     "name": "stdout",
     "output_type": "stream",
     "text": [
      "MetaFairClassifier.fit failed on this fold: cannot unpack non-iterable NoneType object\n",
      "Skipping metrics for this fold because MetaFair failed.\n",
      "\n",
      "********** Fold 17 **********\n",
      "\n",
      "=== DEBUG for fold (train size 5771) ===\n",
      "---- Four‐cell counts in this training fold ----\n",
      " Privileged ∧ Favorable   = 1997\n",
      " Privileged ∧ Unfavorable = 1829\n",
      " Unprivileged ∧ Favorable = 1173\n",
      " Unprivileged ∧ Unfavorable = 772\n",
      "\n",
      "No zero‐variance features in this fold (after encoding).\n",
      "\n",
      "Logistic regression accuracy (features → protected_group): 1.000\n",
      "  → Perfect (or near‐perfect) separability by protected group detected!\n",
      "-----------------------------------------------------\n",
      "\n",
      "MetaFairClassifier.fit failed on this fold: cannot unpack non-iterable NoneType object\n",
      "Skipping metrics for this fold because MetaFair failed.\n",
      "\n",
      "********** Fold 18 **********\n"
     ]
    },
    {
     "name": "stderr",
     "output_type": "stream",
     "text": [
      "/opt/anaconda3/lib/python3.11/site-packages/aif360/algorithms/inprocessing/celisMeta/StatisticalRate.py:36: RuntimeWarning: invalid value encountered in divide\n",
      "  prob_y_1 = (prob_1_1 + prob_1_0) / total\n",
      "/opt/anaconda3/lib/python3.11/site-packages/aif360/algorithms/inprocessing/celisMeta/StatisticalRate.py:37: RuntimeWarning: invalid value encountered in divide\n",
      "  prob_z_0 = (prob_m1_0 + prob_1_0) / total\n",
      "/opt/anaconda3/lib/python3.11/site-packages/aif360/algorithms/inprocessing/celisMeta/StatisticalRate.py:38: RuntimeWarning: invalid value encountered in divide\n",
      "  prob_z_1 = (prob_m1_1 + prob_1_1) / total\n",
      "/opt/anaconda3/lib/python3.11/site-packages/aif360/algorithms/inprocessing/celisMeta/StatisticalRate.py:36: RuntimeWarning: invalid value encountered in divide\n",
      "  prob_y_1 = (prob_1_1 + prob_1_0) / total\n",
      "/opt/anaconda3/lib/python3.11/site-packages/aif360/algorithms/inprocessing/celisMeta/StatisticalRate.py:37: RuntimeWarning: invalid value encountered in divide\n",
      "  prob_z_0 = (prob_m1_0 + prob_1_0) / total\n",
      "/opt/anaconda3/lib/python3.11/site-packages/aif360/algorithms/inprocessing/celisMeta/StatisticalRate.py:38: RuntimeWarning: invalid value encountered in divide\n",
      "  prob_z_1 = (prob_m1_1 + prob_1_1) / total\n"
     ]
    },
    {
     "name": "stdout",
     "output_type": "stream",
     "text": [
      "\n",
      "=== DEBUG for fold (train size 5771) ===\n",
      "---- Four‐cell counts in this training fold ----\n",
      " Privileged ∧ Favorable   = 1974\n",
      " Privileged ∧ Unfavorable = 1843\n",
      " Unprivileged ∧ Favorable = 1196\n",
      " Unprivileged ∧ Unfavorable = 758\n",
      "\n",
      "No zero‐variance features in this fold (after encoding).\n",
      "\n",
      "Logistic regression accuracy (features → protected_group): 1.000\n",
      "  → Perfect (or near‐perfect) separability by protected group detected!\n",
      "-----------------------------------------------------\n",
      "\n",
      "MetaFairClassifier.fit failed on this fold: cannot unpack non-iterable NoneType object\n",
      "Skipping metrics for this fold because MetaFair failed.\n",
      "\n",
      "********** Fold 19 **********\n",
      "\n",
      "=== DEBUG for fold (train size 5771) ===\n",
      "---- Four‐cell counts in this training fold ----\n",
      " Privileged ∧ Favorable   = 1965\n",
      " Privileged ∧ Unfavorable = 1825\n",
      " Unprivileged ∧ Favorable = 1205\n",
      " Unprivileged ∧ Unfavorable = 776\n",
      "\n",
      "No zero‐variance features in this fold (after encoding).\n",
      "\n",
      "Logistic regression accuracy (features → protected_group): 1.000\n",
      "  → Perfect (or near‐perfect) separability by protected group detected!\n",
      "-----------------------------------------------------\n",
      "\n"
     ]
    },
    {
     "name": "stderr",
     "output_type": "stream",
     "text": [
      "/opt/anaconda3/lib/python3.11/site-packages/aif360/algorithms/inprocessing/celisMeta/StatisticalRate.py:36: RuntimeWarning: invalid value encountered in divide\n",
      "  prob_y_1 = (prob_1_1 + prob_1_0) / total\n",
      "/opt/anaconda3/lib/python3.11/site-packages/aif360/algorithms/inprocessing/celisMeta/StatisticalRate.py:37: RuntimeWarning: invalid value encountered in divide\n",
      "  prob_z_0 = (prob_m1_0 + prob_1_0) / total\n",
      "/opt/anaconda3/lib/python3.11/site-packages/aif360/algorithms/inprocessing/celisMeta/StatisticalRate.py:38: RuntimeWarning: invalid value encountered in divide\n",
      "  prob_z_1 = (prob_m1_1 + prob_1_1) / total\n"
     ]
    },
    {
     "name": "stdout",
     "output_type": "stream",
     "text": [
      "MetaFairClassifier.fit failed on this fold: cannot unpack non-iterable NoneType object\n",
      "Skipping metrics for this fold because MetaFair failed.\n",
      "\n",
      "********** Fold 20 **********\n",
      "\n",
      "=== DEBUG for fold (train size 5771) ===\n",
      "---- Four‐cell counts in this training fold ----\n",
      " Privileged ∧ Favorable   = 1961\n",
      " Privileged ∧ Unfavorable = 1827\n",
      " Unprivileged ∧ Favorable = 1209\n",
      " Unprivileged ∧ Unfavorable = 774\n",
      "\n",
      "No zero‐variance features in this fold (after encoding).\n",
      "\n",
      "Logistic regression accuracy (features → protected_group): 1.000\n",
      "  → Perfect (or near‐perfect) separability by protected group detected!\n",
      "-----------------------------------------------------\n",
      "\n"
     ]
    },
    {
     "name": "stderr",
     "output_type": "stream",
     "text": [
      "/opt/anaconda3/lib/python3.11/site-packages/aif360/algorithms/inprocessing/celisMeta/StatisticalRate.py:36: RuntimeWarning: invalid value encountered in divide\n",
      "  prob_y_1 = (prob_1_1 + prob_1_0) / total\n",
      "/opt/anaconda3/lib/python3.11/site-packages/aif360/algorithms/inprocessing/celisMeta/StatisticalRate.py:37: RuntimeWarning: invalid value encountered in divide\n",
      "  prob_z_0 = (prob_m1_0 + prob_1_0) / total\n",
      "/opt/anaconda3/lib/python3.11/site-packages/aif360/algorithms/inprocessing/celisMeta/StatisticalRate.py:38: RuntimeWarning: invalid value encountered in divide\n",
      "  prob_z_1 = (prob_m1_1 + prob_1_1) / total\n"
     ]
    },
    {
     "name": "stdout",
     "output_type": "stream",
     "text": [
      "MetaFairClassifier.fit failed on this fold: cannot unpack non-iterable NoneType object\n",
      "Skipping metrics for this fold because MetaFair failed.\n",
      "\n",
      "********** Fold 21 **********\n",
      "\n",
      "=== DEBUG for fold (train size 5771) ===\n",
      "---- Four‐cell counts in this training fold ----\n",
      " Privileged ∧ Favorable   = 1976\n",
      " Privileged ∧ Unfavorable = 1831\n",
      " Unprivileged ∧ Favorable = 1194\n",
      " Unprivileged ∧ Unfavorable = 770\n",
      "\n",
      "No zero‐variance features in this fold (after encoding).\n",
      "\n",
      "Logistic regression accuracy (features → protected_group): 1.000\n",
      "  → Perfect (or near‐perfect) separability by protected group detected!\n",
      "-----------------------------------------------------\n",
      "\n",
      "MetaFairClassifier.fit failed on this fold: cannot unpack non-iterable NoneType object\n",
      "Skipping metrics for this fold because MetaFair failed.\n",
      "\n"
     ]
    },
    {
     "name": "stderr",
     "output_type": "stream",
     "text": [
      "/opt/anaconda3/lib/python3.11/site-packages/aif360/algorithms/inprocessing/celisMeta/StatisticalRate.py:36: RuntimeWarning: invalid value encountered in divide\n",
      "  prob_y_1 = (prob_1_1 + prob_1_0) / total\n",
      "/opt/anaconda3/lib/python3.11/site-packages/aif360/algorithms/inprocessing/celisMeta/StatisticalRate.py:37: RuntimeWarning: invalid value encountered in divide\n",
      "  prob_z_0 = (prob_m1_0 + prob_1_0) / total\n",
      "/opt/anaconda3/lib/python3.11/site-packages/aif360/algorithms/inprocessing/celisMeta/StatisticalRate.py:38: RuntimeWarning: invalid value encountered in divide\n",
      "  prob_z_1 = (prob_m1_1 + prob_1_1) / total\n",
      "/opt/anaconda3/lib/python3.11/site-packages/aif360/algorithms/inprocessing/celisMeta/StatisticalRate.py:36: RuntimeWarning: invalid value encountered in divide\n",
      "  prob_y_1 = (prob_1_1 + prob_1_0) / total\n",
      "/opt/anaconda3/lib/python3.11/site-packages/aif360/algorithms/inprocessing/celisMeta/StatisticalRate.py:37: RuntimeWarning: invalid value encountered in divide\n",
      "  prob_z_0 = (prob_m1_0 + prob_1_0) / total\n",
      "/opt/anaconda3/lib/python3.11/site-packages/aif360/algorithms/inprocessing/celisMeta/StatisticalRate.py:38: RuntimeWarning: invalid value encountered in divide\n",
      "  prob_z_1 = (prob_m1_1 + prob_1_1) / total\n"
     ]
    },
    {
     "name": "stdout",
     "output_type": "stream",
     "text": [
      "********** Fold 22 **********\n",
      "\n",
      "=== DEBUG for fold (train size 5771) ===\n",
      "---- Four‐cell counts in this training fold ----\n",
      " Privileged ∧ Favorable   = 1971\n",
      " Privileged ∧ Unfavorable = 1831\n",
      " Unprivileged ∧ Favorable = 1199\n",
      " Unprivileged ∧ Unfavorable = 770\n",
      "\n",
      "No zero‐variance features in this fold (after encoding).\n",
      "\n",
      "Logistic regression accuracy (features → protected_group): 1.000\n",
      "  → Perfect (or near‐perfect) separability by protected group detected!\n",
      "-----------------------------------------------------\n",
      "\n",
      "MetaFairClassifier.fit failed on this fold: cannot unpack non-iterable NoneType object\n",
      "Skipping metrics for this fold because MetaFair failed.\n",
      "\n",
      "********** Fold 23 **********\n",
      "\n",
      "=== DEBUG for fold (train size 5771) ===\n",
      "---- Four‐cell counts in this training fold ----\n",
      " Privileged ∧ Favorable   = 1998\n",
      " Privileged ∧ Unfavorable = 1815\n",
      " Unprivileged ∧ Favorable = 1172\n",
      " Unprivileged ∧ Unfavorable = 786\n",
      "\n",
      "No zero‐variance features in this fold (after encoding).\n",
      "\n",
      "Logistic regression accuracy (features → protected_group): 1.000\n",
      "  → Perfect (or near‐perfect) separability by protected group detected!\n",
      "-----------------------------------------------------\n",
      "\n"
     ]
    },
    {
     "name": "stderr",
     "output_type": "stream",
     "text": [
      "/opt/anaconda3/lib/python3.11/site-packages/aif360/algorithms/inprocessing/celisMeta/StatisticalRate.py:36: RuntimeWarning: invalid value encountered in divide\n",
      "  prob_y_1 = (prob_1_1 + prob_1_0) / total\n",
      "/opt/anaconda3/lib/python3.11/site-packages/aif360/algorithms/inprocessing/celisMeta/StatisticalRate.py:37: RuntimeWarning: invalid value encountered in divide\n",
      "  prob_z_0 = (prob_m1_0 + prob_1_0) / total\n",
      "/opt/anaconda3/lib/python3.11/site-packages/aif360/algorithms/inprocessing/celisMeta/StatisticalRate.py:38: RuntimeWarning: invalid value encountered in divide\n",
      "  prob_z_1 = (prob_m1_1 + prob_1_1) / total\n"
     ]
    },
    {
     "name": "stdout",
     "output_type": "stream",
     "text": [
      "MetaFairClassifier.fit failed on this fold: cannot unpack non-iterable NoneType object\n",
      "Skipping metrics for this fold because MetaFair failed.\n",
      "\n",
      "********** Fold 24 **********\n",
      "\n",
      "=== DEBUG for fold (train size 5771) ===\n",
      "---- Four‐cell counts in this training fold ----\n",
      " Privileged ∧ Favorable   = 1982\n",
      " Privileged ∧ Unfavorable = 1824\n",
      " Unprivileged ∧ Favorable = 1188\n",
      " Unprivileged ∧ Unfavorable = 777\n",
      "\n",
      "No zero‐variance features in this fold (after encoding).\n",
      "\n",
      "Logistic regression accuracy (features → protected_group): 1.000\n",
      "  → Perfect (or near‐perfect) separability by protected group detected!\n",
      "-----------------------------------------------------\n",
      "\n"
     ]
    },
    {
     "name": "stderr",
     "output_type": "stream",
     "text": [
      "/opt/anaconda3/lib/python3.11/site-packages/aif360/algorithms/inprocessing/celisMeta/StatisticalRate.py:36: RuntimeWarning: invalid value encountered in divide\n",
      "  prob_y_1 = (prob_1_1 + prob_1_0) / total\n",
      "/opt/anaconda3/lib/python3.11/site-packages/aif360/algorithms/inprocessing/celisMeta/StatisticalRate.py:37: RuntimeWarning: invalid value encountered in divide\n",
      "  prob_z_0 = (prob_m1_0 + prob_1_0) / total\n",
      "/opt/anaconda3/lib/python3.11/site-packages/aif360/algorithms/inprocessing/celisMeta/StatisticalRate.py:38: RuntimeWarning: invalid value encountered in divide\n",
      "  prob_z_1 = (prob_m1_1 + prob_1_1) / total\n"
     ]
    },
    {
     "name": "stdout",
     "output_type": "stream",
     "text": [
      "MetaFairClassifier.fit failed on this fold: cannot unpack non-iterable NoneType object\n",
      "Skipping metrics for this fold because MetaFair failed.\n",
      "\n",
      "********** Fold 25 **********\n",
      "\n",
      "=== DEBUG for fold (train size 5771) ===\n",
      "---- Four‐cell counts in this training fold ----\n",
      " Privileged ∧ Favorable   = 1964\n",
      " Privileged ∧ Unfavorable = 1843\n",
      " Unprivileged ∧ Favorable = 1206\n",
      " Unprivileged ∧ Unfavorable = 758\n",
      "\n",
      "No zero‐variance features in this fold (after encoding).\n",
      "\n",
      "Logistic regression accuracy (features → protected_group): 1.000\n",
      "  → Perfect (or near‐perfect) separability by protected group detected!\n",
      "-----------------------------------------------------\n",
      "\n",
      "MetaFairClassifier.fit failed on this fold: cannot unpack non-iterable NoneType object\n",
      "Skipping metrics for this fold because MetaFair failed.\n",
      "\n"
     ]
    },
    {
     "name": "stderr",
     "output_type": "stream",
     "text": [
      "/opt/anaconda3/lib/python3.11/site-packages/aif360/algorithms/inprocessing/celisMeta/StatisticalRate.py:36: RuntimeWarning: invalid value encountered in divide\n",
      "  prob_y_1 = (prob_1_1 + prob_1_0) / total\n",
      "/opt/anaconda3/lib/python3.11/site-packages/aif360/algorithms/inprocessing/celisMeta/StatisticalRate.py:37: RuntimeWarning: invalid value encountered in divide\n",
      "  prob_z_0 = (prob_m1_0 + prob_1_0) / total\n",
      "/opt/anaconda3/lib/python3.11/site-packages/aif360/algorithms/inprocessing/celisMeta/StatisticalRate.py:38: RuntimeWarning: invalid value encountered in divide\n",
      "  prob_z_1 = (prob_m1_1 + prob_1_1) / total\n"
     ]
    }
   ],
   "source": [
    "protected           = 'race'\n",
    "privileged_value    = 0.0\n",
    "unprivileged_value  = 1.0\n",
    "\n",
    "ds, df = load_compas_race()\n",
    "favorable   = ds.favorable_label    # e.g. 0.0\n",
    "unfavorable = ds.unfavorable_label  # e.g. 1.0\n",
    "\n",
    "sss = StratifiedShuffleSplit(n_splits=25, test_size=0.2, random_state=42)\n",
    "\n",
    "results = []\n",
    "for fold_i, (train_idx, test_idx) in enumerate(sss.split(df, df['label']), start=1):\n",
    "    print(f\"********** Fold {fold_i} **********\")\n",
    "\n",
    "    test_df, y_test, y_pred = meta_fair_classifier_train_and_predict(\n",
    "        df,\n",
    "        train_idx,\n",
    "        test_idx,\n",
    "        protected,\n",
    "        privileged_value,\n",
    "        unprivileged_value,\n",
    "        favorable,\n",
    "        unfavorable\n",
    "    )\n",
    "\n",
    "    if y_pred is None:\n",
    "        # MetaFair failed on this fold: record or skip\n",
    "        print(\"Skipping metrics for this fold because MetaFair failed.\\n\")\n",
    "        continue\n"
   ]
  },
  {
   "cell_type": "code",
   "execution_count": 14,
   "id": "a904f043",
   "metadata": {},
   "outputs": [
    {
     "name": "stdout",
     "output_type": "stream",
     "text": [
      "********** Fold 1 **********\n",
      "\n",
      "=== DEBUG for fold (train size 5771) ===\n",
      "---- Four‐cell counts in this training fold ----\n",
      " Privileged ∧ Favorable   = 2460\n",
      " Privileged ∧ Unfavorable = 2207\n",
      " Unprivileged ∧ Favorable = 710\n",
      " Unprivileged ∧ Unfavorable = 394\n",
      "\n",
      "No zero‐variance features in this fold (after encoding).\n",
      "\n",
      "Logistic regression accuracy (features → protected_group): 1.000\n",
      "  → Perfect (or near‐perfect) separability by protected group detected!\n",
      "-----------------------------------------------------\n",
      "\n"
     ]
    },
    {
     "name": "stderr",
     "output_type": "stream",
     "text": [
      "/opt/anaconda3/lib/python3.11/site-packages/aif360/algorithms/inprocessing/celisMeta/StatisticalRate.py:36: RuntimeWarning: invalid value encountered in divide\n",
      "  prob_y_1 = (prob_1_1 + prob_1_0) / total\n",
      "/opt/anaconda3/lib/python3.11/site-packages/aif360/algorithms/inprocessing/celisMeta/StatisticalRate.py:37: RuntimeWarning: invalid value encountered in divide\n",
      "  prob_z_0 = (prob_m1_0 + prob_1_0) / total\n",
      "/opt/anaconda3/lib/python3.11/site-packages/aif360/algorithms/inprocessing/celisMeta/StatisticalRate.py:38: RuntimeWarning: invalid value encountered in divide\n",
      "  prob_z_1 = (prob_m1_1 + prob_1_1) / total\n",
      "/opt/anaconda3/lib/python3.11/site-packages/aif360/algorithms/inprocessing/celisMeta/StatisticalRate.py:36: RuntimeWarning: invalid value encountered in divide\n",
      "  prob_y_1 = (prob_1_1 + prob_1_0) / total\n",
      "/opt/anaconda3/lib/python3.11/site-packages/aif360/algorithms/inprocessing/celisMeta/StatisticalRate.py:37: RuntimeWarning: invalid value encountered in divide\n",
      "  prob_z_0 = (prob_m1_0 + prob_1_0) / total\n",
      "/opt/anaconda3/lib/python3.11/site-packages/aif360/algorithms/inprocessing/celisMeta/StatisticalRate.py:38: RuntimeWarning: invalid value encountered in divide\n",
      "  prob_z_1 = (prob_m1_1 + prob_1_1) / total\n"
     ]
    },
    {
     "name": "stdout",
     "output_type": "stream",
     "text": [
      "MetaFairClassifier.fit failed on this fold: cannot unpack non-iterable NoneType object\n",
      "Skipping metrics for this fold because MetaFair failed.\n",
      "\n",
      "********** Fold 2 **********\n",
      "\n",
      "=== DEBUG for fold (train size 5771) ===\n",
      "---- Four‐cell counts in this training fold ----\n",
      " Privileged ∧ Favorable   = 2449\n",
      " Privileged ∧ Unfavorable = 2189\n",
      " Unprivileged ∧ Favorable = 721\n",
      " Unprivileged ∧ Unfavorable = 412\n",
      "\n",
      "No zero‐variance features in this fold (after encoding).\n",
      "\n",
      "Logistic regression accuracy (features → protected_group): 1.000\n",
      "  → Perfect (or near‐perfect) separability by protected group detected!\n",
      "-----------------------------------------------------\n",
      "\n",
      "MetaFairClassifier.fit failed on this fold: cannot unpack non-iterable NoneType object\n",
      "Skipping metrics for this fold because MetaFair failed.\n",
      "\n",
      "********** Fold 3 **********\n",
      "\n",
      "=== DEBUG for fold (train size 5771) ===\n",
      "---- Four‐cell counts in this training fold ----\n",
      " Privileged ∧ Favorable   = 2440\n",
      " Privileged ∧ Unfavorable = 2200\n",
      " Unprivileged ∧ Favorable = 730\n",
      " Unprivileged ∧ Unfavorable = 401\n",
      "\n",
      "No zero‐variance features in this fold (after encoding).\n",
      "\n",
      "Logistic regression accuracy (features → protected_group): 1.000\n",
      "  → Perfect (or near‐perfect) separability by protected group detected!\n",
      "-----------------------------------------------------\n",
      "\n"
     ]
    },
    {
     "name": "stderr",
     "output_type": "stream",
     "text": [
      "/opt/anaconda3/lib/python3.11/site-packages/aif360/algorithms/inprocessing/celisMeta/StatisticalRate.py:36: RuntimeWarning: invalid value encountered in divide\n",
      "  prob_y_1 = (prob_1_1 + prob_1_0) / total\n",
      "/opt/anaconda3/lib/python3.11/site-packages/aif360/algorithms/inprocessing/celisMeta/StatisticalRate.py:37: RuntimeWarning: invalid value encountered in divide\n",
      "  prob_z_0 = (prob_m1_0 + prob_1_0) / total\n",
      "/opt/anaconda3/lib/python3.11/site-packages/aif360/algorithms/inprocessing/celisMeta/StatisticalRate.py:38: RuntimeWarning: invalid value encountered in divide\n",
      "  prob_z_1 = (prob_m1_1 + prob_1_1) / total\n"
     ]
    },
    {
     "name": "stdout",
     "output_type": "stream",
     "text": [
      "MetaFairClassifier.fit failed on this fold: cannot unpack non-iterable NoneType object\n",
      "Skipping metrics for this fold because MetaFair failed.\n",
      "\n",
      "********** Fold 4 **********\n",
      "\n",
      "=== DEBUG for fold (train size 5771) ===\n",
      "---- Four‐cell counts in this training fold ----\n",
      " Privileged ∧ Favorable   = 2469\n",
      " Privileged ∧ Unfavorable = 2188\n",
      " Unprivileged ∧ Favorable = 701\n",
      " Unprivileged ∧ Unfavorable = 413\n",
      "\n",
      "No zero‐variance features in this fold (after encoding).\n",
      "\n",
      "Logistic regression accuracy (features → protected_group): 1.000\n",
      "  → Perfect (or near‐perfect) separability by protected group detected!\n",
      "-----------------------------------------------------\n",
      "\n"
     ]
    },
    {
     "name": "stderr",
     "output_type": "stream",
     "text": [
      "/opt/anaconda3/lib/python3.11/site-packages/aif360/algorithms/inprocessing/celisMeta/StatisticalRate.py:36: RuntimeWarning: invalid value encountered in divide\n",
      "  prob_y_1 = (prob_1_1 + prob_1_0) / total\n",
      "/opt/anaconda3/lib/python3.11/site-packages/aif360/algorithms/inprocessing/celisMeta/StatisticalRate.py:37: RuntimeWarning: invalid value encountered in divide\n",
      "  prob_z_0 = (prob_m1_0 + prob_1_0) / total\n",
      "/opt/anaconda3/lib/python3.11/site-packages/aif360/algorithms/inprocessing/celisMeta/StatisticalRate.py:38: RuntimeWarning: invalid value encountered in divide\n",
      "  prob_z_1 = (prob_m1_1 + prob_1_1) / total\n"
     ]
    },
    {
     "name": "stdout",
     "output_type": "stream",
     "text": [
      "MetaFairClassifier.fit failed on this fold: cannot unpack non-iterable NoneType object\n",
      "Skipping metrics for this fold because MetaFair failed.\n",
      "\n",
      "********** Fold 5 **********\n",
      "\n",
      "=== DEBUG for fold (train size 5771) ===\n",
      "---- Four‐cell counts in this training fold ----\n",
      " Privileged ∧ Favorable   = 2446\n",
      " Privileged ∧ Unfavorable = 2198\n",
      " Unprivileged ∧ Favorable = 724\n",
      " Unprivileged ∧ Unfavorable = 403\n",
      "\n",
      "No zero‐variance features in this fold (after encoding).\n",
      "\n",
      "Logistic regression accuracy (features → protected_group): 1.000\n",
      "  → Perfect (or near‐perfect) separability by protected group detected!\n",
      "-----------------------------------------------------\n",
      "\n",
      "MetaFairClassifier.fit failed on this fold: cannot unpack non-iterable NoneType object\n",
      "Skipping metrics for this fold because MetaFair failed.\n",
      "\n",
      "********** Fold 6 **********\n"
     ]
    },
    {
     "name": "stderr",
     "output_type": "stream",
     "text": [
      "/opt/anaconda3/lib/python3.11/site-packages/aif360/algorithms/inprocessing/celisMeta/StatisticalRate.py:36: RuntimeWarning: invalid value encountered in divide\n",
      "  prob_y_1 = (prob_1_1 + prob_1_0) / total\n",
      "/opt/anaconda3/lib/python3.11/site-packages/aif360/algorithms/inprocessing/celisMeta/StatisticalRate.py:37: RuntimeWarning: invalid value encountered in divide\n",
      "  prob_z_0 = (prob_m1_0 + prob_1_0) / total\n",
      "/opt/anaconda3/lib/python3.11/site-packages/aif360/algorithms/inprocessing/celisMeta/StatisticalRate.py:38: RuntimeWarning: invalid value encountered in divide\n",
      "  prob_z_1 = (prob_m1_1 + prob_1_1) / total\n"
     ]
    },
    {
     "name": "stdout",
     "output_type": "stream",
     "text": [
      "\n",
      "=== DEBUG for fold (train size 5771) ===\n",
      "---- Four‐cell counts in this training fold ----\n",
      " Privileged ∧ Favorable   = 2459\n",
      " Privileged ∧ Unfavorable = 2196\n",
      " Unprivileged ∧ Favorable = 711\n",
      " Unprivileged ∧ Unfavorable = 405\n",
      "\n",
      "No zero‐variance features in this fold (after encoding).\n",
      "\n",
      "Logistic regression accuracy (features → protected_group): 1.000\n",
      "  → Perfect (or near‐perfect) separability by protected group detected!\n",
      "-----------------------------------------------------\n",
      "\n"
     ]
    },
    {
     "name": "stderr",
     "output_type": "stream",
     "text": [
      "/opt/anaconda3/lib/python3.11/site-packages/aif360/algorithms/inprocessing/celisMeta/StatisticalRate.py:36: RuntimeWarning: invalid value encountered in divide\n",
      "  prob_y_1 = (prob_1_1 + prob_1_0) / total\n",
      "/opt/anaconda3/lib/python3.11/site-packages/aif360/algorithms/inprocessing/celisMeta/StatisticalRate.py:37: RuntimeWarning: invalid value encountered in divide\n",
      "  prob_z_0 = (prob_m1_0 + prob_1_0) / total\n",
      "/opt/anaconda3/lib/python3.11/site-packages/aif360/algorithms/inprocessing/celisMeta/StatisticalRate.py:38: RuntimeWarning: invalid value encountered in divide\n",
      "  prob_z_1 = (prob_m1_1 + prob_1_1) / total\n"
     ]
    },
    {
     "name": "stdout",
     "output_type": "stream",
     "text": [
      "MetaFairClassifier.fit failed on this fold: cannot unpack non-iterable NoneType object\n",
      "Skipping metrics for this fold because MetaFair failed.\n",
      "\n",
      "********** Fold 7 **********\n",
      "\n",
      "=== DEBUG for fold (train size 5771) ===\n",
      "---- Four‐cell counts in this training fold ----\n",
      " Privileged ∧ Favorable   = 2451\n",
      " Privileged ∧ Unfavorable = 2193\n",
      " Unprivileged ∧ Favorable = 719\n",
      " Unprivileged ∧ Unfavorable = 408\n",
      "\n",
      "No zero‐variance features in this fold (after encoding).\n",
      "\n",
      "Logistic regression accuracy (features → protected_group): 1.000\n",
      "  → Perfect (or near‐perfect) separability by protected group detected!\n",
      "-----------------------------------------------------\n",
      "\n"
     ]
    },
    {
     "name": "stderr",
     "output_type": "stream",
     "text": [
      "/opt/anaconda3/lib/python3.11/site-packages/aif360/algorithms/inprocessing/celisMeta/StatisticalRate.py:36: RuntimeWarning: invalid value encountered in divide\n",
      "  prob_y_1 = (prob_1_1 + prob_1_0) / total\n",
      "/opt/anaconda3/lib/python3.11/site-packages/aif360/algorithms/inprocessing/celisMeta/StatisticalRate.py:37: RuntimeWarning: invalid value encountered in divide\n",
      "  prob_z_0 = (prob_m1_0 + prob_1_0) / total\n",
      "/opt/anaconda3/lib/python3.11/site-packages/aif360/algorithms/inprocessing/celisMeta/StatisticalRate.py:38: RuntimeWarning: invalid value encountered in divide\n",
      "  prob_z_1 = (prob_m1_1 + prob_1_1) / total\n"
     ]
    },
    {
     "name": "stdout",
     "output_type": "stream",
     "text": [
      "MetaFairClassifier.fit failed on this fold: cannot unpack non-iterable NoneType object\n",
      "Skipping metrics for this fold because MetaFair failed.\n",
      "\n",
      "********** Fold 8 **********\n",
      "\n",
      "=== DEBUG for fold (train size 5771) ===\n",
      "---- Four‐cell counts in this training fold ----\n",
      " Privileged ∧ Favorable   = 2451\n",
      " Privileged ∧ Unfavorable = 2206\n",
      " Unprivileged ∧ Favorable = 719\n",
      " Unprivileged ∧ Unfavorable = 395\n",
      "\n",
      "No zero‐variance features in this fold (after encoding).\n",
      "\n",
      "Logistic regression accuracy (features → protected_group): 1.000\n",
      "  → Perfect (or near‐perfect) separability by protected group detected!\n",
      "-----------------------------------------------------\n",
      "\n"
     ]
    },
    {
     "name": "stderr",
     "output_type": "stream",
     "text": [
      "/opt/anaconda3/lib/python3.11/site-packages/aif360/algorithms/inprocessing/celisMeta/StatisticalRate.py:36: RuntimeWarning: invalid value encountered in divide\n",
      "  prob_y_1 = (prob_1_1 + prob_1_0) / total\n",
      "/opt/anaconda3/lib/python3.11/site-packages/aif360/algorithms/inprocessing/celisMeta/StatisticalRate.py:37: RuntimeWarning: invalid value encountered in divide\n",
      "  prob_z_0 = (prob_m1_0 + prob_1_0) / total\n",
      "/opt/anaconda3/lib/python3.11/site-packages/aif360/algorithms/inprocessing/celisMeta/StatisticalRate.py:38: RuntimeWarning: invalid value encountered in divide\n",
      "  prob_z_1 = (prob_m1_1 + prob_1_1) / total\n"
     ]
    },
    {
     "name": "stdout",
     "output_type": "stream",
     "text": [
      "MetaFairClassifier.fit failed on this fold: cannot unpack non-iterable NoneType object\n",
      "Skipping metrics for this fold because MetaFair failed.\n",
      "\n",
      "********** Fold 9 **********\n",
      "\n",
      "=== DEBUG for fold (train size 5771) ===\n",
      "---- Four‐cell counts in this training fold ----\n",
      " Privileged ∧ Favorable   = 2467\n",
      " Privileged ∧ Unfavorable = 2196\n",
      " Unprivileged ∧ Favorable = 703\n",
      " Unprivileged ∧ Unfavorable = 405\n",
      "\n",
      "No zero‐variance features in this fold (after encoding).\n",
      "\n",
      "Logistic regression accuracy (features → protected_group): 1.000\n",
      "  → Perfect (or near‐perfect) separability by protected group detected!\n",
      "-----------------------------------------------------\n",
      "\n"
     ]
    },
    {
     "name": "stderr",
     "output_type": "stream",
     "text": [
      "/opt/anaconda3/lib/python3.11/site-packages/aif360/algorithms/inprocessing/celisMeta/StatisticalRate.py:36: RuntimeWarning: invalid value encountered in divide\n",
      "  prob_y_1 = (prob_1_1 + prob_1_0) / total\n",
      "/opt/anaconda3/lib/python3.11/site-packages/aif360/algorithms/inprocessing/celisMeta/StatisticalRate.py:37: RuntimeWarning: invalid value encountered in divide\n",
      "  prob_z_0 = (prob_m1_0 + prob_1_0) / total\n",
      "/opt/anaconda3/lib/python3.11/site-packages/aif360/algorithms/inprocessing/celisMeta/StatisticalRate.py:38: RuntimeWarning: invalid value encountered in divide\n",
      "  prob_z_1 = (prob_m1_1 + prob_1_1) / total\n"
     ]
    },
    {
     "name": "stdout",
     "output_type": "stream",
     "text": [
      "MetaFairClassifier.fit failed on this fold: cannot unpack non-iterable NoneType object\n",
      "Skipping metrics for this fold because MetaFair failed.\n",
      "\n",
      "********** Fold 10 **********\n",
      "\n",
      "=== DEBUG for fold (train size 5771) ===\n",
      "---- Four‐cell counts in this training fold ----\n",
      " Privileged ∧ Favorable   = 2454\n",
      " Privileged ∧ Unfavorable = 2190\n",
      " Unprivileged ∧ Favorable = 716\n",
      " Unprivileged ∧ Unfavorable = 411\n",
      "\n",
      "No zero‐variance features in this fold (after encoding).\n",
      "\n",
      "Logistic regression accuracy (features → protected_group): 1.000\n",
      "  → Perfect (or near‐perfect) separability by protected group detected!\n",
      "-----------------------------------------------------\n",
      "\n"
     ]
    },
    {
     "name": "stderr",
     "output_type": "stream",
     "text": [
      "/opt/anaconda3/lib/python3.11/site-packages/aif360/algorithms/inprocessing/celisMeta/StatisticalRate.py:36: RuntimeWarning: invalid value encountered in divide\n",
      "  prob_y_1 = (prob_1_1 + prob_1_0) / total\n",
      "/opt/anaconda3/lib/python3.11/site-packages/aif360/algorithms/inprocessing/celisMeta/StatisticalRate.py:37: RuntimeWarning: invalid value encountered in divide\n",
      "  prob_z_0 = (prob_m1_0 + prob_1_0) / total\n",
      "/opt/anaconda3/lib/python3.11/site-packages/aif360/algorithms/inprocessing/celisMeta/StatisticalRate.py:38: RuntimeWarning: invalid value encountered in divide\n",
      "  prob_z_1 = (prob_m1_1 + prob_1_1) / total\n"
     ]
    },
    {
     "name": "stdout",
     "output_type": "stream",
     "text": [
      "MetaFairClassifier.fit failed on this fold: cannot unpack non-iterable NoneType object\n",
      "Skipping metrics for this fold because MetaFair failed.\n",
      "\n",
      "********** Fold 11 **********\n",
      "\n",
      "=== DEBUG for fold (train size 5771) ===\n",
      "---- Four‐cell counts in this training fold ----\n",
      " Privileged ∧ Favorable   = 2458\n",
      " Privileged ∧ Unfavorable = 2216\n",
      " Unprivileged ∧ Favorable = 712\n",
      " Unprivileged ∧ Unfavorable = 385\n",
      "\n",
      "No zero‐variance features in this fold (after encoding).\n",
      "\n",
      "Logistic regression accuracy (features → protected_group): 1.000\n",
      "  → Perfect (or near‐perfect) separability by protected group detected!\n",
      "-----------------------------------------------------\n",
      "\n"
     ]
    },
    {
     "name": "stderr",
     "output_type": "stream",
     "text": [
      "/opt/anaconda3/lib/python3.11/site-packages/aif360/algorithms/inprocessing/celisMeta/StatisticalRate.py:36: RuntimeWarning: invalid value encountered in divide\n",
      "  prob_y_1 = (prob_1_1 + prob_1_0) / total\n",
      "/opt/anaconda3/lib/python3.11/site-packages/aif360/algorithms/inprocessing/celisMeta/StatisticalRate.py:37: RuntimeWarning: invalid value encountered in divide\n",
      "  prob_z_0 = (prob_m1_0 + prob_1_0) / total\n",
      "/opt/anaconda3/lib/python3.11/site-packages/aif360/algorithms/inprocessing/celisMeta/StatisticalRate.py:38: RuntimeWarning: invalid value encountered in divide\n",
      "  prob_z_1 = (prob_m1_1 + prob_1_1) / total\n"
     ]
    },
    {
     "name": "stdout",
     "output_type": "stream",
     "text": [
      "MetaFairClassifier.fit failed on this fold: cannot unpack non-iterable NoneType object\n",
      "Skipping metrics for this fold because MetaFair failed.\n",
      "\n",
      "********** Fold 12 **********\n",
      "\n",
      "=== DEBUG for fold (train size 5771) ===\n",
      "---- Four‐cell counts in this training fold ----\n",
      " Privileged ∧ Favorable   = 2444\n",
      " Privileged ∧ Unfavorable = 2201\n",
      " Unprivileged ∧ Favorable = 726\n",
      " Unprivileged ∧ Unfavorable = 400\n",
      "\n",
      "No zero‐variance features in this fold (after encoding).\n",
      "\n",
      "Logistic regression accuracy (features → protected_group): 1.000\n",
      "  → Perfect (or near‐perfect) separability by protected group detected!\n",
      "-----------------------------------------------------\n",
      "\n"
     ]
    },
    {
     "name": "stderr",
     "output_type": "stream",
     "text": [
      "/opt/anaconda3/lib/python3.11/site-packages/aif360/algorithms/inprocessing/celisMeta/StatisticalRate.py:36: RuntimeWarning: invalid value encountered in divide\n",
      "  prob_y_1 = (prob_1_1 + prob_1_0) / total\n",
      "/opt/anaconda3/lib/python3.11/site-packages/aif360/algorithms/inprocessing/celisMeta/StatisticalRate.py:37: RuntimeWarning: invalid value encountered in divide\n",
      "  prob_z_0 = (prob_m1_0 + prob_1_0) / total\n",
      "/opt/anaconda3/lib/python3.11/site-packages/aif360/algorithms/inprocessing/celisMeta/StatisticalRate.py:38: RuntimeWarning: invalid value encountered in divide\n",
      "  prob_z_1 = (prob_m1_1 + prob_1_1) / total\n"
     ]
    },
    {
     "name": "stdout",
     "output_type": "stream",
     "text": [
      "MetaFairClassifier.fit failed on this fold: cannot unpack non-iterable NoneType object\n",
      "Skipping metrics for this fold because MetaFair failed.\n",
      "\n",
      "********** Fold 13 **********\n",
      "\n",
      "=== DEBUG for fold (train size 5771) ===\n",
      "---- Four‐cell counts in this training fold ----\n",
      " Privileged ∧ Favorable   = 2456\n",
      " Privileged ∧ Unfavorable = 2199\n",
      " Unprivileged ∧ Favorable = 714\n",
      " Unprivileged ∧ Unfavorable = 402\n",
      "\n",
      "No zero‐variance features in this fold (after encoding).\n",
      "\n",
      "Logistic regression accuracy (features → protected_group): 1.000\n",
      "  → Perfect (or near‐perfect) separability by protected group detected!\n",
      "-----------------------------------------------------\n",
      "\n"
     ]
    },
    {
     "name": "stderr",
     "output_type": "stream",
     "text": [
      "/opt/anaconda3/lib/python3.11/site-packages/aif360/algorithms/inprocessing/celisMeta/StatisticalRate.py:36: RuntimeWarning: invalid value encountered in divide\n",
      "  prob_y_1 = (prob_1_1 + prob_1_0) / total\n",
      "/opt/anaconda3/lib/python3.11/site-packages/aif360/algorithms/inprocessing/celisMeta/StatisticalRate.py:37: RuntimeWarning: invalid value encountered in divide\n",
      "  prob_z_0 = (prob_m1_0 + prob_1_0) / total\n",
      "/opt/anaconda3/lib/python3.11/site-packages/aif360/algorithms/inprocessing/celisMeta/StatisticalRate.py:38: RuntimeWarning: invalid value encountered in divide\n",
      "  prob_z_1 = (prob_m1_1 + prob_1_1) / total\n"
     ]
    },
    {
     "name": "stdout",
     "output_type": "stream",
     "text": [
      "MetaFairClassifier.fit failed on this fold: cannot unpack non-iterable NoneType object\n",
      "Skipping metrics for this fold because MetaFair failed.\n",
      "\n",
      "********** Fold 14 **********\n",
      "\n",
      "=== DEBUG for fold (train size 5771) ===\n",
      "---- Four‐cell counts in this training fold ----\n",
      " Privileged ∧ Favorable   = 2456\n",
      " Privileged ∧ Unfavorable = 2206\n",
      " Unprivileged ∧ Favorable = 714\n",
      " Unprivileged ∧ Unfavorable = 395\n",
      "\n",
      "No zero‐variance features in this fold (after encoding).\n",
      "\n",
      "Logistic regression accuracy (features → protected_group): 1.000\n",
      "  → Perfect (or near‐perfect) separability by protected group detected!\n",
      "-----------------------------------------------------\n",
      "\n"
     ]
    },
    {
     "name": "stderr",
     "output_type": "stream",
     "text": [
      "/opt/anaconda3/lib/python3.11/site-packages/aif360/algorithms/inprocessing/celisMeta/StatisticalRate.py:36: RuntimeWarning: invalid value encountered in divide\n",
      "  prob_y_1 = (prob_1_1 + prob_1_0) / total\n",
      "/opt/anaconda3/lib/python3.11/site-packages/aif360/algorithms/inprocessing/celisMeta/StatisticalRate.py:37: RuntimeWarning: invalid value encountered in divide\n",
      "  prob_z_0 = (prob_m1_0 + prob_1_0) / total\n",
      "/opt/anaconda3/lib/python3.11/site-packages/aif360/algorithms/inprocessing/celisMeta/StatisticalRate.py:38: RuntimeWarning: invalid value encountered in divide\n",
      "  prob_z_1 = (prob_m1_1 + prob_1_1) / total\n"
     ]
    },
    {
     "name": "stdout",
     "output_type": "stream",
     "text": [
      "MetaFairClassifier.fit failed on this fold: cannot unpack non-iterable NoneType object\n",
      "Skipping metrics for this fold because MetaFair failed.\n",
      "\n",
      "********** Fold 15 **********\n",
      "\n",
      "=== DEBUG for fold (train size 5771) ===\n",
      "---- Four‐cell counts in this training fold ----\n",
      " Privileged ∧ Favorable   = 2458\n",
      " Privileged ∧ Unfavorable = 2190\n",
      " Unprivileged ∧ Favorable = 712\n",
      " Unprivileged ∧ Unfavorable = 411\n",
      "\n",
      "No zero‐variance features in this fold (after encoding).\n",
      "\n",
      "Logistic regression accuracy (features → protected_group): 1.000\n",
      "  → Perfect (or near‐perfect) separability by protected group detected!\n",
      "-----------------------------------------------------\n",
      "\n"
     ]
    },
    {
     "name": "stderr",
     "output_type": "stream",
     "text": [
      "/opt/anaconda3/lib/python3.11/site-packages/aif360/algorithms/inprocessing/celisMeta/StatisticalRate.py:36: RuntimeWarning: invalid value encountered in divide\n",
      "  prob_y_1 = (prob_1_1 + prob_1_0) / total\n",
      "/opt/anaconda3/lib/python3.11/site-packages/aif360/algorithms/inprocessing/celisMeta/StatisticalRate.py:37: RuntimeWarning: invalid value encountered in divide\n",
      "  prob_z_0 = (prob_m1_0 + prob_1_0) / total\n",
      "/opt/anaconda3/lib/python3.11/site-packages/aif360/algorithms/inprocessing/celisMeta/StatisticalRate.py:38: RuntimeWarning: invalid value encountered in divide\n",
      "  prob_z_1 = (prob_m1_1 + prob_1_1) / total\n"
     ]
    },
    {
     "name": "stdout",
     "output_type": "stream",
     "text": [
      "MetaFairClassifier.fit failed on this fold: cannot unpack non-iterable NoneType object\n",
      "Skipping metrics for this fold because MetaFair failed.\n",
      "\n",
      "********** Fold 16 **********\n",
      "\n",
      "=== DEBUG for fold (train size 5771) ===\n",
      "---- Four‐cell counts in this training fold ----\n",
      " Privileged ∧ Favorable   = 2456\n",
      " Privileged ∧ Unfavorable = 2196\n",
      " Unprivileged ∧ Favorable = 714\n",
      " Unprivileged ∧ Unfavorable = 405\n",
      "\n",
      "No zero‐variance features in this fold (after encoding).\n",
      "\n",
      "Logistic regression accuracy (features → protected_group): 1.000\n",
      "  → Perfect (or near‐perfect) separability by protected group detected!\n",
      "-----------------------------------------------------\n",
      "\n"
     ]
    },
    {
     "name": "stderr",
     "output_type": "stream",
     "text": [
      "/opt/anaconda3/lib/python3.11/site-packages/aif360/algorithms/inprocessing/celisMeta/StatisticalRate.py:36: RuntimeWarning: invalid value encountered in divide\n",
      "  prob_y_1 = (prob_1_1 + prob_1_0) / total\n",
      "/opt/anaconda3/lib/python3.11/site-packages/aif360/algorithms/inprocessing/celisMeta/StatisticalRate.py:37: RuntimeWarning: invalid value encountered in divide\n",
      "  prob_z_0 = (prob_m1_0 + prob_1_0) / total\n",
      "/opt/anaconda3/lib/python3.11/site-packages/aif360/algorithms/inprocessing/celisMeta/StatisticalRate.py:38: RuntimeWarning: invalid value encountered in divide\n",
      "  prob_z_1 = (prob_m1_1 + prob_1_1) / total\n"
     ]
    },
    {
     "name": "stdout",
     "output_type": "stream",
     "text": [
      "MetaFairClassifier.fit failed on this fold: cannot unpack non-iterable NoneType object\n",
      "Skipping metrics for this fold because MetaFair failed.\n",
      "\n",
      "********** Fold 17 **********\n",
      "\n",
      "=== DEBUG for fold (train size 5771) ===\n",
      "---- Four‐cell counts in this training fold ----\n",
      " Privileged ∧ Favorable   = 2451\n",
      " Privileged ∧ Unfavorable = 2209\n",
      " Unprivileged ∧ Favorable = 719\n",
      " Unprivileged ∧ Unfavorable = 392\n",
      "\n",
      "No zero‐variance features in this fold (after encoding).\n",
      "\n",
      "Logistic regression accuracy (features → protected_group): 1.000\n",
      "  → Perfect (or near‐perfect) separability by protected group detected!\n",
      "-----------------------------------------------------\n",
      "\n"
     ]
    },
    {
     "name": "stderr",
     "output_type": "stream",
     "text": [
      "/opt/anaconda3/lib/python3.11/site-packages/aif360/algorithms/inprocessing/celisMeta/StatisticalRate.py:36: RuntimeWarning: invalid value encountered in divide\n",
      "  prob_y_1 = (prob_1_1 + prob_1_0) / total\n",
      "/opt/anaconda3/lib/python3.11/site-packages/aif360/algorithms/inprocessing/celisMeta/StatisticalRate.py:37: RuntimeWarning: invalid value encountered in divide\n",
      "  prob_z_0 = (prob_m1_0 + prob_1_0) / total\n",
      "/opt/anaconda3/lib/python3.11/site-packages/aif360/algorithms/inprocessing/celisMeta/StatisticalRate.py:38: RuntimeWarning: invalid value encountered in divide\n",
      "  prob_z_1 = (prob_m1_1 + prob_1_1) / total\n"
     ]
    },
    {
     "name": "stdout",
     "output_type": "stream",
     "text": [
      "MetaFairClassifier.fit failed on this fold: cannot unpack non-iterable NoneType object\n",
      "Skipping metrics for this fold because MetaFair failed.\n",
      "\n",
      "********** Fold 18 **********\n",
      "\n",
      "=== DEBUG for fold (train size 5771) ===\n",
      "---- Four‐cell counts in this training fold ----\n",
      " Privileged ∧ Favorable   = 2452\n",
      " Privileged ∧ Unfavorable = 2188\n",
      " Unprivileged ∧ Favorable = 718\n",
      " Unprivileged ∧ Unfavorable = 413\n",
      "\n",
      "No zero‐variance features in this fold (after encoding).\n",
      "\n",
      "Logistic regression accuracy (features → protected_group): 1.000\n",
      "  → Perfect (or near‐perfect) separability by protected group detected!\n",
      "-----------------------------------------------------\n",
      "\n"
     ]
    },
    {
     "name": "stderr",
     "output_type": "stream",
     "text": [
      "/opt/anaconda3/lib/python3.11/site-packages/aif360/algorithms/inprocessing/celisMeta/StatisticalRate.py:36: RuntimeWarning: invalid value encountered in divide\n",
      "  prob_y_1 = (prob_1_1 + prob_1_0) / total\n",
      "/opt/anaconda3/lib/python3.11/site-packages/aif360/algorithms/inprocessing/celisMeta/StatisticalRate.py:37: RuntimeWarning: invalid value encountered in divide\n",
      "  prob_z_0 = (prob_m1_0 + prob_1_0) / total\n",
      "/opt/anaconda3/lib/python3.11/site-packages/aif360/algorithms/inprocessing/celisMeta/StatisticalRate.py:38: RuntimeWarning: invalid value encountered in divide\n",
      "  prob_z_1 = (prob_m1_1 + prob_1_1) / total\n"
     ]
    },
    {
     "name": "stdout",
     "output_type": "stream",
     "text": [
      "MetaFairClassifier.fit failed on this fold: cannot unpack non-iterable NoneType object\n",
      "Skipping metrics for this fold because MetaFair failed.\n",
      "\n",
      "********** Fold 19 **********\n",
      "\n",
      "=== DEBUG for fold (train size 5771) ===\n",
      "---- Four‐cell counts in this training fold ----\n",
      " Privileged ∧ Favorable   = 2443\n",
      " Privileged ∧ Unfavorable = 2205\n",
      " Unprivileged ∧ Favorable = 727\n",
      " Unprivileged ∧ Unfavorable = 396\n",
      "\n",
      "No zero‐variance features in this fold (after encoding).\n",
      "\n",
      "Logistic regression accuracy (features → protected_group): 1.000\n",
      "  → Perfect (or near‐perfect) separability by protected group detected!\n",
      "-----------------------------------------------------\n",
      "\n"
     ]
    },
    {
     "name": "stderr",
     "output_type": "stream",
     "text": [
      "/opt/anaconda3/lib/python3.11/site-packages/aif360/algorithms/inprocessing/celisMeta/StatisticalRate.py:36: RuntimeWarning: invalid value encountered in divide\n",
      "  prob_y_1 = (prob_1_1 + prob_1_0) / total\n",
      "/opt/anaconda3/lib/python3.11/site-packages/aif360/algorithms/inprocessing/celisMeta/StatisticalRate.py:37: RuntimeWarning: invalid value encountered in divide\n",
      "  prob_z_0 = (prob_m1_0 + prob_1_0) / total\n",
      "/opt/anaconda3/lib/python3.11/site-packages/aif360/algorithms/inprocessing/celisMeta/StatisticalRate.py:38: RuntimeWarning: invalid value encountered in divide\n",
      "  prob_z_1 = (prob_m1_1 + prob_1_1) / total\n"
     ]
    },
    {
     "name": "stdout",
     "output_type": "stream",
     "text": [
      "MetaFairClassifier.fit failed on this fold: cannot unpack non-iterable NoneType object\n",
      "Skipping metrics for this fold because MetaFair failed.\n",
      "\n",
      "********** Fold 20 **********\n",
      "\n",
      "=== DEBUG for fold (train size 5771) ===\n",
      "---- Four‐cell counts in this training fold ----\n",
      " Privileged ∧ Favorable   = 2454\n",
      " Privileged ∧ Unfavorable = 2205\n",
      " Unprivileged ∧ Favorable = 716\n",
      " Unprivileged ∧ Unfavorable = 396\n",
      "\n",
      "No zero‐variance features in this fold (after encoding).\n",
      "\n",
      "Logistic regression accuracy (features → protected_group): 1.000\n",
      "  → Perfect (or near‐perfect) separability by protected group detected!\n",
      "-----------------------------------------------------\n",
      "\n"
     ]
    },
    {
     "name": "stderr",
     "output_type": "stream",
     "text": [
      "/opt/anaconda3/lib/python3.11/site-packages/aif360/algorithms/inprocessing/celisMeta/StatisticalRate.py:36: RuntimeWarning: invalid value encountered in divide\n",
      "  prob_y_1 = (prob_1_1 + prob_1_0) / total\n",
      "/opt/anaconda3/lib/python3.11/site-packages/aif360/algorithms/inprocessing/celisMeta/StatisticalRate.py:37: RuntimeWarning: invalid value encountered in divide\n",
      "  prob_z_0 = (prob_m1_0 + prob_1_0) / total\n",
      "/opt/anaconda3/lib/python3.11/site-packages/aif360/algorithms/inprocessing/celisMeta/StatisticalRate.py:38: RuntimeWarning: invalid value encountered in divide\n",
      "  prob_z_1 = (prob_m1_1 + prob_1_1) / total\n"
     ]
    },
    {
     "name": "stdout",
     "output_type": "stream",
     "text": [
      "MetaFairClassifier.fit failed on this fold: cannot unpack non-iterable NoneType object\n",
      "Skipping metrics for this fold because MetaFair failed.\n",
      "\n",
      "********** Fold 21 **********\n",
      "\n",
      "=== DEBUG for fold (train size 5771) ===\n",
      "---- Four‐cell counts in this training fold ----\n",
      " Privileged ∧ Favorable   = 2449\n",
      " Privileged ∧ Unfavorable = 2219\n",
      " Unprivileged ∧ Favorable = 721\n",
      " Unprivileged ∧ Unfavorable = 382\n",
      "\n",
      "No zero‐variance features in this fold (after encoding).\n",
      "\n",
      "Logistic regression accuracy (features → protected_group): 1.000\n",
      "  → Perfect (or near‐perfect) separability by protected group detected!\n",
      "-----------------------------------------------------\n",
      "\n"
     ]
    },
    {
     "name": "stderr",
     "output_type": "stream",
     "text": [
      "/opt/anaconda3/lib/python3.11/site-packages/aif360/algorithms/inprocessing/celisMeta/StatisticalRate.py:36: RuntimeWarning: invalid value encountered in divide\n",
      "  prob_y_1 = (prob_1_1 + prob_1_0) / total\n",
      "/opt/anaconda3/lib/python3.11/site-packages/aif360/algorithms/inprocessing/celisMeta/StatisticalRate.py:37: RuntimeWarning: invalid value encountered in divide\n",
      "  prob_z_0 = (prob_m1_0 + prob_1_0) / total\n",
      "/opt/anaconda3/lib/python3.11/site-packages/aif360/algorithms/inprocessing/celisMeta/StatisticalRate.py:38: RuntimeWarning: invalid value encountered in divide\n",
      "  prob_z_1 = (prob_m1_1 + prob_1_1) / total\n"
     ]
    },
    {
     "name": "stdout",
     "output_type": "stream",
     "text": [
      "MetaFairClassifier.fit failed on this fold: cannot unpack non-iterable NoneType object\n",
      "Skipping metrics for this fold because MetaFair failed.\n",
      "\n",
      "********** Fold 22 **********\n",
      "\n",
      "=== DEBUG for fold (train size 5771) ===\n",
      "---- Four‐cell counts in this training fold ----\n",
      " Privileged ∧ Favorable   = 2452\n",
      " Privileged ∧ Unfavorable = 2203\n",
      " Unprivileged ∧ Favorable = 718\n",
      " Unprivileged ∧ Unfavorable = 398\n",
      "\n",
      "No zero‐variance features in this fold (after encoding).\n",
      "\n",
      "Logistic regression accuracy (features → protected_group): 1.000\n",
      "  → Perfect (or near‐perfect) separability by protected group detected!\n",
      "-----------------------------------------------------\n",
      "\n"
     ]
    },
    {
     "name": "stderr",
     "output_type": "stream",
     "text": [
      "/opt/anaconda3/lib/python3.11/site-packages/aif360/algorithms/inprocessing/celisMeta/StatisticalRate.py:36: RuntimeWarning: invalid value encountered in divide\n",
      "  prob_y_1 = (prob_1_1 + prob_1_0) / total\n",
      "/opt/anaconda3/lib/python3.11/site-packages/aif360/algorithms/inprocessing/celisMeta/StatisticalRate.py:37: RuntimeWarning: invalid value encountered in divide\n",
      "  prob_z_0 = (prob_m1_0 + prob_1_0) / total\n",
      "/opt/anaconda3/lib/python3.11/site-packages/aif360/algorithms/inprocessing/celisMeta/StatisticalRate.py:38: RuntimeWarning: invalid value encountered in divide\n",
      "  prob_z_1 = (prob_m1_1 + prob_1_1) / total\n"
     ]
    },
    {
     "name": "stdout",
     "output_type": "stream",
     "text": [
      "MetaFairClassifier.fit failed on this fold: cannot unpack non-iterable NoneType object\n",
      "Skipping metrics for this fold because MetaFair failed.\n",
      "\n",
      "********** Fold 23 **********\n",
      "\n",
      "=== DEBUG for fold (train size 5771) ===\n",
      "---- Four‐cell counts in this training fold ----\n",
      " Privileged ∧ Favorable   = 2460\n",
      " Privileged ∧ Unfavorable = 2217\n",
      " Unprivileged ∧ Favorable = 710\n",
      " Unprivileged ∧ Unfavorable = 384\n",
      "\n",
      "No zero‐variance features in this fold (after encoding).\n",
      "\n",
      "Logistic regression accuracy (features → protected_group): 1.000\n",
      "  → Perfect (or near‐perfect) separability by protected group detected!\n",
      "-----------------------------------------------------\n",
      "\n"
     ]
    },
    {
     "name": "stderr",
     "output_type": "stream",
     "text": [
      "/opt/anaconda3/lib/python3.11/site-packages/aif360/algorithms/inprocessing/celisMeta/StatisticalRate.py:36: RuntimeWarning: invalid value encountered in divide\n",
      "  prob_y_1 = (prob_1_1 + prob_1_0) / total\n",
      "/opt/anaconda3/lib/python3.11/site-packages/aif360/algorithms/inprocessing/celisMeta/StatisticalRate.py:37: RuntimeWarning: invalid value encountered in divide\n",
      "  prob_z_0 = (prob_m1_0 + prob_1_0) / total\n",
      "/opt/anaconda3/lib/python3.11/site-packages/aif360/algorithms/inprocessing/celisMeta/StatisticalRate.py:38: RuntimeWarning: invalid value encountered in divide\n",
      "  prob_z_1 = (prob_m1_1 + prob_1_1) / total\n"
     ]
    },
    {
     "name": "stdout",
     "output_type": "stream",
     "text": [
      "MetaFairClassifier.fit failed on this fold: cannot unpack non-iterable NoneType object\n",
      "Skipping metrics for this fold because MetaFair failed.\n",
      "\n",
      "********** Fold 24 **********\n",
      "\n",
      "=== DEBUG for fold (train size 5771) ===\n",
      "---- Four‐cell counts in this training fold ----\n",
      " Privileged ∧ Favorable   = 2444\n",
      " Privileged ∧ Unfavorable = 2206\n",
      " Unprivileged ∧ Favorable = 726\n",
      " Unprivileged ∧ Unfavorable = 395\n",
      "\n",
      "No zero‐variance features in this fold (after encoding).\n",
      "\n",
      "Logistic regression accuracy (features → protected_group): 1.000\n",
      "  → Perfect (or near‐perfect) separability by protected group detected!\n",
      "-----------------------------------------------------\n",
      "\n"
     ]
    },
    {
     "name": "stderr",
     "output_type": "stream",
     "text": [
      "/opt/anaconda3/lib/python3.11/site-packages/aif360/algorithms/inprocessing/celisMeta/StatisticalRate.py:36: RuntimeWarning: invalid value encountered in divide\n",
      "  prob_y_1 = (prob_1_1 + prob_1_0) / total\n",
      "/opt/anaconda3/lib/python3.11/site-packages/aif360/algorithms/inprocessing/celisMeta/StatisticalRate.py:37: RuntimeWarning: invalid value encountered in divide\n",
      "  prob_z_0 = (prob_m1_0 + prob_1_0) / total\n",
      "/opt/anaconda3/lib/python3.11/site-packages/aif360/algorithms/inprocessing/celisMeta/StatisticalRate.py:38: RuntimeWarning: invalid value encountered in divide\n",
      "  prob_z_1 = (prob_m1_1 + prob_1_1) / total\n"
     ]
    },
    {
     "name": "stdout",
     "output_type": "stream",
     "text": [
      "MetaFairClassifier.fit failed on this fold: cannot unpack non-iterable NoneType object\n",
      "Skipping metrics for this fold because MetaFair failed.\n",
      "\n",
      "********** Fold 25 **********\n",
      "\n",
      "=== DEBUG for fold (train size 5771) ===\n",
      "---- Four‐cell counts in this training fold ----\n",
      " Privileged ∧ Favorable   = 2446\n",
      " Privileged ∧ Unfavorable = 2195\n",
      " Unprivileged ∧ Favorable = 724\n",
      " Unprivileged ∧ Unfavorable = 406\n",
      "\n",
      "No zero‐variance features in this fold (after encoding).\n",
      "\n",
      "Logistic regression accuracy (features → protected_group): 1.000\n",
      "  → Perfect (or near‐perfect) separability by protected group detected!\n",
      "-----------------------------------------------------\n",
      "\n"
     ]
    },
    {
     "name": "stderr",
     "output_type": "stream",
     "text": [
      "/opt/anaconda3/lib/python3.11/site-packages/aif360/algorithms/inprocessing/celisMeta/StatisticalRate.py:36: RuntimeWarning: invalid value encountered in divide\n",
      "  prob_y_1 = (prob_1_1 + prob_1_0) / total\n",
      "/opt/anaconda3/lib/python3.11/site-packages/aif360/algorithms/inprocessing/celisMeta/StatisticalRate.py:37: RuntimeWarning: invalid value encountered in divide\n",
      "  prob_z_0 = (prob_m1_0 + prob_1_0) / total\n",
      "/opt/anaconda3/lib/python3.11/site-packages/aif360/algorithms/inprocessing/celisMeta/StatisticalRate.py:38: RuntimeWarning: invalid value encountered in divide\n",
      "  prob_z_1 = (prob_m1_1 + prob_1_1) / total\n"
     ]
    },
    {
     "name": "stdout",
     "output_type": "stream",
     "text": [
      "MetaFairClassifier.fit failed on this fold: cannot unpack non-iterable NoneType object\n",
      "Skipping metrics for this fold because MetaFair failed.\n",
      "\n"
     ]
    }
   ],
   "source": [
    "protected           = 'sex'\n",
    "privileged_value    = 0.0\n",
    "unprivileged_value  = 1.0\n",
    "\n",
    "ds, df = load_compas_sex()\n",
    "favorable   = ds.favorable_label    # e.g. 0.0\n",
    "unfavorable = ds.unfavorable_label  # e.g. 1.0\n",
    "\n",
    "sss = StratifiedShuffleSplit(n_splits=25, test_size=0.2, random_state=42)\n",
    "\n",
    "results = []\n",
    "for fold_i, (train_idx, test_idx) in enumerate(sss.split(df, df['label']), start=1):\n",
    "    print(f\"********** Fold {fold_i} **********\")\n",
    "\n",
    "    test_df, y_test, y_pred = meta_fair_classifier_train_and_predict(\n",
    "        df,\n",
    "        train_idx,\n",
    "        test_idx,\n",
    "        protected,\n",
    "        privileged_value,\n",
    "        unprivileged_value,\n",
    "        favorable,\n",
    "        unfavorable\n",
    "    )\n",
    "\n",
    "    if y_pred is None:\n",
    "        # MetaFair failed on this fold: record or skip\n",
    "        print(\"Skipping metrics for this fold because MetaFair failed.\\n\")\n",
    "        continue\n"
   ]
  },
  {
   "cell_type": "markdown",
   "id": "789256bc",
   "metadata": {},
   "source": [
    "# --------------"
   ]
  },
  {
   "cell_type": "markdown",
   "id": "bd7a733f",
   "metadata": {},
   "source": [
    "# 1) Save the aggregated metrics \n",
    "save_agg_metrics(\n",
    "    dataset_name      = dataset_name,\n",
    "    mitigation_name   = mitigation_name,\n",
    "    race_agg_df       = compas_race_metrics_agg,\n",
    "    sex_agg_df        = compas_sex_metrics_agg,\n",
    "    pipeline_stage    = pipeline_stage   \n",
    ")\n",
    "\n",
    "# 2) Save the raw metrics\n",
    "save_raw_metrics(\n",
    "    dataset_name      = dataset_name,\n",
    "    mitigation_name   = mitigation_name,\n",
    "    race_raw_df       = compas_race_metrics,\n",
    "    sex_raw_df        = compas_sex_metrics,\n",
    "    pipeline_stage    = pipeline_stage\n",
    ")\n"
   ]
  },
  {
   "cell_type": "markdown",
   "id": "bc2d97e1",
   "metadata": {},
   "source": []
  }
 ],
 "metadata": {
  "kernelspec": {
   "display_name": "base",
   "language": "python",
   "name": "python3"
  },
  "language_info": {
   "codemirror_mode": {
    "name": "ipython",
    "version": 3
   },
   "file_extension": ".py",
   "mimetype": "text/x-python",
   "name": "python",
   "nbconvert_exporter": "python",
   "pygments_lexer": "ipython3",
   "version": "3.11.7"
  }
 },
 "nbformat": 4,
 "nbformat_minor": 5
}
