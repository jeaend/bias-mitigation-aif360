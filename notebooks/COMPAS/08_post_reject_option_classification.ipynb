{
 "cells": [
  {
   "cell_type": "markdown",
   "id": "abc82712",
   "metadata": {},
   "source": [
    "## Postprocessing - Reject Option Classification - Compas Model\n",
    "- for 'sex' and 'race'"
   ]
  },
  {
   "cell_type": "code",
   "execution_count": 5,
   "id": "7e1bf050",
   "metadata": {},
   "outputs": [],
   "source": [
    "import sys\n",
    "import os\n",
    "\n",
    "project_root = os.path.abspath(os.path.join(os.getcwd(), \"../..\"))\n",
    "sys.path.insert(0, project_root)\n",
    "\n",
    "import pandas as pd\n",
    "from src.data_loading import load_compas_sex, load_compas_race\n",
    "from src.modeling import get_default_model_pipeline, reject_option_classification_train_and_predict\n",
    "from src.metrics import compute_metrics, compare_viz_metrics_2x3, save_agg_metrics, save_raw_metrics\n",
    "from aif360.algorithms.postprocessing import RejectOptionClassification\n",
    "from aif360.datasets import BinaryLabelDataset\n",
    "from sklearn.model_selection import StratifiedShuffleSplit"
   ]
  },
  {
   "cell_type": "code",
   "execution_count": 6,
   "id": "a1611b53",
   "metadata": {},
   "outputs": [],
   "source": [
    "dataset_name = 'compas'\n",
    "mitigation_name   = 'reject option classification'\n",
    "pipeline_stage    = 'postprocessing'   \n",
    "out_dir_plots    = '../../reports/plots_compas'"
   ]
  },
  {
   "cell_type": "code",
   "execution_count": 7,
   "id": "d479e657",
   "metadata": {},
   "outputs": [],
   "source": [
    "baseline_race_agg = pd.read_csv('../../reports/baseline_agg/compas_race_metrics_agg.csv', index_col=0)\n",
    "baseline_sex_agg = pd.read_csv('../../reports/baseline_agg/compas_sex_metrics_agg.csv', index_col=0)"
   ]
  },
  {
   "cell_type": "markdown",
   "id": "12866dec",
   "metadata": {},
   "source": [
    "## Build up the function using race"
   ]
  },
  {
   "cell_type": "code",
   "execution_count": null,
   "id": "42e5ca67",
   "metadata": {},
   "outputs": [],
   "source": [
    "# 1) Load COMPAS (race) data\n",
    "protected          = 'race'\n",
    "privileged_value   = 0.0\n",
    "unprivileged_value = 1.0\n",
    "\n",
    "ds, df = load_compas_race()  \n",
    "feature_cols = [c for c in df.columns if c not in ('label', protected)]\n",
    "\n",
    "# 2) Run Experiment and Evaluat\n",
    "sss = StratifiedShuffleSplit(n_splits=25, test_size=0.2, random_state=42)\n",
    "\n",
    "results = []\n",
    "for train_idx, test_idx in sss.split(df, df['label']):\n",
    "    train_df = df.iloc[train_idx].reset_index(drop=True)\n",
    "    test_df  = df.iloc[test_idx].reset_index(drop=True)\n",
    "\n",
    "    X_train = train_df[feature_cols]\n",
    "    y_train = train_df['label'].values\n",
    "    X_test  = test_df[feature_cols]\n",
    "    y_test  = test_df['label'].values\n",
    "\n",
    "    pipeline = get_default_model_pipeline()\n",
    "    pipeline.fit(X_train, y_train)\n",
    "\n",
    "    y_train_pred = pipeline.predict(X_train)\n",
    "    y_test_pred  = pipeline.predict(X_test)\n",
    "\n",
    "    train_probs = pipeline.predict_proba(X_train)[:, 1].reshape(-1, 1)\n",
    "    test_probs  = pipeline.predict_proba(X_test)[:, 1].reshape(-1, 1)\n",
    "\n",
    "    train_bld = BinaryLabelDataset(\n",
    "        df=train_df,\n",
    "        label_names=['label'],\n",
    "        protected_attribute_names=[protected],\n",
    "        privileged_protected_attributes=[[privileged_value]],\n",
    "        unprivileged_protected_attributes=[[unprivileged_value]]\n",
    "    )\n",
    "    test_bld = BinaryLabelDataset(\n",
    "        df=test_df,\n",
    "        label_names=['label'],\n",
    "        protected_attribute_names=[protected],\n",
    "        privileged_protected_attributes=[[privileged_value]],\n",
    "        unprivileged_protected_attributes=[[unprivileged_value]]\n",
    "    )\n",
    "\n",
    "    train_pred = train_bld.copy(deepcopy=True)\n",
    "    train_pred.labels = y_train_pred.reshape(-1, 1)\n",
    "    train_pred.scores = train_probs\n",
    "\n",
    "    test_pred = test_bld.copy(deepcopy=True)\n",
    "    test_pred.labels = y_test_pred.reshape(-1, 1)\n",
    "    test_pred.scores = test_probs\n",
    "\n",
    "    # Apply RejectOptionClassification with defaults\n",
    "    roc = RejectOptionClassification(\n",
    "        unprivileged_groups=[{protected: unprivileged_value}],\n",
    "        privileged_groups=[{protected: privileged_value}]\n",
    "        # all other parameters are left at their defaults\n",
    "    )\n",
    "    roc.fit(train_bld, train_pred)\n",
    "    post_bld = roc.predict(test_pred)\n",
    "    y_post = post_bld.labels.ravel()\n",
    "    \n",
    "    m = compute_metrics(\n",
    "        test_df, y_test, y_post,\n",
    "        protected, privileged_value, unprivileged_value\n",
    "    )\n",
    "    results.append(m)\n",
    "\n",
    "# 3) Aggregate results\n",
    "compas_race_metrics     = pd.DataFrame(results)\n",
    "compas_race_metrics_agg = compas_race_metrics.agg(['mean', 'std'])\n",
    "print(compas_race_metrics_agg)"
   ]
  },
  {
   "cell_type": "markdown",
   "id": "df061c01",
   "metadata": {},
   "source": [
    "--------------------------------------------------------------------------------------------------------------------------------------"
   ]
  },
  {
   "cell_type": "markdown",
   "id": "468bb5e5",
   "metadata": {},
   "source": [
    "## default Reject Option Classification, sex"
   ]
  },
  {
   "cell_type": "code",
   "execution_count": null,
   "id": "ddb5c366",
   "metadata": {},
   "outputs": [],
   "source": [
    "# 1) Load data\n",
    "protected          = 'sex'\n",
    "privileged_value   = 0.0\n",
    "unprivileged_value = 1.0\n",
    "\n",
    "ds, df = load_compas_sex()  \n",
    "feature_cols = [c for c in df.columns if c not in ('label', protected)]\n",
    "\n",
    "# 2) Run experiment and evaluate\n",
    "sss = StratifiedShuffleSplit(n_splits=25, test_size=0.2, random_state=42)\n",
    "\n",
    "results = []\n",
    "for train_idx, test_idx in sss.split(df, df['label']):\n",
    "    test_df, y_test, y_pred_post = reject_option_classification_train_and_predict(\n",
    "        df,\n",
    "        train_idx,\n",
    "        test_idx,\n",
    "        feature_cols,\n",
    "        protected,\n",
    "        privileged_value,\n",
    "        unprivileged_value\n",
    "    )\n",
    "\n",
    "    m = compute_metrics(\n",
    "        test_df, y_test, y_pred_post,\n",
    "        protected, privileged_value, unprivileged_value\n",
    "    )\n",
    "    results.append(m)\n",
    "\n",
    "# 3) Aggregate results\n",
    "compas_sex_metrics     = pd.DataFrame(results)\n",
    "compas_sex_metrics_agg = compas_sex_metrics.agg(['mean', 'std'])\n",
    "print(compas_sex_metrics_agg)"
   ]
  },
  {
   "cell_type": "code",
   "execution_count": null,
   "id": "d5e22c44",
   "metadata": {},
   "outputs": [],
   "source": [
    "plot_title = 'Compas Postprocessing Reject Option Classification: Baseline - Sex'\n",
    "fig = compare_viz_metrics_2x3(baseline_sex_agg, compas_sex_metrics_agg, 'Baseline', 'Sex', plot_title)\n",
    "fname    = plot_title.replace(' ', '_').replace('(', '').replace(')', '')\n",
    "out_path = os.path.join(out_dir_plots, f'{fname}.png')\n",
    "fig.savefig(out_path)\n",
    "fig.show()"
   ]
  },
  {
   "cell_type": "markdown",
   "id": "663fce26",
   "metadata": {},
   "source": [
    "## default  Reject Option Classification, race"
   ]
  },
  {
   "cell_type": "code",
   "execution_count": null,
   "id": "defac5a2",
   "metadata": {},
   "outputs": [],
   "source": [
    "# 1) Load data\n",
    "protected          = 'race'\n",
    "privileged_value   = 0.0\n",
    "unprivileged_value = 1.0\n",
    "\n",
    "ds, df = load_compas_race()  \n",
    "feature_cols = [c for c in df.columns if c not in ('label', protected)]\n",
    "\n",
    "# 2) Run experiment and evaluate\n",
    "sss = StratifiedShuffleSplit(n_splits=25, test_size=0.2, random_state=42)\n",
    "\n",
    "results = []\n",
    "for train_idx, test_idx in sss.split(df, df['label']):\n",
    "    test_df, y_test, y_pred_post = reject_option_classification_train_and_predict(\n",
    "        df,\n",
    "        train_idx,\n",
    "        test_idx,\n",
    "        feature_cols,\n",
    "        protected,\n",
    "        privileged_value,\n",
    "        unprivileged_value\n",
    "    )\n",
    "\n",
    "    m = compute_metrics(\n",
    "        test_df, y_test, y_pred_post,\n",
    "        protected, privileged_value, unprivileged_value\n",
    "    )\n",
    "    results.append(m)\n",
    "\n",
    "# 3) Aggregate results\n",
    "compas_race_metrics     = pd.DataFrame(results)\n",
    "compas_race_metrics_agg = compas_race_metrics.agg(['mean', 'std'])\n",
    "print(compas_race_metrics_agg)"
   ]
  },
  {
   "cell_type": "code",
   "execution_count": null,
   "id": "638d3f8e",
   "metadata": {},
   "outputs": [],
   "source": [
    "plot_title = 'Compas Postprocessing Reject Option Classification: Baseline - Race'\n",
    "fig = compare_viz_metrics_2x3(baseline_sex_agg, compas_sex_metrics_agg, 'Baseline', 'Race', plot_title)\n",
    "fname    = plot_title.replace(' ', '_').replace('(', '').replace(')', '')\n",
    "out_path = os.path.join(out_dir_plots, f'{fname}.png')\n",
    "fig.savefig(out_path)\n",
    "fig.show()"
   ]
  },
  {
   "cell_type": "code",
   "execution_count": null,
   "id": "0e9bde94",
   "metadata": {},
   "outputs": [],
   "source": [
    "# 1) Save the aggregated metrics \n",
    "save_agg_metrics(\n",
    "    dataset_name      = dataset_name,\n",
    "    mitigation_name   = mitigation_name,\n",
    "    race_agg_df       = compas_race_metrics_agg,\n",
    "    sex_agg_df        = compas_sex_metrics_agg,\n",
    "    pipeline_stage    = pipeline_stage   \n",
    ")\n",
    "\n",
    "# 2) Save the raw metrics\n",
    "save_raw_metrics(\n",
    "    dataset_name      = dataset_name,\n",
    "    mitigation_name   = mitigation_name,\n",
    "    race_raw_df       = compas_race_metrics_agg,\n",
    "    sex_raw_df        = compas_sex_metrics,\n",
    "    pipeline_stage    = pipeline_stage\n",
    ")"
   ]
  }
 ],
 "metadata": {
  "kernelspec": {
   "display_name": "base",
   "language": "python",
   "name": "python3"
  },
  "language_info": {
   "codemirror_mode": {
    "name": "ipython",
    "version": 3
   },
   "file_extension": ".py",
   "mimetype": "text/x-python",
   "name": "python",
   "nbconvert_exporter": "python",
   "pygments_lexer": "ipython3",
   "version": "3.11.7"
  }
 },
 "nbformat": 4,
 "nbformat_minor": 5
}
