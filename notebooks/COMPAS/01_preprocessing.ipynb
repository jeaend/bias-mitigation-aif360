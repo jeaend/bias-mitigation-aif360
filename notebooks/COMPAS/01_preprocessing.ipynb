{
 "cells": [
  {
   "cell_type": "markdown",
   "id": "9104dc0f",
   "metadata": {},
   "source": [
    "## Exploratory Preprocessing\n",
    "- for 'sex' and 'race'"
   ]
  },
  {
   "cell_type": "code",
   "execution_count": null,
   "id": "8a9e6965",
   "metadata": {},
   "outputs": [],
   "source": [
    "import sys\n",
    "import os\n",
    "\n",
    "project_root = os.path.abspath(os.path.join(os.getcwd(), \"../..\"))\n",
    "sys.path.insert(0, project_root)"
   ]
  },
  {
   "cell_type": "code",
   "execution_count": null,
   "id": "d0fbe147",
   "metadata": {},
   "outputs": [],
   "source": [
    "from aif360.datasets import CompasDataset\n",
    "import pandas as pd\n",
    "from sklearn.model_selection import StratifiedShuffleSplit\n",
    "\n",
    "pd.set_option('display.max_columns', None)"
   ]
  },
  {
   "cell_type": "code",
   "execution_count": null,
   "id": "77f5de35",
   "metadata": {},
   "outputs": [],
   "source": [
    "\n",
    "def load_compas_race(custom_preprocessing=None):\n",
    "    ds = CompasDataset(\n",
    "        protected_attribute_names=['race'],\n",
    "        privileged_classes=[['Caucasian']],\n",
    "        features_to_drop=[''],\n",
    "        categorical_features=[\n",
    "            'sex', 'age_cat', 'c_charge_degree', 'c_charge_desc'\n",
    "        ],\n",
    "        custom_preprocessing=custom_preprocessing\n",
    "    )\n",
    "    df = pd.DataFrame(ds.features, columns=ds.feature_names)\n",
    "    df['label'] = ds.labels.ravel()\n",
    "    df['race']  = ds.protected_attributes[:, 0]\n",
    "    return ds, df\n"
   ]
  },
  {
   "cell_type": "code",
   "execution_count": null,
   "id": "e6690dcf",
   "metadata": {},
   "outputs": [],
   "source": [
    "# 1) Retrieve data\n",
    "cd, df = load_compas_race()\n",
    "df"
   ]
  },
  {
   "cell_type": "markdown",
   "id": "de554233",
   "metadata": {},
   "source": [
    "- the 29 removed have missing recidivism, need to be dropped"
   ]
  },
  {
   "cell_type": "markdown",
   "id": "44179b8a",
   "metadata": {},
   "source": [
    "# add preprocessor\n",
    "-group categoricals\n",
    "-remoce age cat"
   ]
  },
  {
   "cell_type": "code",
   "execution_count": null,
   "id": "7419d6c1",
   "metadata": {},
   "outputs": [],
   "source": [
    "def preprocessing_compas(df):\n",
    "\n",
    "\n",
    "    return df\n",
    "\n",
    "def load_compas_race(custom_preprocessing=preprocessing_compas):\n",
    "    ds = CompasDataset(\n",
    "        protected_attribute_names=['race'],\n",
    "        privileged_classes=[['Caucasian']],\n",
    "        features_to_drop=[''],\n",
    "        categorical_features=[\n",
    "            'sex', 'age_cat', 'c_charge_degree', 'c_charge_desc'\n",
    "        ],\n",
    "        custom_preprocessing=custom_preprocessing\n",
    "    )\n",
    "    df = pd.DataFrame(ds.features, columns=ds.feature_names)\n",
    "    df['label'] = ds.labels.ravel()\n",
    "    df['race']  = ds.protected_attributes[:, 0]\n",
    "    return ds, df"
   ]
  },
  {
   "cell_type": "code",
   "execution_count": null,
   "id": "d3b60f92",
   "metadata": {},
   "outputs": [],
   "source": [
    "import sys\n",
    "import os\n",
    "\n",
    "project_root = os.path.abspath(os.path.join(os.getcwd(), \"../..\"))\n",
    "sys.path.insert(0, project_root)\n",
    "\n",
    "import pandas as pd\n",
    "from sklearn.model_selection import StratifiedShuffleSplit\n",
    "from src.modeling import train_and_predict\n",
    "from src.metrics import compute_metrics"
   ]
  },
  {
   "cell_type": "code",
   "execution_count": null,
   "id": "488c9c12",
   "metadata": {},
   "outputs": [],
   "source": [
    "# 1) Retrieve data\n",
    "protected = 'race'\n",
    "privileged_value   = 1.0\n",
    "unprivileged_value = 0.0\n",
    "\n",
    "ds, df = load_compas_race()\n",
    "feature_cols = ds.feature_names"
   ]
  },
  {
   "cell_type": "code",
   "execution_count": null,
   "id": "31919b6f",
   "metadata": {},
   "outputs": [],
   "source": [
    "protected = 'race'   \n",
    "\n",
    "variants = {\n",
    "    'continuous_age': [\n",
    "        c for c in df.columns\n",
    "        if c not in ('label', protected)\n",
    "        and not c.startswith('age_cat=')\n",
    "    ],\n",
    "    'binned_age': [\n",
    "        c for c in df.columns\n",
    "        if c not in ('label', protected, 'age')\n",
    "    ]\n",
    "}\n",
    "\n",
    "# 2) Run experiment, Evaluate\n",
    "sss = StratifiedShuffleSplit(n_splits=25, test_size=0.2, random_state=42)\n",
    "results = {}\n",
    "for name, cols in variants.items():\n",
    "    res = []\n",
    "    for train_idx, test_idx in sss.split(df, df['label']):\n",
    "        test_df, y_test, y_pred = train_and_predict(df, cols, train_idx, test_idx)\n",
    "        res.append(compute_metrics(\n",
    "             test_df, y_test, y_pred,\n",
    "             protected, privileged_value, unprivileged_value\n",
    "        ))\n",
    "    metrics_df        = pd.DataFrame(res)\n",
    "    results[name]     = metrics_df.agg(['mean','std'])\n",
    "\n",
    "print(\"Continuous-age results:\\n\", results['continuous_age'])\n",
    "print(\"\\nBinned-age results:\\n\",    results['binned_age'])"
   ]
  },
  {
   "cell_type": "markdown",
   "id": "6b81f945",
   "metadata": {},
   "source": [
    "#### remove binned age categorical"
   ]
  },
  {
   "cell_type": "code",
   "execution_count": null,
   "id": "819977b5",
   "metadata": {},
   "outputs": [],
   "source": [
    "df"
   ]
  },
  {
   "cell_type": "code",
   "execution_count": null,
   "id": "f13244ab",
   "metadata": {},
   "outputs": [],
   "source": [
    "def preprocessing_compas(df):\n",
    "\n",
    "\n",
    "    return df\n",
    "\n",
    "def load_compas_race(custom_preprocessing=preprocessing_compas):\n",
    "    ds = CompasDataset(\n",
    "        protected_attribute_names=['race'],\n",
    "        privileged_classes=[['Caucasian']],\n",
    "        features_to_drop=['age_cat'],\n",
    "        categorical_features=[\n",
    "            'sex', 'c_charge_degree', 'c_charge_desc'\n",
    "        ],\n",
    "        custom_preprocessing=custom_preprocessing\n",
    "    )\n",
    "    df = pd.DataFrame(ds.features, columns=ds.feature_names)\n",
    "    df['label'] = ds.labels.ravel()\n",
    "    df['race']  = ds.protected_attributes[:, 0]\n",
    "    return ds, df"
   ]
  },
  {
   "cell_type": "code",
   "execution_count": null,
   "id": "dd09acbb",
   "metadata": {},
   "outputs": [],
   "source": [
    "# 1) Retrieve data\n",
    "protected = 'race'\n",
    "privileged_value   = 1.0\n",
    "unprivileged_value = 0.0\n",
    "\n",
    "ds, df = load_compas_race()\n",
    "feature_cols = ds.feature_names\n",
    "\n",
    "# 2) Run experiment, Evaluate\n",
    "sss = StratifiedShuffleSplit(n_splits=25, test_size=0.2, random_state=42)\n",
    "\n",
    "results = []\n",
    "for train_idx, test_idx in sss.split(df, df['label']):\n",
    "    test_df, y_test, y_pred = train_and_predict(\n",
    "        df, feature_cols, train_idx, test_idx\n",
    "    )\n",
    "    m = compute_metrics(test_df, y_test, y_pred, protected, privileged_value, unprivileged_value)\n",
    "    results.append(m)\n",
    "\n",
    "# 3) Aggregate results\n",
    "compas_race_metrics = pd.DataFrame(results)\n",
    "compas_race_metrics_agg = compas_race_metrics.agg(['mean', 'std'])"
   ]
  },
  {
   "cell_type": "code",
   "execution_count": null,
   "id": "7e1cb578",
   "metadata": {},
   "outputs": [],
   "source": [
    "compas_race_metrics_agg"
   ]
  },
  {
   "cell_type": "markdown",
   "id": "cc435c50",
   "metadata": {},
   "source": [
    "#### check charges for grouping"
   ]
  },
  {
   "cell_type": "code",
   "execution_count": null,
   "id": "db262111",
   "metadata": {},
   "outputs": [],
   "source": [
    "# check charges \n",
    "charge_desc_cols = [c for c in df.columns if c.startswith('c_charge_desc=')]\n",
    "counts = df[charge_desc_cols].sum().sort_values(ascending=False)\n",
    "counts = counts[counts > 0]\n",
    "counts.index = counts.index.str.replace('c_charge_desc=', '')\n",
    "counts_df = counts.reset_index()\n",
    "counts_df.columns = ['charge_desc', 'count']\n",
    "print(counts_df.to_string(index=False))"
   ]
  },
  {
   "cell_type": "code",
   "execution_count": null,
   "id": "0b074ab6",
   "metadata": {},
   "outputs": [],
   "source": [
    "def preprocessing_compas(df):\n",
    "    # 4) Charges simplification\n",
    "    violent = {'assault','battery','murder','manslaughter'}\n",
    "    property = {'theft','burglary','robbery','arson','trespass'}\n",
    "    drug = {'possession','traff','deliver','cocaine', 'heroin','marijuana','meth','opioid'}\n",
    "    alcohol_dui = {'dui','dwi','alcohol','intoxicated'}\n",
    "    weapons = {'weapon','firearm','gun','deadly'}\n",
    "    \n",
    "    def charge_group(x):\n",
    "        if not isinstance(x, str):\n",
    "            return 'Other'\n",
    "        txt = x.lower()\n",
    "        if any(k in txt for k in violent):\n",
    "            return 'Violent'\n",
    "        if any(k in txt for k in property):\n",
    "            return 'Property'\n",
    "        if any(k in txt for k in drug):\n",
    "            return 'Drug'\n",
    "        if any(k in txt for k in alcohol_dui):\n",
    "            return 'Alcohol_dui'\n",
    "        if any(k in txt for k in weapons):\n",
    "            return 'Weapons'\n",
    "        return 'Other'\n",
    "    df['c_charge_desc'] = df['c_charge_desc'].apply(charge_group)\n",
    "\n",
    "    return df\n",
    "\n",
    "def load_compas_race(custom_preprocessing=preprocessing_compas):\n",
    "    ds = CompasDataset(\n",
    "        protected_attribute_names=['race'],\n",
    "        privileged_classes=[['Caucasian']],\n",
    "        features_to_drop=['age_cat'],\n",
    "        categorical_features=[\n",
    "            'sex', 'c_charge_degree', 'c_charge_desc'\n",
    "        ],\n",
    "        custom_preprocessing=custom_preprocessing\n",
    "    )\n",
    "    df = pd.DataFrame(ds.features, columns=ds.feature_names)\n",
    "    df['label'] = ds.labels.ravel()\n",
    "    df['race']  = ds.protected_attributes[:, 0]\n",
    "    return ds, df"
   ]
  },
  {
   "cell_type": "code",
   "execution_count": null,
   "id": "5dd8e69b",
   "metadata": {},
   "outputs": [],
   "source": [
    "# 1) Retrieve data\n",
    "protected = 'race'\n",
    "privileged_value   = 1.0\n",
    "unprivileged_value = 0.0\n",
    "\n",
    "ds, df = load_compas_race()\n",
    "feature_cols = ds.feature_names"
   ]
  },
  {
   "cell_type": "code",
   "execution_count": null,
   "id": "88f8e77a",
   "metadata": {},
   "outputs": [],
   "source": [
    "df.iloc[:,:6].describe()\n",
    "# race is binary, ignore\n",
    "# robust scaler!"
   ]
  },
  {
   "cell_type": "code",
   "execution_count": null,
   "id": "a2fd24be",
   "metadata": {},
   "outputs": [],
   "source": [
    "print(df['race'].value_counts())"
   ]
  },
  {
   "cell_type": "markdown",
   "id": "ec310dff",
   "metadata": {},
   "source": [
    "#### check metrics with binned"
   ]
  },
  {
   "cell_type": "code",
   "execution_count": null,
   "id": "6ad4b370",
   "metadata": {},
   "outputs": [],
   "source": [
    "# 1) Retrieve data\n",
    "protected = 'race'\n",
    "privileged_value   = 1.0\n",
    "unprivileged_value = 0.0\n",
    "\n",
    "ds, df = load_compas_race()\n",
    "feature_cols = ds.feature_names\n",
    "\n",
    "# 2) Run experiment, Evaluate\n",
    "sss = StratifiedShuffleSplit(n_splits=25, test_size=0.2, random_state=42)\n",
    "\n",
    "results = []\n",
    "for train_idx, test_idx in sss.split(df, df['label']):\n",
    "    test_df, y_test, y_pred = train_and_predict(\n",
    "        df, feature_cols, train_idx, test_idx\n",
    "    )\n",
    "    m = compute_metrics(test_df, y_test, y_pred, protected, privileged_value, unprivileged_value)\n",
    "    results.append(m)\n",
    "\n",
    "# 3) Aggregate results\n",
    "compas_race_metrics = pd.DataFrame(results)\n",
    "compas_race_metrics_agg = compas_race_metrics.agg(['mean', 'std'])"
   ]
  },
  {
   "cell_type": "code",
   "execution_count": null,
   "id": "397102dd",
   "metadata": {},
   "outputs": [],
   "source": [
    "compas_race_metrics_agg"
   ]
  },
  {
   "cell_type": "markdown",
   "id": "5e22645e",
   "metadata": {},
   "source": [
    "### drop one-hot-encoded extras, final check\n",
    "- aifs30 doesn't allow to drop first/last during encoding"
   ]
  },
  {
   "cell_type": "code",
   "execution_count": null,
   "id": "0168f716",
   "metadata": {},
   "outputs": [],
   "source": [
    "def preprocessing_compas(df):\n",
    "    # 4) Charges simplification\n",
    "    violent = {'assault','battery','murder','manslaughter'}\n",
    "    property = {'theft','burglary','robbery','arson','trespass'}\n",
    "    drug = {'possession','traff','deliver','cocaine', 'heroin','marijuana','meth','opioid'}\n",
    "    alcohol_dui = {'dui','dwi','alcohol','intoxicated'}\n",
    "    weapons = {'weapon','firearm','gun','deadly'}\n",
    "    \n",
    "    def charge_group(x):\n",
    "        if not isinstance(x, str):\n",
    "            return 'Other'\n",
    "        txt = x.lower()\n",
    "        if any(k in txt for k in violent):\n",
    "            return 'Violent'\n",
    "        if any(k in txt for k in property):\n",
    "            return 'Property'\n",
    "        if any(k in txt for k in drug):\n",
    "            return 'Drug'\n",
    "        if any(k in txt for k in alcohol_dui):\n",
    "            return 'Alcohol_dui'\n",
    "        if any(k in txt for k in weapons):\n",
    "            return 'Weapons'\n",
    "        return 'Other'\n",
    "    df['c_charge_desc'] = df['c_charge_desc'].apply(charge_group)\n",
    "\n",
    "    return df\n",
    "\n",
    "def load_compas_race(custom_preprocessing=preprocessing_compas):\n",
    "    ds = CompasDataset(\n",
    "        protected_attribute_names=['race'],\n",
    "        privileged_classes=[['Caucasian']],\n",
    "        features_to_drop=['age_cat'],\n",
    "        categorical_features=[\n",
    "            'sex', 'c_charge_degree', 'c_charge_desc'\n",
    "        ],\n",
    "        custom_preprocessing=custom_preprocessing\n",
    "    )\n",
    "    df = pd.DataFrame(ds.features, columns=ds.feature_names)\n",
    "    df['label'] = ds.labels.ravel()\n",
    "    df['race']  = ds.protected_attributes[:, 0]\n",
    "\n",
    "    df.drop(    \n",
    "        ['c_charge_desc=Other', 'sex=Female', 'c_charge_degree=F'],\n",
    "        axis=1,\n",
    "        inplace=True\n",
    "    )\n",
    "\n",
    "    return ds, df"
   ]
  },
  {
   "cell_type": "code",
   "execution_count": 1,
   "id": "ea24fa39",
   "metadata": {},
   "outputs": [],
   "source": [
    "import sys\n",
    "import os\n",
    "\n",
    "project_root = os.path.abspath(os.path.join(os.getcwd(), \"../..\"))\n",
    "sys.path.insert(0, project_root)"
   ]
  },
  {
   "cell_type": "code",
   "execution_count": 7,
   "id": "2e01ccdd",
   "metadata": {},
   "outputs": [],
   "source": [
    "\n",
    "import pandas as pd\n",
    "from src.data_loading import load_compas_sex, load_compas_race\n",
    "from src.modeling import train_and_predict\n",
    "from src.metrics import compute_metrics\n",
    "\n",
    "from sklearn.model_selection import StratifiedShuffleSplit"
   ]
  },
  {
   "cell_type": "code",
   "execution_count": 8,
   "id": "d74f51da",
   "metadata": {},
   "outputs": [],
   "source": [
    "# 1) Retrieve data\n",
    "protected = 'race'\n",
    "privileged_value   = 1.0\n",
    "unprivileged_value = 0.0\n",
    "\n",
    "ds, df = load_compas_race()\n",
    "feature_cols = [c for c in df.columns if c not in ('label','race')]\n",
    "\n",
    "# 2) Run experiment, Evaluate\n",
    "sss = StratifiedShuffleSplit(n_splits=25, test_size=0.2, random_state=42)\n",
    "\n",
    "results = []\n",
    "for train_idx, test_idx in sss.split(df, df['label']):\n",
    "    test_df, y_test, y_pred = train_and_predict(\n",
    "        df, feature_cols, train_idx, test_idx\n",
    "    )\n",
    "    m = compute_metrics(test_df, y_test, y_pred, protected, privileged_value, unprivileged_value)\n",
    "    results.append(m)\n",
    "\n",
    "# 3) Aggregate results\n",
    "compas_race_metrics = pd.DataFrame(results)\n",
    "compas_race_metrics_agg = compas_race_metrics.agg(['mean', 'std'])"
   ]
  },
  {
   "cell_type": "code",
   "execution_count": 9,
   "id": "da18d7a0",
   "metadata": {},
   "outputs": [
    {
     "data": {
      "text/html": [
       "<div>\n",
       "<style scoped>\n",
       "    .dataframe tbody tr th:only-of-type {\n",
       "        vertical-align: middle;\n",
       "    }\n",
       "\n",
       "    .dataframe tbody tr th {\n",
       "        vertical-align: top;\n",
       "    }\n",
       "\n",
       "    .dataframe thead th {\n",
       "        text-align: right;\n",
       "    }\n",
       "</style>\n",
       "<table border=\"1\" class=\"dataframe\">\n",
       "  <thead>\n",
       "    <tr style=\"text-align: right;\">\n",
       "      <th></th>\n",
       "      <th>accuracy</th>\n",
       "      <th>f1_score</th>\n",
       "      <th>SPD</th>\n",
       "      <th>DI</th>\n",
       "      <th>EOD</th>\n",
       "      <th>AOD</th>\n",
       "    </tr>\n",
       "  </thead>\n",
       "  <tbody>\n",
       "    <tr>\n",
       "      <th>mean</th>\n",
       "      <td>0.673070</td>\n",
       "      <td>0.597067</td>\n",
       "      <td>0.179721</td>\n",
       "      <td>1.749589</td>\n",
       "      <td>0.208976</td>\n",
       "      <td>0.159877</td>\n",
       "    </tr>\n",
       "    <tr>\n",
       "      <th>std</th>\n",
       "      <td>0.010989</td>\n",
       "      <td>0.012907</td>\n",
       "      <td>0.024342</td>\n",
       "      <td>0.143759</td>\n",
       "      <td>0.038348</td>\n",
       "      <td>0.023623</td>\n",
       "    </tr>\n",
       "  </tbody>\n",
       "</table>\n",
       "</div>"
      ],
      "text/plain": [
       "      accuracy  f1_score       SPD        DI       EOD       AOD\n",
       "mean  0.673070  0.597067  0.179721  1.749589  0.208976  0.159877\n",
       "std   0.010989  0.012907  0.024342  0.143759  0.038348  0.023623"
      ]
     },
     "execution_count": 9,
     "metadata": {},
     "output_type": "execute_result"
    }
   ],
   "source": [
    "compas_race_metrics_agg"
   ]
  },
  {
   "cell_type": "code",
   "execution_count": 11,
   "id": "edb028f5",
   "metadata": {},
   "outputs": [],
   "source": [
    "# 1) Retrieve data\n",
    "protected = 'sex'\n",
    "privileged_value   = 1.0\n",
    "unprivileged_value = 0.0\n",
    "\n",
    "ds, df = load_compas_sex()\n",
    "feature_cols = [c for c in df.columns if c not in ('label','sex')]\n",
    "\n",
    "# 2) Run experiment, Evaluate\n",
    "sss = StratifiedShuffleSplit(n_splits=25, test_size=0.2, random_state=42)\n",
    "\n",
    "results = []\n",
    "for train_idx, test_idx in sss.split(df, df['label']):\n",
    "    test_df, y_test, y_pred = train_and_predict(\n",
    "        df, feature_cols, train_idx, test_idx\n",
    "    )\n",
    "    m = compute_metrics(test_df, y_test, y_pred, protected, privileged_value, unprivileged_value)\n",
    "    results.append(m)\n",
    "\n",
    "# 3) Aggregate results\n",
    "compas_sex_metrics = pd.DataFrame(results)\n",
    "compas_sex_metrics_agg = compas_sex_metrics.agg(['mean', 'std'])"
   ]
  },
  {
   "cell_type": "code",
   "execution_count": 12,
   "id": "82ca3860",
   "metadata": {},
   "outputs": [
    {
     "data": {
      "text/html": [
       "<div>\n",
       "<style scoped>\n",
       "    .dataframe tbody tr th:only-of-type {\n",
       "        vertical-align: middle;\n",
       "    }\n",
       "\n",
       "    .dataframe tbody tr th {\n",
       "        vertical-align: top;\n",
       "    }\n",
       "\n",
       "    .dataframe thead th {\n",
       "        text-align: right;\n",
       "    }\n",
       "</style>\n",
       "<table border=\"1\" class=\"dataframe\">\n",
       "  <thead>\n",
       "    <tr style=\"text-align: right;\">\n",
       "      <th></th>\n",
       "      <th>accuracy</th>\n",
       "      <th>f1_score</th>\n",
       "      <th>SPD</th>\n",
       "      <th>DI</th>\n",
       "      <th>EOD</th>\n",
       "      <th>AOD</th>\n",
       "    </tr>\n",
       "  </thead>\n",
       "  <tbody>\n",
       "    <tr>\n",
       "      <th>mean</th>\n",
       "      <td>0.674428</td>\n",
       "      <td>0.60112</td>\n",
       "      <td>-0.284143</td>\n",
       "      <td>0.325303</td>\n",
       "      <td>-0.330735</td>\n",
       "      <td>-0.263446</td>\n",
       "    </tr>\n",
       "    <tr>\n",
       "      <th>std</th>\n",
       "      <td>0.010717</td>\n",
       "      <td>0.01307</td>\n",
       "      <td>0.030890</td>\n",
       "      <td>0.059146</td>\n",
       "      <td>0.055995</td>\n",
       "      <td>0.034357</td>\n",
       "    </tr>\n",
       "  </tbody>\n",
       "</table>\n",
       "</div>"
      ],
      "text/plain": [
       "      accuracy  f1_score       SPD        DI       EOD       AOD\n",
       "mean  0.674428   0.60112 -0.284143  0.325303 -0.330735 -0.263446\n",
       "std   0.010717   0.01307  0.030890  0.059146  0.055995  0.034357"
      ]
     },
     "execution_count": 12,
     "metadata": {},
     "output_type": "execute_result"
    }
   ],
   "source": [
    "compas_sex_metrics_agg"
   ]
  },
  {
   "cell_type": "markdown",
   "id": "60060047",
   "metadata": {},
   "source": []
  }
 ],
 "metadata": {
  "kernelspec": {
   "display_name": "base",
   "language": "python",
   "name": "python3"
  },
  "language_info": {
   "codemirror_mode": {
    "name": "ipython",
    "version": 3
   },
   "file_extension": ".py",
   "mimetype": "text/x-python",
   "name": "python",
   "nbconvert_exporter": "python",
   "pygments_lexer": "ipython3",
   "version": "3.11.7"
  }
 },
 "nbformat": 4,
 "nbformat_minor": 5
}
