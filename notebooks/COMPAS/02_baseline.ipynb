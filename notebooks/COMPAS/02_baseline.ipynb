{
 "cells": [
  {
   "cell_type": "code",
   "execution_count": 1,
   "id": "c12164f3",
   "metadata": {},
   "outputs": [
    {
     "name": "stderr",
     "output_type": "stream",
     "text": [
      "/opt/anaconda3/lib/python3.11/site-packages/inFairness/utils/ndcg.py:37: FutureWarning: We've integrated functorch into PyTorch. As the final step of the integration, `functorch.vmap` is deprecated as of PyTorch 2.0 and will be deleted in a future version of PyTorch >= 2.3. Please use `torch.vmap` instead; see the PyTorch 2.0 release notes and/or the `torch.func` migration guide for more details https://pytorch.org/docs/main/func.migrating.html\n",
      "  vect_normalized_discounted_cumulative_gain = vmap(\n",
      "/opt/anaconda3/lib/python3.11/site-packages/inFairness/utils/ndcg.py:48: FutureWarning: We've integrated functorch into PyTorch. As the final step of the integration, `functorch.vmap` is deprecated as of PyTorch 2.0 and will be deleted in a future version of PyTorch >= 2.3. Please use `torch.vmap` instead; see the PyTorch 2.0 release notes and/or the `torch.func` migration guide for more details https://pytorch.org/docs/main/func.migrating.html\n",
      "  monte_carlo_vect_ndcg = vmap(vect_normalized_discounted_cumulative_gain, in_dims=(0,))\n"
     ]
    }
   ],
   "source": [
    "import sys\n",
    "import os\n",
    "\n",
    "project_root = os.path.abspath(os.path.join(os.getcwd(), \"../..\"))\n",
    "sys.path.insert(0, project_root)\n",
    "\n",
    "import pandas as pd\n",
    "from src.data_loading import load_compas_sex, load_compas_race\n",
    "from src.modeling import train_and_predict\n",
    "from src.metrics import compute_metrics\n",
    "\n",
    "from sklearn.model_selection import StratifiedShuffleSplit"
   ]
  },
  {
   "cell_type": "code",
   "execution_count": 3,
   "id": "0229a67a",
   "metadata": {},
   "outputs": [],
   "source": [
    "# 1) Retrieve data\n",
    "protected = 'race'\n",
    "privileged_value   = 1.0\n",
    "unprivileged_value = 0.0\n",
    "\n",
    "ds, df = load_compas_race()\n",
    "feature_cols = [c for c in df.columns if c not in ('label','race')]\n",
    "\n",
    "# 2) Run experiment, Evaluate\n",
    "sss = StratifiedShuffleSplit(n_splits=25, test_size=0.2, random_state=42)\n",
    "\n",
    "results = []\n",
    "for train_idx, test_idx in sss.split(df, df['label']):\n",
    "    test_df, y_test, y_pred = train_and_predict(\n",
    "        df, feature_cols, train_idx, test_idx\n",
    "    )\n",
    "    m = compute_metrics(test_df, y_test, y_pred, protected, privileged_value, unprivileged_value)\n",
    "    results.append(m)\n",
    "\n",
    "# 3) Aggregate results\n",
    "compas_race_metrics = pd.DataFrame(results)\n",
    "compas_race_metrics_agg = compas_race_metrics.agg(['mean', 'std'])"
   ]
  },
  {
   "cell_type": "code",
   "execution_count": 4,
   "id": "be33ba99",
   "metadata": {},
   "outputs": [
    {
     "data": {
      "text/html": [
       "<div>\n",
       "<style scoped>\n",
       "    .dataframe tbody tr th:only-of-type {\n",
       "        vertical-align: middle;\n",
       "    }\n",
       "\n",
       "    .dataframe tbody tr th {\n",
       "        vertical-align: top;\n",
       "    }\n",
       "\n",
       "    .dataframe thead th {\n",
       "        text-align: right;\n",
       "    }\n",
       "</style>\n",
       "<table border=\"1\" class=\"dataframe\">\n",
       "  <thead>\n",
       "    <tr style=\"text-align: right;\">\n",
       "      <th></th>\n",
       "      <th>accuracy</th>\n",
       "      <th>f1_score</th>\n",
       "      <th>SPD</th>\n",
       "      <th>DI</th>\n",
       "      <th>EOD</th>\n",
       "      <th>AOD</th>\n",
       "    </tr>\n",
       "  </thead>\n",
       "  <tbody>\n",
       "    <tr>\n",
       "      <th>mean</th>\n",
       "      <td>0.673070</td>\n",
       "      <td>0.597067</td>\n",
       "      <td>0.179721</td>\n",
       "      <td>1.749589</td>\n",
       "      <td>0.208976</td>\n",
       "      <td>0.159877</td>\n",
       "    </tr>\n",
       "    <tr>\n",
       "      <th>std</th>\n",
       "      <td>0.010989</td>\n",
       "      <td>0.012907</td>\n",
       "      <td>0.024342</td>\n",
       "      <td>0.143759</td>\n",
       "      <td>0.038348</td>\n",
       "      <td>0.023623</td>\n",
       "    </tr>\n",
       "  </tbody>\n",
       "</table>\n",
       "</div>"
      ],
      "text/plain": [
       "      accuracy  f1_score       SPD        DI       EOD       AOD\n",
       "mean  0.673070  0.597067  0.179721  1.749589  0.208976  0.159877\n",
       "std   0.010989  0.012907  0.024342  0.143759  0.038348  0.023623"
      ]
     },
     "execution_count": 4,
     "metadata": {},
     "output_type": "execute_result"
    }
   ],
   "source": [
    "compas_race_metrics_agg"
   ]
  },
  {
   "cell_type": "code",
   "execution_count": 5,
   "id": "f9530e0a",
   "metadata": {},
   "outputs": [],
   "source": [
    "# 1) Retrieve data\n",
    "protected = 'sex'\n",
    "privileged_value   = 1.0\n",
    "unprivileged_value = 0.0\n",
    "\n",
    "ds, df = load_compas_sex()\n",
    "feature_cols = [c for c in df.columns if c not in ('label','sex')]\n",
    "\n",
    "# 2) Run experiment, Evaluate\n",
    "sss = StratifiedShuffleSplit(n_splits=25, test_size=0.2, random_state=42)\n",
    "\n",
    "results = []\n",
    "for train_idx, test_idx in sss.split(df, df['label']):\n",
    "    test_df, y_test, y_pred = train_and_predict(\n",
    "        df, feature_cols, train_idx, test_idx\n",
    "    )\n",
    "    m = compute_metrics(test_df, y_test, y_pred, protected, privileged_value, unprivileged_value)\n",
    "    results.append(m)\n",
    "\n",
    "# 3) Aggregate results\n",
    "compas_sex_metrics = pd.DataFrame(results)\n",
    "compas_sex_metrics_agg = compas_sex_metrics.agg(['mean', 'std'])"
   ]
  },
  {
   "cell_type": "code",
   "execution_count": 6,
   "id": "2bb04b94",
   "metadata": {},
   "outputs": [
    {
     "data": {
      "text/html": [
       "<div>\n",
       "<style scoped>\n",
       "    .dataframe tbody tr th:only-of-type {\n",
       "        vertical-align: middle;\n",
       "    }\n",
       "\n",
       "    .dataframe tbody tr th {\n",
       "        vertical-align: top;\n",
       "    }\n",
       "\n",
       "    .dataframe thead th {\n",
       "        text-align: right;\n",
       "    }\n",
       "</style>\n",
       "<table border=\"1\" class=\"dataframe\">\n",
       "  <thead>\n",
       "    <tr style=\"text-align: right;\">\n",
       "      <th></th>\n",
       "      <th>accuracy</th>\n",
       "      <th>f1_score</th>\n",
       "      <th>SPD</th>\n",
       "      <th>DI</th>\n",
       "      <th>EOD</th>\n",
       "      <th>AOD</th>\n",
       "    </tr>\n",
       "  </thead>\n",
       "  <tbody>\n",
       "    <tr>\n",
       "      <th>mean</th>\n",
       "      <td>0.674428</td>\n",
       "      <td>0.60112</td>\n",
       "      <td>-0.284143</td>\n",
       "      <td>0.325303</td>\n",
       "      <td>-0.330735</td>\n",
       "      <td>-0.263446</td>\n",
       "    </tr>\n",
       "    <tr>\n",
       "      <th>std</th>\n",
       "      <td>0.010717</td>\n",
       "      <td>0.01307</td>\n",
       "      <td>0.030890</td>\n",
       "      <td>0.059146</td>\n",
       "      <td>0.055995</td>\n",
       "      <td>0.034357</td>\n",
       "    </tr>\n",
       "  </tbody>\n",
       "</table>\n",
       "</div>"
      ],
      "text/plain": [
       "      accuracy  f1_score       SPD        DI       EOD       AOD\n",
       "mean  0.674428   0.60112 -0.284143  0.325303 -0.330735 -0.263446\n",
       "std   0.010717   0.01307  0.030890  0.059146  0.055995  0.034357"
      ]
     },
     "execution_count": 6,
     "metadata": {},
     "output_type": "execute_result"
    }
   ],
   "source": [
    "compas_sex_metrics_agg"
   ]
  },
  {
   "cell_type": "code",
   "execution_count": null,
   "id": "90adb901",
   "metadata": {},
   "outputs": [],
   "source": []
  }
 ],
 "metadata": {
  "kernelspec": {
   "display_name": "base",
   "language": "python",
   "name": "python3"
  },
  "language_info": {
   "codemirror_mode": {
    "name": "ipython",
    "version": 3
   },
   "file_extension": ".py",
   "mimetype": "text/x-python",
   "name": "python",
   "nbconvert_exporter": "python",
   "pygments_lexer": "ipython3",
   "version": "3.11.7"
  }
 },
 "nbformat": 4,
 "nbformat_minor": 5
}
