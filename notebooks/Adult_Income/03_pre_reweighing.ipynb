{
 "cells": [
  {
   "cell_type": "markdown",
   "id": "c8d0a579",
   "metadata": {},
   "source": [
    "## Preprocessing - Reweighing -  Adult Model\n",
    "- for 'sex' and 'race'"
   ]
  },
  {
   "cell_type": "code",
   "execution_count": 1,
   "id": "b92f3d78",
   "metadata": {},
   "outputs": [
    {
     "name": "stderr",
     "output_type": "stream",
     "text": [
      "/opt/anaconda3/lib/python3.11/site-packages/inFairness/utils/ndcg.py:37: FutureWarning: We've integrated functorch into PyTorch. As the final step of the integration, `functorch.vmap` is deprecated as of PyTorch 2.0 and will be deleted in a future version of PyTorch >= 2.3. Please use `torch.vmap` instead; see the PyTorch 2.0 release notes and/or the `torch.func` migration guide for more details https://pytorch.org/docs/main/func.migrating.html\n",
      "  vect_normalized_discounted_cumulative_gain = vmap(\n",
      "/opt/anaconda3/lib/python3.11/site-packages/inFairness/utils/ndcg.py:48: FutureWarning: We've integrated functorch into PyTorch. As the final step of the integration, `functorch.vmap` is deprecated as of PyTorch 2.0 and will be deleted in a future version of PyTorch >= 2.3. Please use `torch.vmap` instead; see the PyTorch 2.0 release notes and/or the `torch.func` migration guide for more details https://pytorch.org/docs/main/func.migrating.html\n",
      "  monte_carlo_vect_ndcg = vmap(vect_normalized_discounted_cumulative_gain, in_dims=(0,))\n"
     ]
    }
   ],
   "source": [
    "import sys\n",
    "import os\n",
    "\n",
    "project_root = os.path.abspath(os.path.join(os.getcwd(), \"../..\"))\n",
    "sys.path.insert(0, project_root)\n",
    "\n",
    "import pandas as pd\n",
    "from src.data_loading import load_adult_race, load_adult_sex\n",
    "from src.modeling import reweighing_train_and_predict\n",
    "from src.metrics import compute_metrics, viz_metrics_2x3, compare_viz_metrics_2x3\n",
    "\n",
    "from sklearn.model_selection import StratifiedShuffleSplit"
   ]
  },
  {
   "cell_type": "markdown",
   "id": "5a7ea586",
   "metadata": {},
   "source": [
    "## Build up the function using sex"
   ]
  },
  {
   "cell_type": "code",
   "execution_count": 2,
   "id": "74014b77",
   "metadata": {},
   "outputs": [],
   "source": [
    "import pandas as pd\n",
    "from aif360.algorithms.preprocessing import Reweighing\n",
    "from src.modeling import get_default_model_pipeline\n",
    "\n",
    "ds, df = load_adult_sex()\n",
    "protected         = 'sex'\n",
    "privileged_value   = 1.0\n",
    "unprivileged_value = 0.0\n",
    "\n",
    "feature_cols = [c for c in df.columns if c not in (protected, 'label', 'sex', 'fnlwgt')]\n",
    "\n",
    "sss = StratifiedShuffleSplit(n_splits=25, test_size=0.2, random_state=42)\n",
    "results = []\n",
    "\n",
    "for train_idx, test_idx in sss.split(df, df['label']):\n",
    "    train_bld = ds.subset(train_idx)\n",
    "    test_bld  = ds.subset(test_idx)\n",
    "\n",
    "    # Fit & apply REWEIGHING on the training split only\n",
    "    rw = Reweighing(\n",
    "        unprivileged_groups=[{protected: unprivileged_value}],\n",
    "        privileged_groups=[{protected:   privileged_value}]\n",
    "    )\n",
    "    rw.fit(train_bld)\n",
    "    train_transf = rw.transform(train_bld)\n",
    "\n",
    "    X_tr = train_transf.features\n",
    "    y_tr = train_transf.labels.ravel()\n",
    "    w_tr = train_transf.instance_weights.ravel()\n",
    "\n",
    "    X_te = test_bld.features\n",
    "    y_te = test_bld.labels.ravel()\n",
    "\n",
    "    # Train with sample_weight = fnlwgt * reweigh_factor (for adult dataset)\n",
    "    pipe = get_default_model_pipeline()\n",
    "    pipe.fit(X_tr, y_tr, clf__sample_weight=w_tr)\n",
    "\n",
    "    y_pred = pipe.predict(X_te)\n",
    "    test_df = df.iloc[test_idx]\n",
    "    \n",
    "    m = compute_metrics(\n",
    "        test_df, y_te, y_pred,\n",
    "        protected, privileged_value, unprivileged_value\n",
    "    )\n",
    "    results.append(m)\n",
    "\n",
    "adult_sex_metrics = pd.DataFrame(results)\n",
    "adult_sex_metrics_agg = adult_sex_metrics.agg(['mean', 'std'])"
   ]
  },
  {
   "cell_type": "code",
   "execution_count": 3,
   "id": "aae12b60",
   "metadata": {},
   "outputs": [
    {
     "data": {
      "text/html": [
       "<div>\n",
       "<style scoped>\n",
       "    .dataframe tbody tr th:only-of-type {\n",
       "        vertical-align: middle;\n",
       "    }\n",
       "\n",
       "    .dataframe tbody tr th {\n",
       "        vertical-align: top;\n",
       "    }\n",
       "\n",
       "    .dataframe thead th {\n",
       "        text-align: right;\n",
       "    }\n",
       "</style>\n",
       "<table border=\"1\" class=\"dataframe\">\n",
       "  <thead>\n",
       "    <tr style=\"text-align: right;\">\n",
       "      <th></th>\n",
       "      <th>accuracy</th>\n",
       "      <th>f1_score</th>\n",
       "      <th>SPD</th>\n",
       "      <th>DI</th>\n",
       "      <th>EOD</th>\n",
       "      <th>AOD</th>\n",
       "    </tr>\n",
       "  </thead>\n",
       "  <tbody>\n",
       "    <tr>\n",
       "      <th>mean</th>\n",
       "      <td>0.845065</td>\n",
       "      <td>0.638245</td>\n",
       "      <td>-0.089908</td>\n",
       "      <td>0.589545</td>\n",
       "      <td>0.137647</td>\n",
       "      <td>0.060430</td>\n",
       "    </tr>\n",
       "    <tr>\n",
       "      <th>std</th>\n",
       "      <td>0.002639</td>\n",
       "      <td>0.005547</td>\n",
       "      <td>0.008698</td>\n",
       "      <td>0.034020</td>\n",
       "      <td>0.025841</td>\n",
       "      <td>0.014497</td>\n",
       "    </tr>\n",
       "  </tbody>\n",
       "</table>\n",
       "</div>"
      ],
      "text/plain": [
       "      accuracy  f1_score       SPD        DI       EOD       AOD\n",
       "mean  0.845065  0.638245 -0.089908  0.589545  0.137647  0.060430\n",
       "std   0.002639  0.005547  0.008698  0.034020  0.025841  0.014497"
      ]
     },
     "execution_count": 3,
     "metadata": {},
     "output_type": "execute_result"
    }
   ],
   "source": [
    "adult_sex_metrics_agg"
   ]
  },
  {
   "cell_type": "markdown",
   "id": "557d2719",
   "metadata": {},
   "source": [
    "## Sex"
   ]
  },
  {
   "cell_type": "code",
   "execution_count": null,
   "id": "72073a0e",
   "metadata": {},
   "outputs": [],
   "source": [
    "\n",
    "protected         = 'sex'\n",
    "privileged_value   = 1.0\n",
    "unprivileged_value = 0.0\n",
    "\n",
    "ad, df = load_adult_sex()\n",
    "feature_cols = [c for c in df.columns if c not in (protected, 'label', 'sex', 'fnlwgt')]\n",
    "\n",
    "# 1) Set up 25-fold stratified CV\n",
    "sss = StratifiedShuffleSplit(n_splits=25, test_size=0.2, random_state=42)\n",
    "results = []\n",
    "\n",
    "for train_idx, test_idx in sss.split(df, df['label']):\n",
    "    test_df, y_test, y_pred = reweighing_train_and_predict(\n",
    "        ad, df,\n",
    "        train_idx, test_idx,\n",
    "        protected, privileged_value, unprivileged_value\n",
    "    )\n",
    "    m = compute_metrics(\n",
    "        test_df, y_test, y_pred,\n",
    "        protected, privileged_value, unprivileged_value\n",
    "    )\n",
    "    results.append(m)\n",
    "\n",
    "adult_sex_metrics = pd.DataFrame(results)\n",
    "adult_sex_metrics_agg = adult_sex_metrics.agg(['mean', 'std'])"
   ]
  },
  {
   "cell_type": "code",
   "execution_count": 5,
   "id": "36b5363a",
   "metadata": {},
   "outputs": [
    {
     "data": {
      "text/html": [
       "<div>\n",
       "<style scoped>\n",
       "    .dataframe tbody tr th:only-of-type {\n",
       "        vertical-align: middle;\n",
       "    }\n",
       "\n",
       "    .dataframe tbody tr th {\n",
       "        vertical-align: top;\n",
       "    }\n",
       "\n",
       "    .dataframe thead th {\n",
       "        text-align: right;\n",
       "    }\n",
       "</style>\n",
       "<table border=\"1\" class=\"dataframe\">\n",
       "  <thead>\n",
       "    <tr style=\"text-align: right;\">\n",
       "      <th></th>\n",
       "      <th>accuracy</th>\n",
       "      <th>f1_score</th>\n",
       "      <th>SPD</th>\n",
       "      <th>DI</th>\n",
       "      <th>EOD</th>\n",
       "      <th>AOD</th>\n",
       "    </tr>\n",
       "  </thead>\n",
       "  <tbody>\n",
       "    <tr>\n",
       "      <th>mean</th>\n",
       "      <td>0.845065</td>\n",
       "      <td>0.638245</td>\n",
       "      <td>-0.089908</td>\n",
       "      <td>0.589545</td>\n",
       "      <td>0.137647</td>\n",
       "      <td>0.060430</td>\n",
       "    </tr>\n",
       "    <tr>\n",
       "      <th>std</th>\n",
       "      <td>0.002639</td>\n",
       "      <td>0.005547</td>\n",
       "      <td>0.008698</td>\n",
       "      <td>0.034020</td>\n",
       "      <td>0.025841</td>\n",
       "      <td>0.014497</td>\n",
       "    </tr>\n",
       "  </tbody>\n",
       "</table>\n",
       "</div>"
      ],
      "text/plain": [
       "      accuracy  f1_score       SPD        DI       EOD       AOD\n",
       "mean  0.845065  0.638245 -0.089908  0.589545  0.137647  0.060430\n",
       "std   0.002639  0.005547  0.008698  0.034020  0.025841  0.014497"
      ]
     },
     "execution_count": 5,
     "metadata": {},
     "output_type": "execute_result"
    }
   ],
   "source": [
    "adult_sex_metrics_agg"
   ]
  },
  {
   "cell_type": "markdown",
   "id": "c61fe4c5",
   "metadata": {},
   "source": [
    "## Race"
   ]
  },
  {
   "cell_type": "code",
   "execution_count": 7,
   "id": "adf1f34e",
   "metadata": {},
   "outputs": [],
   "source": [
    "# 1) Retrieve data\n",
    "protected = 'race'\n",
    "privileged_value   = 1.0\n",
    "unprivileged_value = 0.0\n",
    "\n",
    "ad, df = load_adult_race()\n",
    "feature_cols = [c for c in df.columns if c not in ('label','race')]\n",
    "\n",
    "# 2) Run experiment, Evaluate\n",
    "sss = StratifiedShuffleSplit(n_splits=25, test_size=0.2, random_state=42)\n",
    "\n",
    "results = []\n",
    "for train_idx, test_idx in sss.split(df, df['label']):\n",
    "    test_df, y_test, y_pred = reweighing_train_and_predict(\n",
    "        ad, df,\n",
    "        train_idx, test_idx,\n",
    "        protected, privileged_value, unprivileged_value\n",
    "    )\n",
    "    m = compute_metrics(\n",
    "        test_df, y_test, y_pred,\n",
    "        protected, privileged_value, unprivileged_value\n",
    "    )\n",
    "    results.append(m)\n",
    "\n",
    "# 3) Aggregate results\n",
    "adult_race_metrics = pd.DataFrame(results)\n",
    "adult_race_metrics_agg = adult_race_metrics.agg(['mean', 'std'])"
   ]
  },
  {
   "cell_type": "code",
   "execution_count": 8,
   "id": "df9d9415",
   "metadata": {},
   "outputs": [
    {
     "data": {
      "text/html": [
       "<div>\n",
       "<style scoped>\n",
       "    .dataframe tbody tr th:only-of-type {\n",
       "        vertical-align: middle;\n",
       "    }\n",
       "\n",
       "    .dataframe tbody tr th {\n",
       "        vertical-align: top;\n",
       "    }\n",
       "\n",
       "    .dataframe thead th {\n",
       "        text-align: right;\n",
       "    }\n",
       "</style>\n",
       "<table border=\"1\" class=\"dataframe\">\n",
       "  <thead>\n",
       "    <tr style=\"text-align: right;\">\n",
       "      <th></th>\n",
       "      <th>accuracy</th>\n",
       "      <th>f1_score</th>\n",
       "      <th>SPD</th>\n",
       "      <th>DI</th>\n",
       "      <th>EOD</th>\n",
       "      <th>AOD</th>\n",
       "    </tr>\n",
       "  </thead>\n",
       "  <tbody>\n",
       "    <tr>\n",
       "      <th>mean</th>\n",
       "      <td>0.850282</td>\n",
       "      <td>0.658243</td>\n",
       "      <td>-0.048371</td>\n",
       "      <td>0.765315</td>\n",
       "      <td>0.055862</td>\n",
       "      <td>0.025568</td>\n",
       "    </tr>\n",
       "    <tr>\n",
       "      <th>std</th>\n",
       "      <td>0.002672</td>\n",
       "      <td>0.006229</td>\n",
       "      <td>0.008595</td>\n",
       "      <td>0.038734</td>\n",
       "      <td>0.031349</td>\n",
       "      <td>0.015739</td>\n",
       "    </tr>\n",
       "  </tbody>\n",
       "</table>\n",
       "</div>"
      ],
      "text/plain": [
       "      accuracy  f1_score       SPD        DI       EOD       AOD\n",
       "mean  0.850282  0.658243 -0.048371  0.765315  0.055862  0.025568\n",
       "std   0.002672  0.006229  0.008595  0.038734  0.031349  0.015739"
      ]
     },
     "execution_count": 8,
     "metadata": {},
     "output_type": "execute_result"
    }
   ],
   "source": [
    "adult_race_metrics_agg"
   ]
  },
  {
   "cell_type": "code",
   "execution_count": null,
   "id": "87ae44fe",
   "metadata": {},
   "outputs": [],
   "source": []
  }
 ],
 "metadata": {
  "kernelspec": {
   "display_name": "base",
   "language": "python",
   "name": "python3"
  },
  "language_info": {
   "codemirror_mode": {
    "name": "ipython",
    "version": 3
   },
   "file_extension": ".py",
   "mimetype": "text/x-python",
   "name": "python",
   "nbconvert_exporter": "python",
   "pygments_lexer": "ipython3",
   "version": "3.11.7"
  }
 },
 "nbformat": 4,
 "nbformat_minor": 5
}
