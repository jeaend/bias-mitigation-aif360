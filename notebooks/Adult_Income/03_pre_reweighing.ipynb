{
 "cells": [
  {
   "cell_type": "markdown",
   "id": "c8d0a579",
   "metadata": {},
   "source": [
    "## Preprocessing - Reweighing -  Adult Model\n",
    "- for 'sex' and 'race'"
   ]
  },
  {
   "cell_type": "code",
   "execution_count": 13,
   "id": "b92f3d78",
   "metadata": {},
   "outputs": [],
   "source": [
    "import sys\n",
    "import os\n",
    "\n",
    "project_root = os.path.abspath(os.path.join(os.getcwd(), \"../..\"))\n",
    "sys.path.insert(0, project_root)\n",
    "\n",
    "import pandas as pd\n",
    "from src.data_loading import load_adult_race, load_adult_sex\n",
    "from src.modeling import train_and_predict\n",
    "from src.metrics import compute_metrics, viz_metrics_2x3, compare_viz_metrics_2x3\n",
    "\n",
    "from sklearn.model_selection import StratifiedShuffleSplit"
   ]
  },
  {
   "cell_type": "markdown",
   "id": "5a7ea586",
   "metadata": {},
   "source": [
    "## Sex"
   ]
  },
  {
   "cell_type": "code",
   "execution_count": null,
   "id": "74014b77",
   "metadata": {},
   "outputs": [
    {
     "name": "stdout",
     "output_type": "stream",
     "text": [
      "      accuracy  f1_score       SPD        DI       EOD       AOD\n",
      "mean  0.845065  0.638245 -0.089908  0.589545  0.137647  0.060430\n",
      "std   0.002639  0.005547  0.008698  0.034020  0.025841  0.014497\n"
     ]
    }
   ],
   "source": [
    "import pandas as pd\n",
    "from aif360.algorithms.preprocessing import Reweighing\n",
    "from sklearn.pipeline import Pipeline\n",
    "from sklearn.preprocessing import RobustScaler\n",
    "from sklearn.linear_model import LogisticRegression\n",
    "from sklearn.model_selection import StratifiedShuffleSplit\n",
    "from src.modeling import get_default_model_pipeline\n",
    "\n",
    "# 0) Load the preprocessed AIF360 Adult dataset + numeric DataFrame\n",
    "ds, df = load_adult_sex()\n",
    "protected         = 'sex'\n",
    "privileged_value   = 1.0\n",
    "unprivileged_value = 0.0\n",
    "\n",
    "# drop label, protected, and fnlwgt from your features\n",
    "feature_cols = [c for c in df.columns if c not in (protected, 'label', 'sex', 'fnlwgt')]\n",
    "\n",
    "# 1) Set up 25-fold stratified CV\n",
    "sss = StratifiedShuffleSplit(n_splits=25, test_size=0.2, random_state=42)\n",
    "results = []\n",
    "\n",
    "for train_idx, test_idx in sss.split(df, df['label']):\n",
    "    train_bld = ds.subset(train_idx)\n",
    "    test_bld  = ds.subset(test_idx)\n",
    "\n",
    "    # 3) Fit & apply REWEIGHING on the training split only\n",
    "    rw = Reweighing(\n",
    "        unprivileged_groups=[{protected: unprivileged_value}],\n",
    "        privileged_groups=[{protected:   privileged_value}]\n",
    "    )\n",
    "    rw.fit(train_bld)\n",
    "    train_transf = rw.transform(train_bld)\n",
    "\n",
    "    X_tr = train_transf.features\n",
    "    y_tr = train_transf.labels.ravel()\n",
    "    w_tr = train_transf.instance_weights.ravel()\n",
    "\n",
    "    X_te = test_bld.features\n",
    "    y_te = test_bld.labels.ravel()\n",
    "\n",
    "    # 5) Train with sample_weight = fnlwgt * reweigh_factor (for adult dataset)\n",
    "    pipe = get_default_model_pipeline()\n",
    "    pipe.fit(X_tr, y_tr, clf__sample_weight=w_tr)\n",
    "\n",
    "    y_pred = pipe.predict(X_te)\n",
    "    test_df = df.iloc[test_idx]\n",
    "    \n",
    "    m = compute_metrics(\n",
    "        test_df, y_te, y_pred,\n",
    "        protected, privileged_value, unprivileged_value\n",
    "    )\n",
    "    results.append(m)\n",
    "\n",
    "adult_sex_metrics = pd.DataFrame(results)\n",
    "adult_sex_metrics_agg = adult_sex_metrics.agg(['mean', 'std'])"
   ]
  },
  {
   "cell_type": "markdown",
   "id": "557d2719",
   "metadata": {},
   "source": [
    "## Race"
   ]
  },
  {
   "cell_type": "code",
   "execution_count": 2,
   "id": "adf1f34e",
   "metadata": {},
   "outputs": [],
   "source": [
    "# 1) Retrieve data\n",
    "protected = 'race'\n",
    "privileged_value   = 1.0\n",
    "unprivileged_value = 0.0\n",
    "\n",
    "ad, df = load_adult_race()\n",
    "feature_cols = [c for c in df.columns if c not in ('label','race')]\n",
    "\n",
    "# 2) Run experiment, Evaluate\n",
    "sss = StratifiedShuffleSplit(n_splits=25, test_size=0.2, random_state=42)\n",
    "\n",
    "results = []\n",
    "for train_idx, test_idx in sss.split(df, df['label']):\n",
    "    test_df, y_test, y_pred = train_and_predict(\n",
    "        df, feature_cols, train_idx, test_idx\n",
    "    )\n",
    "    m = compute_metrics(test_df, y_test, y_pred, protected, privileged_value, unprivileged_value)\n",
    "    results.append(m)\n",
    "\n",
    "# 3) Aggregate results\n",
    "adult_race_metrics = pd.DataFrame(results)\n",
    "adult_race_metrics_agg = adult_race_metrics.agg(['mean', 'std'])"
   ]
  },
  {
   "cell_type": "code",
   "execution_count": 3,
   "id": "df9d9415",
   "metadata": {},
   "outputs": [
    {
     "data": {
      "text/html": [
       "<div>\n",
       "<style scoped>\n",
       "    .dataframe tbody tr th:only-of-type {\n",
       "        vertical-align: middle;\n",
       "    }\n",
       "\n",
       "    .dataframe tbody tr th {\n",
       "        vertical-align: top;\n",
       "    }\n",
       "\n",
       "    .dataframe thead th {\n",
       "        text-align: right;\n",
       "    }\n",
       "</style>\n",
       "<table border=\"1\" class=\"dataframe\">\n",
       "  <thead>\n",
       "    <tr style=\"text-align: right;\">\n",
       "      <th></th>\n",
       "      <th>accuracy</th>\n",
       "      <th>f1_score</th>\n",
       "      <th>SPD</th>\n",
       "      <th>DI</th>\n",
       "      <th>EOD</th>\n",
       "      <th>AOD</th>\n",
       "    </tr>\n",
       "  </thead>\n",
       "  <tbody>\n",
       "    <tr>\n",
       "      <th>mean</th>\n",
       "      <td>0.850605</td>\n",
       "      <td>0.656032</td>\n",
       "      <td>-0.084891</td>\n",
       "      <td>0.590458</td>\n",
       "      <td>-0.047565</td>\n",
       "      <td>-0.038272</td>\n",
       "    </tr>\n",
       "    <tr>\n",
       "      <th>std</th>\n",
       "      <td>0.002979</td>\n",
       "      <td>0.005996</td>\n",
       "      <td>0.005642</td>\n",
       "      <td>0.025659</td>\n",
       "      <td>0.022491</td>\n",
       "      <td>0.010729</td>\n",
       "    </tr>\n",
       "  </tbody>\n",
       "</table>\n",
       "</div>"
      ],
      "text/plain": [
       "      accuracy  f1_score       SPD        DI       EOD       AOD\n",
       "mean  0.850605  0.656032 -0.084891  0.590458 -0.047565 -0.038272\n",
       "std   0.002979  0.005996  0.005642  0.025659  0.022491  0.010729"
      ]
     },
     "execution_count": 3,
     "metadata": {},
     "output_type": "execute_result"
    }
   ],
   "source": [
    "adult_race_metrics_agg"
   ]
  },
  {
   "cell_type": "code",
   "execution_count": null,
   "id": "87ae44fe",
   "metadata": {},
   "outputs": [],
   "source": []
  }
 ],
 "metadata": {
  "kernelspec": {
   "display_name": "base",
   "language": "python",
   "name": "python3"
  },
  "language_info": {
   "codemirror_mode": {
    "name": "ipython",
    "version": 3
   },
   "file_extension": ".py",
   "mimetype": "text/x-python",
   "name": "python",
   "nbconvert_exporter": "python",
   "pygments_lexer": "ipython3",
   "version": "3.11.7"
  }
 },
 "nbformat": 4,
 "nbformat_minor": 5
}
