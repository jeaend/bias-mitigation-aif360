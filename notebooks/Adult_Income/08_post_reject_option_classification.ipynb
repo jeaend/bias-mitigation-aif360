{
 "cells": [
  {
   "cell_type": "markdown",
   "id": "abc82712",
   "metadata": {},
   "source": [
    "## Postprocessing - Reject Option Classification - Adult Model\n",
    "- for 'sex' and 'race'"
   ]
  },
  {
   "cell_type": "code",
   "execution_count": 1,
   "id": "7e1bf050",
   "metadata": {},
   "outputs": [
    {
     "name": "stderr",
     "output_type": "stream",
     "text": [
      "/opt/anaconda3/lib/python3.11/site-packages/inFairness/utils/ndcg.py:37: FutureWarning: We've integrated functorch into PyTorch. As the final step of the integration, `functorch.vmap` is deprecated as of PyTorch 2.0 and will be deleted in a future version of PyTorch >= 2.3. Please use `torch.vmap` instead; see the PyTorch 2.0 release notes and/or the `torch.func` migration guide for more details https://pytorch.org/docs/main/func.migrating.html\n",
      "  vect_normalized_discounted_cumulative_gain = vmap(\n",
      "/opt/anaconda3/lib/python3.11/site-packages/inFairness/utils/ndcg.py:48: FutureWarning: We've integrated functorch into PyTorch. As the final step of the integration, `functorch.vmap` is deprecated as of PyTorch 2.0 and will be deleted in a future version of PyTorch >= 2.3. Please use `torch.vmap` instead; see the PyTorch 2.0 release notes and/or the `torch.func` migration guide for more details https://pytorch.org/docs/main/func.migrating.html\n",
      "  monte_carlo_vect_ndcg = vmap(vect_normalized_discounted_cumulative_gain, in_dims=(0,))\n"
     ]
    }
   ],
   "source": [
    "import sys\n",
    "import os\n",
    "\n",
    "project_root = os.path.abspath(os.path.join(os.getcwd(), \"../..\"))\n",
    "sys.path.insert(0, project_root)\n",
    "\n",
    "import pandas as pd\n",
    "from src.data_loading import load_adult_sex, load_adult_race\n",
    "from src.modeling import reject_option_classification_train_and_predict\n",
    "from src.metrics import compute_metrics, compare_viz_metrics_2x3, save_agg_metrics, save_raw_metrics\n",
    "from sklearn.model_selection import StratifiedShuffleSplit\n",
    "\n",
    "%matplotlib inline\n",
    "import matplotlib\n",
    "matplotlib.use('module://matplotlib_inline.backend_inline')\n"
   ]
  },
  {
   "cell_type": "code",
   "execution_count": 2,
   "id": "ce5e9665",
   "metadata": {},
   "outputs": [],
   "source": [
    "dataset_name = 'adult'\n",
    "mitigation_name   = 'reject option classification'\n",
    "pipeline_stage    = 'postprocessing'  \n",
    "out_dir_plots    = '../../reports/plots_adult'"
   ]
  },
  {
   "cell_type": "code",
   "execution_count": 3,
   "id": "d479e657",
   "metadata": {},
   "outputs": [],
   "source": [
    "baseline_race_agg = pd.read_csv('../../reports/baseline_agg/adult_race_metrics_agg.csv', index_col=0)\n",
    "baseline_sex_agg = pd.read_csv('../../reports/baseline_agg/adult_sex_metrics_agg.csv', index_col=0)"
   ]
  },
  {
   "cell_type": "markdown",
   "id": "df061c01",
   "metadata": {},
   "source": [
    "--------------------------------------------------------------------------------------------------------------------------------------"
   ]
  },
  {
   "cell_type": "markdown",
   "id": "468bb5e5",
   "metadata": {},
   "source": [
    "## default Reject Option Classification, sex"
   ]
  },
  {
   "cell_type": "code",
   "execution_count": null,
   "id": "ddb5c366",
   "metadata": {},
   "outputs": [],
   "source": [
    "# 1) Load data\n",
    "protected          = 'sex'\n",
    "privileged_value   = 1.0\n",
    "unprivileged_value = 0.0\n",
    "\n",
    "ds, df = load_adult_sex()  \n",
    "feature_cols = [c for c in df.columns if c not in ('label', protected)]\n",
    "\n",
    "# 2) Run experiment and evaluate\n",
    "sss = StratifiedShuffleSplit(n_splits=25, test_size=0.2, random_state=42)\n",
    "\n",
    "results = []\n",
    "for train_idx, test_idx in sss.split(df, df['label']):\n",
    "    test_df, y_test, y_pred_post = reject_option_classification_train_and_predict(\n",
    "        df,\n",
    "        train_idx,\n",
    "        test_idx,\n",
    "        feature_cols,\n",
    "        protected,\n",
    "        privileged_value,\n",
    "        unprivileged_value\n",
    "    )\n",
    "\n",
    "    m = compute_metrics(\n",
    "        test_df, y_test, y_pred_post,\n",
    "        protected, privileged_value, unprivileged_value\n",
    "    )\n",
    "    results.append(m)\n",
    "\n",
    "# 3) Aggregate results\n",
    "adult_sex_metrics     = pd.DataFrame(results)\n",
    "adult_sex_metrics_agg = adult_sex_metrics.agg(['mean', 'std'])\n",
    "print(adult_sex_metrics_agg) "
   ]
  },
  {
   "cell_type": "code",
   "execution_count": null,
   "id": "d5e22c44",
   "metadata": {},
   "outputs": [],
   "source": [
    "plot_title = 'Adult Postprocessing Reject Option Classification: Baseline - Sex'\n",
    "fig = compare_viz_metrics_2x3(baseline_sex_agg, adult_sex_metrics_agg, 'Baseline', 'Sex', plot_title)\n",
    "fname    = plot_title.replace(' ', '_').replace('(', '').replace(')', '')\n",
    "out_path = os.path.join(out_dir_plots, f'{fname}.png')\n",
    "fig.savefig(out_path)\n",
    "fig.show()"
   ]
  },
  {
   "cell_type": "markdown",
   "id": "663fce26",
   "metadata": {},
   "source": [
    "## default  Reject Option Classification, race"
   ]
  },
  {
   "cell_type": "code",
   "execution_count": null,
   "id": "defac5a2",
   "metadata": {},
   "outputs": [],
   "source": [
    "# 1) Load data\n",
    "protected          = 'race'\n",
    "privileged_value   = 1.0\n",
    "unprivileged_value = 0.0\n",
    "\n",
    "ds, df = load_adult_race()  \n",
    "feature_cols = [c for c in df.columns if c not in ('label', protected)]\n",
    "\n",
    "# 2) Run experiment and evaluate\n",
    "sss = StratifiedShuffleSplit(n_splits=25, test_size=0.2, random_state=42)\n",
    "\n",
    "results = []\n",
    "for train_idx, test_idx in sss.split(df, df['label']):\n",
    "    test_df, y_test, y_pred_post = reject_option_classification_train_and_predict(\n",
    "        df,\n",
    "        train_idx,\n",
    "        test_idx,\n",
    "        feature_cols,\n",
    "        protected,\n",
    "        privileged_value,\n",
    "        unprivileged_value\n",
    "    )\n",
    "\n",
    "    m = compute_metrics(\n",
    "        test_df, y_test, y_pred_post,\n",
    "        protected, privileged_value, unprivileged_value\n",
    "    )\n",
    "    results.append(m)\n",
    "\n",
    "# 3) Aggregate results\n",
    "adult_race_metrics     = pd.DataFrame(results)\n",
    "adult_race_metrics_agg = adult_race_metrics.agg(['mean', 'std'])\n",
    "print(adult_race_metrics_agg)"
   ]
  },
  {
   "cell_type": "code",
   "execution_count": null,
   "id": "638d3f8e",
   "metadata": {},
   "outputs": [],
   "source": [
    "plot_title = 'Adult Postprocessing Reject Option Classification: Baseline - Race'\n",
    "fig = compare_viz_metrics_2x3(baseline_race_agg, adult_race_metrics_agg, 'Baseline', 'Race', plot_title)\n",
    "fname    = plot_title.replace(' ', '_').replace('(', '').replace(')', '')\n",
    "out_path = os.path.join(out_dir_plots, f'{fname}.png')\n",
    "fig.savefig(out_path)\n",
    "fig.show()"
   ]
  },
  {
   "cell_type": "markdown",
   "id": "f1b5f844",
   "metadata": {},
   "source": [
    "# -------------"
   ]
  },
  {
   "cell_type": "code",
   "execution_count": null,
   "id": "0e9bde94",
   "metadata": {},
   "outputs": [],
   "source": [
    "# 1) Save the aggregated metrics \n",
    "save_agg_metrics(\n",
    "    dataset_name      = dataset_name,\n",
    "    mitigation_name   = mitigation_name,\n",
    "    race_agg_df       = adult_race_metrics_agg,\n",
    "    sex_agg_df        = adult_sex_metrics_agg,\n",
    "    pipeline_stage    = pipeline_stage   \n",
    ")\n",
    "\n",
    "# 2) Save the raw metrics\n",
    "save_raw_metrics(\n",
    "    dataset_name      = dataset_name,\n",
    "    mitigation_name   = mitigation_name,\n",
    "    race_raw_df       = adult_race_metrics,\n",
    "    sex_raw_df        = adult_sex_metrics,\n",
    "    pipeline_stage    = pipeline_stage\n",
    ")"
   ]
  },
  {
   "cell_type": "code",
   "execution_count": null,
   "id": "6d1f9f7d",
   "metadata": {},
   "outputs": [],
   "source": []
  }
 ],
 "metadata": {
  "kernelspec": {
   "display_name": "base",
   "language": "python",
   "name": "python3"
  },
  "language_info": {
   "codemirror_mode": {
    "name": "ipython",
    "version": 3
   },
   "file_extension": ".py",
   "mimetype": "text/x-python",
   "name": "python",
   "nbconvert_exporter": "python",
   "pygments_lexer": "ipython3",
   "version": "3.11.7"
  }
 },
 "nbformat": 4,
 "nbformat_minor": 5
}
